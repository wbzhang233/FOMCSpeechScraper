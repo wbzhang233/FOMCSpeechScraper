{
 "cells": [
  {
   "cell_type": "markdown",
   "metadata": {},
   "source": [
    "# 演讲数据清洗 Speeches Clearner\n",
    "\n"
   ]
  },
  {
   "cell_type": "code",
   "execution_count": 2,
   "metadata": {},
   "outputs": [],
   "source": [
    "import os\n",
    "import sys\n",
    "sys.path.append(\"../data/fed_speeches\")\n",
    "sys.path.append(\"..\")\n",
    "sys.path.append(\"../..\")\n",
    "\n",
    "\n",
    "import glob\n",
    "import pandas as pd\n",
    "\n",
    "from utils.file_saver import json_dump, json_load, json_update, sort_speeches_dict, sort_speeches_records\n",
    "\n",
    "DATASET_PATH = \"../data/fed_speeches\""
   ]
  },
  {
   "cell_type": "code",
   "execution_count": 3,
   "metadata": {},
   "outputs": [
    {
     "name": "stdout",
     "output_type": "stream",
     "text": [
      "['../data/fed_speeches\\\\atlanta_fed_speeches', '../data/fed_speeches\\\\bog_fed_speeches', '../data/fed_speeches\\\\boston_fed_speeches', '../data/fed_speeches\\\\chicago_fed_speeches', '../data/fed_speeches\\\\cleveland_fed_speeches', '../data/fed_speeches\\\\dallas_fed_speeches', '../data/fed_speeches\\\\kansascity_fed_speeches', '../data/fed_speeches\\\\minneapolis_fed_speeches', '../data/fed_speeches\\\\newyork_fed_speeches', '../data/fed_speeches\\\\philadelphia_fed_speeches', '../data/fed_speeches\\\\richmond_fed_speeches', '../data/fed_speeches\\\\sanfrancisco_fed_speeches', '../data/fed_speeches\\\\stlouis_fed_speeches']\n"
     ]
    }
   ],
   "source": [
    "speech_dirs = glob.glob(os.path.join(DATASET_PATH + \"/\", \"*_fed_speeches\"))\n",
    "print(speech_dirs)"
   ]
  },
  {
   "cell_type": "code",
   "execution_count": 15,
   "metadata": {},
   "outputs": [
    {
     "data": {
      "text/plain": [
       "['2010', '2016', '2017']"
      ]
     },
     "execution_count": 15,
     "metadata": {},
     "output_type": "execute_result"
    }
   ],
   "source": [
    "sorted(['2016', '2017', '2010'])"
   ]
  },
  {
   "cell_type": "code",
   "execution_count": 14,
   "metadata": {},
   "outputs": [
    {
     "name": "stdout",
     "output_type": "stream",
     "text": [
      "../data/fed_speeches/atlanta_fed_speeches\\atlanta_failed_speech_infos.json\n",
      "../data/fed_speeches/atlanta_fed_speeches\\atlanta_speeches.json\n",
      "../data/fed_speeches/atlanta_fed_speeches\\atlanta_speeches_1995.json\n",
      "../data/fed_speeches/atlanta_fed_speeches\\atlanta_speeches_1996.json\n",
      "../data/fed_speeches/atlanta_fed_speeches\\atlanta_speeches_1997.json\n",
      "../data/fed_speeches/atlanta_fed_speeches\\atlanta_speeches_1998.json\n",
      "../data/fed_speeches/atlanta_fed_speeches\\atlanta_speeches_1999.json\n",
      "../data/fed_speeches/atlanta_fed_speeches\\atlanta_speeches_2000.json\n",
      "../data/fed_speeches/atlanta_fed_speeches\\atlanta_speeches_2001.json\n",
      "../data/fed_speeches/atlanta_fed_speeches\\atlanta_speeches_2002.json\n",
      "../data/fed_speeches/atlanta_fed_speeches\\atlanta_speeches_2003.json\n",
      "../data/fed_speeches/atlanta_fed_speeches\\atlanta_speeches_2004.json\n",
      "../data/fed_speeches/atlanta_fed_speeches\\atlanta_speeches_2005.json\n",
      "../data/fed_speeches/atlanta_fed_speeches\\atlanta_speeches_2006.json\n",
      "../data/fed_speeches/atlanta_fed_speeches\\atlanta_speeches_2007.json\n",
      "../data/fed_speeches/atlanta_fed_speeches\\atlanta_speeches_2008.json\n",
      "../data/fed_speeches/atlanta_fed_speeches\\atlanta_speeches_2009.json\n",
      "../data/fed_speeches/atlanta_fed_speeches\\atlanta_speeches_2010.json\n",
      "../data/fed_speeches/atlanta_fed_speeches\\atlanta_speeches_2011.json\n",
      "../data/fed_speeches/atlanta_fed_speeches\\atlanta_speeches_2012.json\n",
      "../data/fed_speeches/atlanta_fed_speeches\\atlanta_speeches_2013.json\n",
      "../data/fed_speeches/atlanta_fed_speeches\\atlanta_speeches_2014.json\n",
      "../data/fed_speeches/atlanta_fed_speeches\\atlanta_speeches_2015.json\n"
     ]
    },
    {
     "name": "stderr",
     "output_type": "stream",
     "text": [
      "2024-11-22 18:28:47,962 - speech_scraper - ERROR - Error occurred when sorting speech records. Error: KeyError('speaker')\n"
     ]
    },
    {
     "name": "stdout",
     "output_type": "stream",
     "text": [
      "../data/fed_speeches/atlanta_fed_speeches\\atlanta_speeches_2016.json\n",
      "../data/fed_speeches/atlanta_fed_speeches\\atlanta_speeches_2017.json\n",
      "../data/fed_speeches/atlanta_fed_speeches\\atlanta_speeches_2018.json\n",
      "../data/fed_speeches/atlanta_fed_speeches\\atlanta_speeches_2019.json\n",
      "../data/fed_speeches/atlanta_fed_speeches\\atlanta_speeches_2020.json\n",
      "../data/fed_speeches/atlanta_fed_speeches\\atlanta_speeches_2021.json\n",
      "../data/fed_speeches/atlanta_fed_speeches\\atlanta_speeches_2022.json\n",
      "../data/fed_speeches/atlanta_fed_speeches\\atlanta_speeches_2023.json\n",
      "../data/fed_speeches/atlanta_fed_speeches\\atlanta_speeches_2024.json\n",
      "../data/fed_speeches/atlanta_fed_speeches\\atlanta_speech_infos.json\n",
      "../data/fed_speeches/bog_fed_speeches\\bog_failed_speech_infos.json\n",
      "../data/fed_speeches/bog_fed_speeches\\bog_speeches.json\n"
     ]
    },
    {
     "name": "stderr",
     "output_type": "stream",
     "text": [
      "2024-11-22 18:28:49,434 - speech_scraper - ERROR - Error occurred when sorting speech records. Error: KeyError('speaker')\n"
     ]
    },
    {
     "name": "stdout",
     "output_type": "stream",
     "text": [
      "../data/fed_speeches/bog_fed_speeches\\bog_speeches_2006.json\n",
      "../data/fed_speeches/bog_fed_speeches\\bog_speeches_2007.json\n",
      "../data/fed_speeches/bog_fed_speeches\\bog_speeches_2008.json\n",
      "../data/fed_speeches/bog_fed_speeches\\bog_speeches_2009.json\n",
      "../data/fed_speeches/bog_fed_speeches\\bog_speeches_2010.json\n",
      "../data/fed_speeches/bog_fed_speeches\\bog_speeches_2011.json\n",
      "../data/fed_speeches/bog_fed_speeches\\bog_speeches_2012.json\n",
      "../data/fed_speeches/bog_fed_speeches\\bog_speeches_2013.json\n",
      "../data/fed_speeches/bog_fed_speeches\\bog_speeches_2014.json\n",
      "../data/fed_speeches/bog_fed_speeches\\bog_speeches_2015.json\n",
      "../data/fed_speeches/bog_fed_speeches\\bog_speeches_2016.json\n",
      "../data/fed_speeches/bog_fed_speeches\\bog_speeches_2017.json\n",
      "../data/fed_speeches/bog_fed_speeches\\bog_speeches_2018.json\n",
      "../data/fed_speeches/bog_fed_speeches\\bog_speeches_2019.json\n",
      "../data/fed_speeches/bog_fed_speeches\\bog_speeches_2020.json\n",
      "../data/fed_speeches/bog_fed_speeches\\bog_speeches_2021.json\n",
      "../data/fed_speeches/bog_fed_speeches\\bog_speeches_2022.json\n",
      "../data/fed_speeches/bog_fed_speeches\\bog_speeches_2023.json\n"
     ]
    },
    {
     "name": "stderr",
     "output_type": "stream",
     "text": [
      "2024-11-22 18:28:52,091 - speech_scraper - ERROR - Error occurred when sorting speech records. Error: KeyError('speaker')\n"
     ]
    },
    {
     "name": "stdout",
     "output_type": "stream",
     "text": [
      "../data/fed_speeches/bog_fed_speeches\\bog_speeches_2024.json\n",
      "../data/fed_speeches/bog_fed_speeches\\bog_speech_infos.json\n",
      "../data/fed_speeches/boston_fed_speeches\\boston_failed_speech_infos.json\n",
      "../data/fed_speeches/boston_fed_speeches\\boston_speeches.json\n",
      "../data/fed_speeches/boston_fed_speeches\\boston_speeches_2006.json\n",
      "../data/fed_speeches/boston_fed_speeches\\boston_speeches_2007.json\n",
      "../data/fed_speeches/boston_fed_speeches\\boston_speeches_2008.json\n",
      "../data/fed_speeches/boston_fed_speeches\\boston_speeches_2009.json\n",
      "../data/fed_speeches/boston_fed_speeches\\boston_speeches_2010.json\n",
      "../data/fed_speeches/boston_fed_speeches\\boston_speeches_2011.json\n",
      "../data/fed_speeches/boston_fed_speeches\\boston_speeches_2012.json\n",
      "../data/fed_speeches/boston_fed_speeches\\boston_speeches_2013.json\n",
      "../data/fed_speeches/boston_fed_speeches\\boston_speeches_2014.json\n",
      "../data/fed_speeches/boston_fed_speeches\\boston_speeches_2015.json\n",
      "../data/fed_speeches/boston_fed_speeches\\boston_speeches_2016.json\n",
      "../data/fed_speeches/boston_fed_speeches\\boston_speeches_2017.json\n",
      "../data/fed_speeches/boston_fed_speeches\\boston_speeches_2018.json\n",
      "../data/fed_speeches/boston_fed_speeches\\boston_speeches_2019.json\n",
      "../data/fed_speeches/boston_fed_speeches\\boston_speeches_2020.json\n",
      "../data/fed_speeches/boston_fed_speeches\\boston_speeches_2021.json\n",
      "../data/fed_speeches/boston_fed_speeches\\boston_speeches_2022.json\n",
      "../data/fed_speeches/boston_fed_speeches\\boston_speeches_2023.json\n",
      "../data/fed_speeches/boston_fed_speeches\\boston_speeches_2024.json\n",
      "../data/fed_speeches/boston_fed_speeches\\boston_speech_infos.json\n",
      "../data/fed_speeches/chicago_fed_speeches\\chicago_failed_speech_infos.json\n",
      "../data/fed_speeches/chicago_fed_speeches\\chicago_speeches.json\n",
      "../data/fed_speeches/chicago_fed_speeches\\chicago_speeches_2006.json\n",
      "../data/fed_speeches/chicago_fed_speeches\\chicago_speeches_2007.json\n",
      "../data/fed_speeches/chicago_fed_speeches\\chicago_speeches_2008.json\n",
      "../data/fed_speeches/chicago_fed_speeches\\chicago_speeches_2009.json\n",
      "../data/fed_speeches/chicago_fed_speeches\\chicago_speeches_2010.json\n",
      "../data/fed_speeches/chicago_fed_speeches\\chicago_speeches_2011.json\n",
      "../data/fed_speeches/chicago_fed_speeches\\chicago_speeches_2012.json\n",
      "../data/fed_speeches/chicago_fed_speeches\\chicago_speeches_2013.json\n",
      "../data/fed_speeches/chicago_fed_speeches\\chicago_speeches_2014.json\n",
      "../data/fed_speeches/chicago_fed_speeches\\chicago_speeches_2015.json\n",
      "../data/fed_speeches/chicago_fed_speeches\\chicago_speeches_2016.json\n",
      "../data/fed_speeches/chicago_fed_speeches\\chicago_speeches_2017.json\n",
      "../data/fed_speeches/chicago_fed_speeches\\chicago_speeches_2018.json\n",
      "../data/fed_speeches/chicago_fed_speeches\\chicago_speeches_2019.json\n",
      "../data/fed_speeches/chicago_fed_speeches\\chicago_speeches_2020.json\n",
      "../data/fed_speeches/chicago_fed_speeches\\chicago_speeches_2021.json\n",
      "../data/fed_speeches/chicago_fed_speeches\\chicago_speeches_2022.json\n",
      "../data/fed_speeches/chicago_fed_speeches\\chicago_speeches_2023.json\n",
      "../data/fed_speeches/chicago_fed_speeches\\chicago_speeches_2024.json\n",
      "../data/fed_speeches/chicago_fed_speeches\\chicago_speech_infos.json\n",
      "../data/fed_speeches/cleveland_fed_speeches\\cleveland_failed_speech_infos.json\n",
      "../data/fed_speeches/cleveland_fed_speeches\\cleveland_speeches.json\n",
      "../data/fed_speeches/cleveland_fed_speeches\\cleveland_speeches_2012.json\n",
      "../data/fed_speeches/cleveland_fed_speeches\\cleveland_speeches_2013.json\n",
      "../data/fed_speeches/cleveland_fed_speeches\\cleveland_speeches_2014.json\n",
      "../data/fed_speeches/cleveland_fed_speeches\\cleveland_speeches_2015.json\n",
      "../data/fed_speeches/cleveland_fed_speeches\\cleveland_speeches_2016.json\n",
      "../data/fed_speeches/cleveland_fed_speeches\\cleveland_speeches_2017.json\n",
      "../data/fed_speeches/cleveland_fed_speeches\\cleveland_speeches_2018.json\n",
      "../data/fed_speeches/cleveland_fed_speeches\\cleveland_speeches_2019.json\n",
      "../data/fed_speeches/cleveland_fed_speeches\\cleveland_speeches_2020.json\n",
      "../data/fed_speeches/cleveland_fed_speeches\\cleveland_speeches_2021.json\n",
      "../data/fed_speeches/cleveland_fed_speeches\\cleveland_speeches_2022.json\n",
      "../data/fed_speeches/cleveland_fed_speeches\\cleveland_speeches_2023.json\n",
      "../data/fed_speeches/cleveland_fed_speeches\\cleveland_speeches_2024.json\n",
      "../data/fed_speeches/cleveland_fed_speeches\\cleveland_speech_infos.json\n",
      "../data/fed_speeches/dallas_fed_speeches\\dallas_failed_speech_infos.json\n",
      "../data/fed_speeches/dallas_fed_speeches\\dallas_speeches.json\n",
      "../data/fed_speeches/dallas_fed_speeches\\dallas_speeches_2006.json\n",
      "../data/fed_speeches/dallas_fed_speeches\\dallas_speeches_2007.json\n",
      "../data/fed_speeches/dallas_fed_speeches\\dallas_speeches_2008.json\n",
      "../data/fed_speeches/dallas_fed_speeches\\dallas_speeches_2009.json\n",
      "../data/fed_speeches/dallas_fed_speeches\\dallas_speeches_2010.json\n",
      "../data/fed_speeches/dallas_fed_speeches\\dallas_speeches_2011.json\n",
      "../data/fed_speeches/dallas_fed_speeches\\dallas_speeches_2012.json\n",
      "../data/fed_speeches/dallas_fed_speeches\\dallas_speeches_2013.json\n",
      "../data/fed_speeches/dallas_fed_speeches\\dallas_speeches_2014.json\n",
      "../data/fed_speeches/dallas_fed_speeches\\dallas_speeches_2015.json\n",
      "../data/fed_speeches/dallas_fed_speeches\\dallas_speeches_2016.json\n",
      "../data/fed_speeches/dallas_fed_speeches\\dallas_speeches_2017.json\n",
      "../data/fed_speeches/dallas_fed_speeches\\dallas_speeches_2018.json\n",
      "../data/fed_speeches/dallas_fed_speeches\\dallas_speeches_2019.json\n",
      "../data/fed_speeches/dallas_fed_speeches\\dallas_speeches_2020.json\n",
      "../data/fed_speeches/dallas_fed_speeches\\dallas_speeches_2021.json\n",
      "../data/fed_speeches/dallas_fed_speeches\\dallas_speeches_2022.json\n",
      "../data/fed_speeches/dallas_fed_speeches\\dallas_speeches_2023.json\n",
      "../data/fed_speeches/dallas_fed_speeches\\dallas_speeches_2024.json\n",
      "../data/fed_speeches/dallas_fed_speeches\\dallas_speech_infos.json\n"
     ]
    },
    {
     "name": "stderr",
     "output_type": "stream",
     "text": [
      "2024-11-22 18:28:57,095 - speech_scraper - ERROR - Error occurred when sorting speech records. Error: ValueError(\"invalid literal for int() with base 10: '2017-19'\")\n"
     ]
    },
    {
     "name": "stdout",
     "output_type": "stream",
     "text": [
      "../data/fed_speeches/kansascity_fed_speeches\\kansascity_failed_speech_infos.json\n",
      "../data/fed_speeches/kansascity_fed_speeches\\kansascity_speeches.json\n",
      "../data/fed_speeches/kansascity_fed_speeches\\kansascity_speeches_2006.json\n",
      "../data/fed_speeches/kansascity_fed_speeches\\kansascity_speeches_2007.json\n",
      "../data/fed_speeches/kansascity_fed_speeches\\kansascity_speeches_2009.json\n",
      "../data/fed_speeches/kansascity_fed_speeches\\kansascity_speeches_2010.json\n",
      "../data/fed_speeches/kansascity_fed_speeches\\kansascity_speeches_2011.json\n",
      "../data/fed_speeches/kansascity_fed_speeches\\kansascity_speeches_2012.json\n",
      "../data/fed_speeches/kansascity_fed_speeches\\kansascity_speeches_2013.json\n",
      "../data/fed_speeches/kansascity_fed_speeches\\kansascity_speeches_2014.json\n",
      "../data/fed_speeches/kansascity_fed_speeches\\kansascity_speeches_2015.json\n",
      "../data/fed_speeches/kansascity_fed_speeches\\kansascity_speeches_2016.json\n",
      "../data/fed_speeches/kansascity_fed_speeches\\kansascity_speeches_2017.json\n",
      "../data/fed_speeches/kansascity_fed_speeches\\kansascity_speeches_2018.json\n",
      "../data/fed_speeches/kansascity_fed_speeches\\kansascity_speeches_2019.json\n",
      "../data/fed_speeches/kansascity_fed_speeches\\kansascity_speeches_2020.json\n",
      "../data/fed_speeches/kansascity_fed_speeches\\kansascity_speeches_2021.json\n",
      "../data/fed_speeches/kansascity_fed_speeches\\kansascity_speeches_2024.json\n",
      "../data/fed_speeches/kansascity_fed_speeches\\kansascity_speech_infos.json\n",
      "../data/fed_speeches/kansascity_fed_speeches\\kansascity_speech_infos_1.json\n",
      "../data/fed_speeches/minneapolis_fed_speeches\\minneapolis_failed_speech_infos.json\n",
      "../data/fed_speeches/minneapolis_fed_speeches\\minneapolis_speeches.json\n",
      "../data/fed_speeches/minneapolis_fed_speeches\\minneapolis_speeches_2007.json\n",
      "../data/fed_speeches/minneapolis_fed_speeches\\minneapolis_speeches_2008.json\n",
      "../data/fed_speeches/minneapolis_fed_speeches\\minneapolis_speeches_2009.json\n",
      "../data/fed_speeches/minneapolis_fed_speeches\\minneapolis_speeches_2010.json\n",
      "../data/fed_speeches/minneapolis_fed_speeches\\minneapolis_speeches_2011.json\n",
      "../data/fed_speeches/minneapolis_fed_speeches\\minneapolis_speeches_2012.json\n",
      "../data/fed_speeches/minneapolis_fed_speeches\\minneapolis_speeches_2013.json\n",
      "../data/fed_speeches/minneapolis_fed_speeches\\minneapolis_speeches_2014.json\n",
      "../data/fed_speeches/minneapolis_fed_speeches\\minneapolis_speeches_2015.json\n",
      "../data/fed_speeches/minneapolis_fed_speeches\\minneapolis_speeches_2016.json\n",
      "../data/fed_speeches/minneapolis_fed_speeches\\minneapolis_speeches_2017.json\n"
     ]
    },
    {
     "name": "stderr",
     "output_type": "stream",
     "text": [
      "2024-11-22 18:28:58,515 - speech_scraper - ERROR - Error occurred when sorting speech records. Error: KeyError('speaker')\n"
     ]
    },
    {
     "name": "stdout",
     "output_type": "stream",
     "text": [
      "../data/fed_speeches/minneapolis_fed_speeches\\minneapolis_speeches_2018.json\n",
      "../data/fed_speeches/minneapolis_fed_speeches\\minneapolis_speeches_2019.json\n",
      "../data/fed_speeches/minneapolis_fed_speeches\\minneapolis_speeches_2020.json\n",
      "../data/fed_speeches/minneapolis_fed_speeches\\minneapolis_speeches_2021.json\n",
      "../data/fed_speeches/minneapolis_fed_speeches\\minneapolis_speeches_2022.json\n",
      "../data/fed_speeches/minneapolis_fed_speeches\\minneapolis_speeches_2023.json\n",
      "../data/fed_speeches/minneapolis_fed_speeches\\minneapolis_speeches_2024.json\n",
      "../data/fed_speeches/minneapolis_fed_speeches\\minneapolis_speech_infos.json\n",
      "../data/fed_speeches/newyork_fed_speeches\\newyork_failed_speech_infos.json\n",
      "../data/fed_speeches/newyork_fed_speeches\\newyork_speeches.json\n",
      "../data/fed_speeches/newyork_fed_speeches\\newyork_speeches_2006.json\n",
      "../data/fed_speeches/newyork_fed_speeches\\newyork_speeches_2007.json\n",
      "../data/fed_speeches/newyork_fed_speeches\\newyork_speeches_2008.json\n",
      "../data/fed_speeches/newyork_fed_speeches\\newyork_speeches_2009.json\n",
      "../data/fed_speeches/newyork_fed_speeches\\newyork_speeches_2010.json\n",
      "../data/fed_speeches/newyork_fed_speeches\\newyork_speeches_2011.json\n",
      "../data/fed_speeches/newyork_fed_speeches\\newyork_speeches_2012.json\n",
      "../data/fed_speeches/newyork_fed_speeches\\newyork_speeches_2013.json\n",
      "../data/fed_speeches/newyork_fed_speeches\\newyork_speeches_2014.json\n",
      "../data/fed_speeches/newyork_fed_speeches\\newyork_speeches_2015.json\n",
      "../data/fed_speeches/newyork_fed_speeches\\newyork_speeches_2016.json\n",
      "../data/fed_speeches/newyork_fed_speeches\\newyork_speeches_2017.json\n",
      "../data/fed_speeches/newyork_fed_speeches\\newyork_speeches_2018.json\n",
      "../data/fed_speeches/newyork_fed_speeches\\newyork_speeches_2019.json\n",
      "../data/fed_speeches/newyork_fed_speeches\\newyork_speeches_2020.json\n",
      "../data/fed_speeches/newyork_fed_speeches\\newyork_speeches_2021.json\n",
      "../data/fed_speeches/newyork_fed_speeches\\newyork_speeches_2022.json\n",
      "../data/fed_speeches/newyork_fed_speeches\\newyork_speeches_2023.json\n",
      "../data/fed_speeches/newyork_fed_speeches\\newyork_speeches_2024.json\n",
      "KeyError('date') when processing ../data/fed_speeches/newyork_fed_speeches\\newyork_speeches_2024.json\n",
      "../data/fed_speeches/newyork_fed_speeches\\newyork_speeches_all.json\n"
     ]
    },
    {
     "name": "stderr",
     "output_type": "stream",
     "text": [
      "2024-11-22 18:29:00,812 - speech_scraper - ERROR - Error occurred when sorting speech records. Error: KeyError('speaker')\n"
     ]
    },
    {
     "name": "stdout",
     "output_type": "stream",
     "text": [
      "../data/fed_speeches/newyork_fed_speeches\\newyork_speech_infos.json\n",
      "../data/fed_speeches/philadelphia_fed_speeches\\philadelphia_failed_speech_infos.json\n",
      "../data/fed_speeches/philadelphia_fed_speeches\\philadelphia_speeches.json\n",
      "../data/fed_speeches/philadelphia_fed_speeches\\philadelphia_speeches_2015.json\n",
      "../data/fed_speeches/philadelphia_fed_speeches\\philadelphia_speeches_2016.json\n",
      "../data/fed_speeches/philadelphia_fed_speeches\\philadelphia_speeches_2017.json\n",
      "../data/fed_speeches/philadelphia_fed_speeches\\philadelphia_speeches_2018.json\n",
      "../data/fed_speeches/philadelphia_fed_speeches\\philadelphia_speeches_2019.json\n",
      "../data/fed_speeches/philadelphia_fed_speeches\\philadelphia_speeches_2020.json\n",
      "../data/fed_speeches/philadelphia_fed_speeches\\philadelphia_speeches_2021.json\n",
      "../data/fed_speeches/philadelphia_fed_speeches\\philadelphia_speeches_2022.json\n",
      "../data/fed_speeches/philadelphia_fed_speeches\\philadelphia_speeches_2023.json\n",
      "../data/fed_speeches/philadelphia_fed_speeches\\philadelphia_speeches_2024.json\n",
      "../data/fed_speeches/philadelphia_fed_speeches\\philadelphia_speech_infos.json\n",
      "../data/fed_speeches/richmond_fed_speeches\\richmond_failed_speech_infos.json\n",
      "../data/fed_speeches/richmond_fed_speeches\\richmond_speeches.json\n",
      "../data/fed_speeches/richmond_fed_speeches\\richmond_speeches_1993.json\n",
      "../data/fed_speeches/richmond_fed_speeches\\richmond_speeches_1995.json\n",
      "../data/fed_speeches/richmond_fed_speeches\\richmond_speeches_1996.json\n",
      "../data/fed_speeches/richmond_fed_speeches\\richmond_speeches_1997.json\n",
      "../data/fed_speeches/richmond_fed_speeches\\richmond_speeches_1998.json\n",
      "../data/fed_speeches/richmond_fed_speeches\\richmond_speeches_1999.json\n",
      "../data/fed_speeches/richmond_fed_speeches\\richmond_speeches_2000.json\n",
      "../data/fed_speeches/richmond_fed_speeches\\richmond_speeches_2001.json\n",
      "../data/fed_speeches/richmond_fed_speeches\\richmond_speeches_2003.json\n",
      "../data/fed_speeches/richmond_fed_speeches\\richmond_speeches_2004.json\n",
      "../data/fed_speeches/richmond_fed_speeches\\richmond_speeches_2005.json\n",
      "../data/fed_speeches/richmond_fed_speeches\\richmond_speeches_2006.json\n",
      "../data/fed_speeches/richmond_fed_speeches\\richmond_speeches_2007.json\n",
      "../data/fed_speeches/richmond_fed_speeches\\richmond_speeches_2008.json\n",
      "../data/fed_speeches/richmond_fed_speeches\\richmond_speeches_2009.json\n",
      "../data/fed_speeches/richmond_fed_speeches\\richmond_speeches_2010.json\n",
      "../data/fed_speeches/richmond_fed_speeches\\richmond_speeches_2011.json\n",
      "../data/fed_speeches/richmond_fed_speeches\\richmond_speeches_2012.json\n",
      "../data/fed_speeches/richmond_fed_speeches\\richmond_speeches_2013.json\n",
      "../data/fed_speeches/richmond_fed_speeches\\richmond_speeches_2014.json\n",
      "../data/fed_speeches/richmond_fed_speeches\\richmond_speeches_2015.json\n",
      "../data/fed_speeches/richmond_fed_speeches\\richmond_speeches_2016.json\n",
      "../data/fed_speeches/richmond_fed_speeches\\richmond_speeches_2017.json\n",
      "../data/fed_speeches/richmond_fed_speeches\\richmond_speeches_2018.json\n",
      "../data/fed_speeches/richmond_fed_speeches\\richmond_speeches_2019.json\n",
      "../data/fed_speeches/richmond_fed_speeches\\richmond_speeches_2020.json\n",
      "../data/fed_speeches/richmond_fed_speeches\\richmond_speeches_2021.json\n",
      "../data/fed_speeches/richmond_fed_speeches\\richmond_speeches_2022.json\n",
      "../data/fed_speeches/richmond_fed_speeches\\richmond_speeches_2023.json\n",
      "../data/fed_speeches/richmond_fed_speeches\\richmond_speeches_2024.json\n",
      "../data/fed_speeches/richmond_fed_speeches\\richmond_speech_infos.json\n",
      "../data/fed_speeches/sanfrancisco_fed_speeches\\sanfrancisco_failed_speech_infos.json\n",
      "../data/fed_speeches/sanfrancisco_fed_speeches\\sanfrancisco_speeches.json\n",
      "../data/fed_speeches/sanfrancisco_fed_speeches\\sanfrancisco_speeches_1997.json\n",
      "../data/fed_speeches/sanfrancisco_fed_speeches\\sanfrancisco_speeches_1998.json\n",
      "../data/fed_speeches/sanfrancisco_fed_speeches\\sanfrancisco_speeches_1999.json\n",
      "../data/fed_speeches/sanfrancisco_fed_speeches\\sanfrancisco_speeches_2000.json\n",
      "../data/fed_speeches/sanfrancisco_fed_speeches\\sanfrancisco_speeches_2001.json\n",
      "../data/fed_speeches/sanfrancisco_fed_speeches\\sanfrancisco_speeches_2002.json\n",
      "../data/fed_speeches/sanfrancisco_fed_speeches\\sanfrancisco_speeches_2003.json\n",
      "../data/fed_speeches/sanfrancisco_fed_speeches\\sanfrancisco_speeches_2004.json\n",
      "../data/fed_speeches/sanfrancisco_fed_speeches\\sanfrancisco_speeches_2005.json\n",
      "../data/fed_speeches/sanfrancisco_fed_speeches\\sanfrancisco_speeches_2006.json\n",
      "../data/fed_speeches/sanfrancisco_fed_speeches\\sanfrancisco_speeches_2007.json\n",
      "../data/fed_speeches/sanfrancisco_fed_speeches\\sanfrancisco_speeches_2008.json\n",
      "../data/fed_speeches/sanfrancisco_fed_speeches\\sanfrancisco_speeches_2009.json\n",
      "../data/fed_speeches/sanfrancisco_fed_speeches\\sanfrancisco_speeches_2010.json\n",
      "../data/fed_speeches/sanfrancisco_fed_speeches\\sanfrancisco_speeches_2011.json\n",
      "../data/fed_speeches/sanfrancisco_fed_speeches\\sanfrancisco_speeches_2012.json\n",
      "../data/fed_speeches/sanfrancisco_fed_speeches\\sanfrancisco_speeches_2013.json\n",
      "../data/fed_speeches/sanfrancisco_fed_speeches\\sanfrancisco_speeches_2014.json\n",
      "../data/fed_speeches/sanfrancisco_fed_speeches\\sanfrancisco_speeches_2015.json\n",
      "../data/fed_speeches/sanfrancisco_fed_speeches\\sanfrancisco_speeches_2016.json\n",
      "../data/fed_speeches/sanfrancisco_fed_speeches\\sanfrancisco_speeches_2017.json\n",
      "../data/fed_speeches/sanfrancisco_fed_speeches\\sanfrancisco_speeches_2018.json\n",
      "../data/fed_speeches/sanfrancisco_fed_speeches\\sanfrancisco_speeches_2019.json\n",
      "../data/fed_speeches/sanfrancisco_fed_speeches\\sanfrancisco_speeches_2020.json\n",
      "../data/fed_speeches/sanfrancisco_fed_speeches\\sanfrancisco_speeches_2021.json\n",
      "../data/fed_speeches/sanfrancisco_fed_speeches\\sanfrancisco_speeches_2022.json\n",
      "../data/fed_speeches/sanfrancisco_fed_speeches\\sanfrancisco_speeches_2023.json\n",
      "../data/fed_speeches/sanfrancisco_fed_speeches\\sanfrancisco_speeches_2024.json\n",
      "../data/fed_speeches/sanfrancisco_fed_speeches\\sanfrancisco_speech_infos.json\n",
      "../data/fed_speeches/stlouis_fed_speeches\\stlouis_failed_speech_infos.json\n",
      "../data/fed_speeches/stlouis_fed_speeches\\stlouis_speeches.json\n",
      "../data/fed_speeches/stlouis_fed_speeches\\stlouis_speeches_2008.json\n",
      "../data/fed_speeches/stlouis_fed_speeches\\stlouis_speeches_2009.json\n",
      "../data/fed_speeches/stlouis_fed_speeches\\stlouis_speeches_2010.json\n",
      "../data/fed_speeches/stlouis_fed_speeches\\stlouis_speeches_2011.json\n",
      "../data/fed_speeches/stlouis_fed_speeches\\stlouis_speeches_2012.json\n",
      "../data/fed_speeches/stlouis_fed_speeches\\stlouis_speeches_2013.json\n",
      "../data/fed_speeches/stlouis_fed_speeches\\stlouis_speeches_2014.json\n",
      "../data/fed_speeches/stlouis_fed_speeches\\stlouis_speeches_2015.json\n",
      "../data/fed_speeches/stlouis_fed_speeches\\stlouis_speeches_2016.json\n",
      "../data/fed_speeches/stlouis_fed_speeches\\stlouis_speeches_2017.json\n",
      "../data/fed_speeches/stlouis_fed_speeches\\stlouis_speeches_2018.json\n",
      "../data/fed_speeches/stlouis_fed_speeches\\stlouis_speeches_2019.json\n",
      "../data/fed_speeches/stlouis_fed_speeches\\stlouis_speeches_2020.json\n",
      "../data/fed_speeches/stlouis_fed_speeches\\stlouis_speeches_2021.json\n",
      "../data/fed_speeches/stlouis_fed_speeches\\stlouis_speeches_2022.json\n",
      "../data/fed_speeches/stlouis_fed_speeches\\stlouis_speeches_2023.json\n",
      "../data/fed_speeches/stlouis_fed_speeches\\stlouis_speeches_by_president.json\n"
     ]
    },
    {
     "name": "stderr",
     "output_type": "stream",
     "text": [
      "2024-11-22 18:29:05,836 - speech_scraper - ERROR - Error occurred when sorting speech records. Error: TypeError(\"string indices must be integers, not 'str'\")\n"
     ]
    },
    {
     "name": "stdout",
     "output_type": "stream",
     "text": [
      "../data/fed_speeches/stlouis_fed_speeches\\stlouis_speech_infos.json\n"
     ]
    },
    {
     "name": "stderr",
     "output_type": "stream",
     "text": [
      "2024-11-22 18:29:06,990 - speech_scraper - ERROR - Error occurred when sorting speech records. Error: ValueError(\"invalid literal for int() with base 10: 'Unknown'\")\n"
     ]
    },
    {
     "name": "stdout",
     "output_type": "stream",
     "text": [
      "../data/fed_speeches/stlouis_fed_speeches\\stlouis_speech_infos_by_year.json\n"
     ]
    },
    {
     "name": "stderr",
     "output_type": "stream",
     "text": [
      "2024-11-22 18:29:08,234 - speech_scraper - ERROR - Error occurred when sorting speech records. Error: ValueError(\"invalid literal for int() with base 10: 'Unknown'\")\n"
     ]
    },
    {
     "name": "stdout",
     "output_type": "stream",
     "text": [
      "../data/fed_speeches/stlouis_fed_speeches\\stlouis_title_infos.json\n",
      "KeyError('date') when processing ../data/fed_speeches/stlouis_fed_speeches\\stlouis_title_infos.json\n"
     ]
    }
   ],
   "source": [
    "for speech_dir in speech_dirs:\n",
    "    speech_dir = speech_dir.replace(\"\\\\\\\\\", \"/\").replace(\"\\\\\", \"/\") + \"/\"\n",
    "    # print(speech_dir)\n",
    "    filenames = glob.glob(os.path.join(speech_dir , \"*.json\"))\n",
    "    for filename in filenames:\n",
    "        # print(filename)\n",
    "        speeches = json_load(filename)\n",
    "        # # 如果是dict,则排序\n",
    "        try:\n",
    "            if isinstance(speeches, dict):\n",
    "                speeches = sort_speeches_dict(speeches)\n",
    "            elif isinstance(speeches, list):\n",
    "                speeches = sort_speeches_records(speeches)\n",
    "            json_dump(speeches, filename)\n",
    "        except Exception as e:\n",
    "            print(f\"{repr(e)} when processing {filename}\")"
   ]
  },
  {
   "cell_type": "code",
   "execution_count": null,
   "metadata": {},
   "outputs": [
    {
     "name": "stdout",
     "output_type": "stream",
     "text": [
      "../data/fed_speeches/newyork_fed_speeches\\newyork_failed_speech_infos.json\n",
      "../data/fed_speeches/newyork_fed_speeches\\newyork_speeches.json\n",
      "../data/fed_speeches/newyork_fed_speeches\\newyork_speeches_2006.json\n",
      "../data/fed_speeches/newyork_fed_speeches\\newyork_speeches_2007.json\n",
      "../data/fed_speeches/newyork_fed_speeches\\newyork_speeches_2008.json\n",
      "../data/fed_speeches/newyork_fed_speeches\\newyork_speeches_2009.json\n",
      "../data/fed_speeches/newyork_fed_speeches\\newyork_speeches_2010.json\n",
      "../data/fed_speeches/newyork_fed_speeches\\newyork_speeches_2011.json\n",
      "../data/fed_speeches/newyork_fed_speeches\\newyork_speeches_2012.json\n",
      "../data/fed_speeches/newyork_fed_speeches\\newyork_speeches_2013.json\n",
      "../data/fed_speeches/newyork_fed_speeches\\newyork_speeches_2014.json\n",
      "../data/fed_speeches/newyork_fed_speeches\\newyork_speeches_2015.json\n",
      "../data/fed_speeches/newyork_fed_speeches\\newyork_speeches_2016.json\n",
      "../data/fed_speeches/newyork_fed_speeches\\newyork_speeches_2017.json\n",
      "../data/fed_speeches/newyork_fed_speeches\\newyork_speeches_2018.json\n",
      "../data/fed_speeches/newyork_fed_speeches\\newyork_speeches_2019.json\n",
      "../data/fed_speeches/newyork_fed_speeches\\newyork_speeches_2020.json\n",
      "../data/fed_speeches/newyork_fed_speeches\\newyork_speeches_2021.json\n",
      "../data/fed_speeches/newyork_fed_speeches\\newyork_speeches_2022.json\n",
      "../data/fed_speeches/newyork_fed_speeches\\newyork_speeches_2023.json\n",
      "../data/fed_speeches/newyork_fed_speeches\\newyork_speeches_2024.json\n"
     ]
    },
    {
     "ename": "KeyError",
     "evalue": "'date'",
     "output_type": "error",
     "traceback": [
      "\u001b[1;31m---------------------------------------------------------------------------\u001b[0m",
      "\u001b[1;31mKeyError\u001b[0m                                  Traceback (most recent call last)",
      "Cell \u001b[1;32mIn[4], line 13\u001b[0m\n\u001b[0;32m     11\u001b[0m     json_dump(speeches, filename)\n\u001b[0;32m     12\u001b[0m \u001b[38;5;28;01melif\u001b[39;00m \u001b[38;5;28misinstance\u001b[39m(speeches, \u001b[38;5;28mlist\u001b[39m):\n\u001b[1;32m---> 13\u001b[0m     speeches \u001b[38;5;241m=\u001b[39m \u001b[43msort_speeches_records\u001b[49m\u001b[43m(\u001b[49m\u001b[43mspeeches\u001b[49m\u001b[43m)\u001b[49m\n\u001b[0;32m     14\u001b[0m     json_dump(speeches, filename)\n",
      "File \u001b[1;32md:\\Code\\InsightMacro\\data_scraper\\..\\utils\\file_saver.py:135\u001b[0m, in \u001b[0;36msort_speeches_records\u001b[1;34m(speeches, sort_filed)\u001b[0m\n\u001b[0;32m    134\u001b[0m \u001b[38;5;28;01mdef\u001b[39;00m \u001b[38;5;21msort_speeches_records\u001b[39m(speeches: \u001b[38;5;28mlist\u001b[39m, sort_filed: \u001b[38;5;28mstr\u001b[39m \u001b[38;5;241m=\u001b[39m \u001b[38;5;124m'\u001b[39m\u001b[38;5;124mdate\u001b[39m\u001b[38;5;124m'\u001b[39m):\n\u001b[1;32m--> 135\u001b[0m     \u001b[38;5;28;01mreturn\u001b[39;00m \u001b[38;5;28;43msorted\u001b[39;49m\u001b[43m(\u001b[49m\u001b[43mspeeches\u001b[49m\u001b[43m,\u001b[49m\u001b[43m \u001b[49m\u001b[43mkey\u001b[49m\u001b[38;5;241;43m=\u001b[39;49m\u001b[38;5;28;43;01mlambda\u001b[39;49;00m\u001b[43m \u001b[49m\u001b[43mx\u001b[49m\u001b[43m:\u001b[49m\u001b[43m \u001b[49m\u001b[43mparse_datestring\u001b[49m\u001b[43m(\u001b[49m\u001b[43mx\u001b[49m\u001b[43m[\u001b[49m\u001b[43msort_filed\u001b[49m\u001b[43m]\u001b[49m\u001b[43m)\u001b[49m\u001b[43m,\u001b[49m\u001b[43m \u001b[49m\u001b[43mreverse\u001b[49m\u001b[38;5;241;43m=\u001b[39;49m\u001b[38;5;28;43;01mTrue\u001b[39;49;00m\u001b[43m)\u001b[49m\n",
      "File \u001b[1;32md:\\Code\\InsightMacro\\data_scraper\\..\\utils\\file_saver.py:135\u001b[0m, in \u001b[0;36msort_speeches_records.<locals>.<lambda>\u001b[1;34m(x)\u001b[0m\n\u001b[0;32m    134\u001b[0m \u001b[38;5;28;01mdef\u001b[39;00m \u001b[38;5;21msort_speeches_records\u001b[39m(speeches: \u001b[38;5;28mlist\u001b[39m, sort_filed: \u001b[38;5;28mstr\u001b[39m \u001b[38;5;241m=\u001b[39m \u001b[38;5;124m'\u001b[39m\u001b[38;5;124mdate\u001b[39m\u001b[38;5;124m'\u001b[39m):\n\u001b[1;32m--> 135\u001b[0m     \u001b[38;5;28;01mreturn\u001b[39;00m \u001b[38;5;28msorted\u001b[39m(speeches, key\u001b[38;5;241m=\u001b[39m\u001b[38;5;28;01mlambda\u001b[39;00m x: parse_datestring(\u001b[43mx\u001b[49m\u001b[43m[\u001b[49m\u001b[43msort_filed\u001b[49m\u001b[43m]\u001b[49m), reverse\u001b[38;5;241m=\u001b[39m\u001b[38;5;28;01mTrue\u001b[39;00m)\n",
      "\u001b[1;31mKeyError\u001b[0m: 'date'"
     ]
    }
   ],
   "source": [
    "for district in ['newyork', 'richmond', 'boston']:\n",
    "    # print(district)\n",
    "    filenames = glob.glob(os.path.join(DATASET_PATH + \"/\", f\"{district}_fed_speeches/*.json\"))\n",
    "    filepath = DATASET_PATH + f\"/{district}_fed_speeches/\"\n",
    "    for filename in filenames:\n",
    "        print(filename)\n",
    "        speeches = json_load(filename)\n",
    "        # 如果是dict,则排序\n",
    "        if isinstance(speeches, dict):\n",
    "            speeches = sort_speeches_dict(speeches)\n",
    "            json_dump(speeches, filename)\n",
    "        elif isinstance(speeches, list):\n",
    "            speeches = sort_speeches_records(speeches)\n",
    "            json_dump(speeches, filename)\n"
   ]
  }
 ],
 "metadata": {
  "kernelspec": {
   "display_name": "FOMCTS",
   "language": "python",
   "name": "python3"
  },
  "language_info": {
   "codemirror_mode": {
    "name": "ipython",
    "version": 3
   },
   "file_extension": ".py",
   "mimetype": "text/x-python",
   "name": "python",
   "nbconvert_exporter": "python",
   "pygments_lexer": "ipython3",
   "version": "3.12.6"
  }
 },
 "nbformat": 4,
 "nbformat_minor": 2
}
