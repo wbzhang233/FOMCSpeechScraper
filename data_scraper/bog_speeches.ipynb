{
 "cells": [
  {
   "cell_type": "markdown",
   "metadata": {},
   "source": [
    "# Board of Governors演讲数据爬取\n",
    "\n",
    "@author: Mandy Lau, Wubin Zhang\n",
    "\n",
    "@date: Sep 25, 2024"
   ]
  },
  {
   "cell_type": "code",
   "execution_count": 1,
   "metadata": {},
   "outputs": [],
   "source": [
    "from selenium import webdriver\n",
    "from selenium.webdriver.common.by import By\n",
    "from selenium.webdriver.support.ui import WebDriverWait\n",
    "from selenium.webdriver.support import expected_conditions as EC\n",
    "from selenium.common.exceptions import TimeoutException, WebDriverException, NoSuchElementException\n",
    "import time\n",
    "import json\n",
    "import os\n",
    "import re\n",
    "from datetime import datetime, timedelta"
   ]
  },
  {
   "cell_type": "code",
   "execution_count": 2,
   "metadata": {},
   "outputs": [],
   "source": [
    "# automatically downloads and sets up ChromeDriver\n",
    "driver = webdriver.Chrome()"
   ]
  },
  {
   "cell_type": "code",
   "execution_count": null,
   "metadata": {},
   "outputs": [],
   "source": [
    "# Navigate to the Federal Reserve website\n",
    "# driver = webdriver.Chrome()\n",
    "driver.get(\"https://www.federalreserve.gov/newsevents/speeches.htm\")\n",
    "print(driver.title)"
   ]
  },
  {
   "cell_type": "code",
   "execution_count": 4,
   "metadata": {},
   "outputs": [],
   "source": [
    "# set the date range for scraping\n",
    "# start_date = datetime(2006, 1, 1)\n",
    "start_date = datetime(2021, 1, 1)\n",
    "# end_date = datetime.now()\n",
    "end_date = datetime(2022, 1, 1)"
   ]
  },
  {
   "cell_type": "code",
   "execution_count": 5,
   "metadata": {},
   "outputs": [],
   "source": [
    "# Function to get the most recent speech date from existing files\n",
    "def get_most_recent_speech_date(start_date, all_speeches_file, region):\n",
    "    original_start_date = start_date  # original start date\n",
    "    if os.path.exists(all_speeches_file):\n",
    "        with open(all_speeches_file, 'r', encoding='utf-8') as f:\n",
    "            speeches = json.load(f)\n",
    "            if speeches: # Check if the file is not empty\n",
    "                last_speech = speeches[0]\n",
    "                most_recent_date = datetime.strptime(last_speech['date'], '%B %d, %Y')  if region == 'bog' else datetime.strptime(last_speech['date'], '%b %d, %Y')\n",
    "                return most_recent_date\n",
    "    \n",
    "    return original_start_date"
   ]
  },
  {
   "cell_type": "code",
   "execution_count": null,
   "metadata": {},
   "outputs": [],
   "source": [
    "# Get the most recent speech date\n",
    "all_speeches_file = 'bog_fed_speeches/bog_fed_speeches.json'\n",
    "most_recent_date = get_most_recent_speech_date(start_date, all_speeches_file, 'bog')\n",
    "print(f\"Starting scrape from: {most_recent_date.strftime('%Y-%m-%d')}\")"
   ]
  },
  {
   "cell_type": "code",
   "execution_count": null,
   "metadata": {},
   "outputs": [],
   "source": [
    "# Locate the start and end date input fields and set the desired dates\n",
    "start_date_elem = driver.find_element(By.CSS_SELECTOR, \"#content > div.row.ng-scope > div > div.col-xs-12.col-sm-8.col-md-10.angularEvents.ng-scope > form > div:nth-child(2) > div > div:nth-child(1) > input\")\n",
    "end_date_elem = driver.find_element(By.CSS_SELECTOR, \"#content > div.row.ng-scope > div > div.col-xs-12.col-sm-8.col-md-10.angularEvents.ng-scope > form > div:nth-child(2) > div > div:nth-child(3) > input\")\n",
    "# Clear existing dates\n",
    "start_date_elem.clear()\n",
    "end_date_elem.clear()\n",
    "# set the dates\n",
    "start_date_elem.send_keys(most_recent_date.strftime('%Y-%m-%d'))\n",
    "end_date_elem.send_keys(end_date.strftime('%Y-%m-%d'))\n",
    "print(f\"Date range set: {most_recent_date} to {end_date}\")"
   ]
  },
  {
   "cell_type": "code",
   "execution_count": 8,
   "metadata": {},
   "outputs": [],
   "source": [
    "# Locate the checkboxes for the desired speakers\n",
    "powell = driver.find_element(By.CSS_SELECTOR, \"#content > div.row.ng-scope > div > div.col-xs-12.col-sm-8.col-md-10.angularEvents.ng-scope > form > div:nth-child(4) > div:nth-child(1) > label > input\")\n",
    "jefferson = driver.find_element(By.CSS_SELECTOR, \"#content > div.row.ng-scope > div > div.col-xs-12.col-sm-8.col-md-10.angularEvents.ng-scope > form > div:nth-child(4) > div:nth-child(2) > label > input\")\n",
    "barr = driver.find_element(By.CSS_SELECTOR, \"#content > div.row.ng-scope > div > div.col-xs-12.col-sm-8.col-md-10.angularEvents.ng-scope > form > div:nth-child(4) > div:nth-child(3) > label > input\")\n",
    "bowman = driver.find_element(By.CSS_SELECTOR, \"#content > div.row.ng-scope > div > div.col-xs-12.col-sm-8.col-md-10.angularEvents.ng-scope > form > div:nth-child(4) > div:nth-child(4) > label > input\")\n",
    "cook = driver.find_element(By.CSS_SELECTOR, \"#content > div.row.ng-scope > div > div.col-xs-12.col-sm-8.col-md-10.angularEvents.ng-scope > form > div:nth-child(4) > div:nth-child(5) > label > input\")\n",
    "kugler = driver.find_element(By.CSS_SELECTOR, \"#content > div.row.ng-scope > div > div.col-xs-12.col-sm-8.col-md-10.angularEvents.ng-scope > form > div:nth-child(4) > div:nth-child(6) > label > input\")\n",
    "waller = driver.find_element(By.CSS_SELECTOR, \"#content > div.row.ng-scope > div > div.col-xs-12.col-sm-8.col-md-10.angularEvents.ng-scope > form > div:nth-child(4) > div:nth-child(7) > label > input\")\n",
    "former = driver.find_element(By.CSS_SELECTOR, \"#content > div.row.ng-scope > div > div.col-xs-12.col-sm-8.col-md-10.angularEvents.ng-scope > form > div:nth-child(4) > div:nth-child(8) > label > input\")\n",
    "# click the checkboxes for the desired speakers\n",
    "powell.click()\n",
    "jefferson.click()\n",
    "barr.click()\n",
    "bowman.click()\n",
    "cook.click()\n",
    "kugler.click()\n",
    "waller.click()\n",
    "former.click()"
   ]
  },
  {
   "cell_type": "code",
   "execution_count": 9,
   "metadata": {},
   "outputs": [],
   "source": [
    "# click the search button to filter the speeches\n",
    "search_button = driver.find_element(By.XPATH, \"/html/body/div[3]/div[2]/div/div[1]/form/div[5]\")\n",
    "search_button.click()"
   ]
  },
  {
   "cell_type": "code",
   "execution_count": null,
   "metadata": {},
   "outputs": [],
   "source": [
    "def get_speech_links_from_current_page():\n",
    "    try:\n",
    "        speech_rows = driver.find_elements(By.CSS_SELECTOR, \"div.row.ng-scope[ng-repeat^='item in items']\")\n",
    "        speech_urls = []\n",
    "        for row in speech_rows:\n",
    "            try:\n",
    "                link = row.find_element(By.CSS_SELECTOR, \"p.itemTitle em a\")\n",
    "                href = link.get_attribute('href')\n",
    "                # print(href)\n",
    "                title = link.text\n",
    "                # print(title)\n",
    "                date = row.find_element(By.CSS_SELECTOR, \"time\").text\n",
    "                # article > div.angularEvents.items.ng-scope > div:nth-child(2) > div.col-xs-3.col-md-2.eventlist__time > time\n",
    "                speech_urls.append({'href': href, 'title': title, 'date': date})\n",
    "            except NoSuchElementException:\n",
    "                print(f\"Could not find link or date in a row. Skipping.\")\n",
    "        return speech_urls\n",
    "    except Exception as e:\n",
    "        print(f\"Error extracting speech URLs from the current page: {e}\")\n",
    "        return []\n",
    "    \n",
    "get_speech_links_from_current_page()"
   ]
  },
  {
   "cell_type": "code",
   "execution_count": null,
   "metadata": {},
   "outputs": [],
   "source": [
    "all_speeches = []\n",
    "while True:\n",
    "    # Get links from the current page\n",
    "    page_speeches = get_speech_links_from_current_page()\n",
    "    if not page_speeches:\n",
    "        print(\"No more speeches found or error occurred. Stopping pagination.\")\n",
    "        break\n",
    "    \n",
    "    for speech in page_speeches:\n",
    "        speech_date = datetime.strptime(speech['date'], '%m/%d/%Y')\n",
    "        if speech_date <= most_recent_date:\n",
    "            print(\"Reached speeches older than the most recent date. Stopping pagination.\")\n",
    "            break\n",
    "        all_speeches.append(speech)\n",
    "    else:\n",
    "        # Try to find and click the \"Next\" button\n",
    "        try:\n",
    "            next_button = driver.find_element(By.CSS_SELECTOR, \"li.pagination-next:not(.disabled) a\")\n",
    "            driver.execute_script(\"arguments[0].click();\", next_button) # Wait for the next page to load\n",
    "            continue\n",
    "        except NoSuchElementException:\n",
    "            print(\"Next button not found or disabled. Reached last page.\")\n",
    "            break\n",
    "    break\n",
    "print(f\"Total new speeches found: {len(all_speeches)}\")"
   ]
  },
  {
   "cell_type": "code",
   "execution_count": 12,
   "metadata": {},
   "outputs": [],
   "source": [
    "def extract_speech_content(url):\n",
    "    try:\n",
    "        driver.get(url)\n",
    "        \n",
    "        # Wait for the content to load\n",
    "        WebDriverWait(driver, 10).until(\n",
    "            EC.presence_of_element_located((By.ID, \"content\"))\n",
    "        )\n",
    "        \n",
    "        # Extract the speech date\n",
    "        date = driver.find_element(By.CSS_SELECTOR, \"#article > div.heading.col-xs-12.col-sm-8.col-md-8 > p.article__time\").text\n",
    "        \n",
    "        # Extract the speech title\n",
    "        title = driver.find_element(By.CSS_SELECTOR, \"#article > div.heading.col-xs-12.col-sm-8.col-md-8 > h3\").text\n",
    "        \n",
    "        # Extract the speaker\n",
    "        speaker = driver.find_element(By.CSS_SELECTOR, \"#article > div.heading.col-xs-12.col-sm-8.col-md-8 > p.speaker\").text\n",
    "        \n",
    "        # Extract the speech content\n",
    "        content_paragraphs = driver.find_elements(By.CSS_SELECTOR, \"#article .col-xs-12.col-sm-8.col-md-8 > p\")\n",
    "        content = \"\\n\\n\".join([p.text for p in content_paragraphs])\n",
    "        \n",
    "        return {\n",
    "            'title': title,\n",
    "            'date': date,\n",
    "            'speaker': speaker,\n",
    "            'url': url,\n",
    "            'content': content\n",
    "        }\n",
    "    except TimeoutException as e:\n",
    "        print(f\"Timeout error extracting content from {url}: {str(e)}\")\n",
    "    except WebDriverException as e:\n",
    "        print(f\"WebDriver error extracting content from {url}: {str(e)}\")\n",
    "    except Exception as e:\n",
    "        print(f\"Unexpected error extracting content from {url}: {str(e)}\")"
   ]
  },
  {
   "cell_type": "code",
   "execution_count": null,
   "metadata": {},
   "outputs": [],
   "source": [
    "def sanitize_filename(filename):\n",
    "    # Remove invalid characters and replace spaces with underscores\n",
    "    return re.sub(r'[^\\w\\-_\\. ]', '', filename).replace(' ', '_')\n",
    "\n",
    "# Ensure the directory exists\n",
    "os.makedirs('speeches', exist_ok=True)\n",
    "\n",
    "speeches_by_year = {}\n",
    "current_year = None\n",
    "speeches_with_content = []\n",
    "for index, speech in enumerate(all_speeches):\n",
    "    print(f\"Extracting content from: {speech['title']}\")\n",
    "    speech_content = extract_speech_content(speech['href'])\n",
    "    if speech_content:\n",
    "        speeches_with_content.append(speech_content)\n",
    "        \n",
    "        # Parse the date and format it as YYYYMMDD\n",
    "        date_obj = datetime.strptime(speech_content['date'], '%B %d, %Y')\n",
    "        date_str = date_obj.strftime('%Y%m%d')\n",
    "        year_str = date_obj.strftime('%Y')\n",
    "        \n",
    "        # Get the speaker's last name\n",
    "        speaker_last_name = speech_content['speaker'].split()[-1]\n",
    "        \n",
    "        # Add speech to the corresponding year\n",
    "        if year_str not in speeches_by_year:\n",
    "            # Save the previous year's speeches if we are moving to a new year\n",
    "            if current_year and current_year != year_str:\n",
    "                with open(f'bog_fed_speeches/bog_fed_speeches_{current_year}.json', 'w', encoding='utf-8') as f:\n",
    "                    json.dump(speeches_by_year[current_year], f, ensure_ascii=False, indent=4)\n",
    "                print(f\"Saved speeches for year {current_year} to bog_fed_speeches_{current_year}.json\")\n",
    "            \n",
    "            speeches_by_year[year_str] = []\n",
    "            current_year = year_str\n",
    "        speeches_by_year[year_str].append(speech_content)\n",
    "        \n",
    "    time.sleep(2)  # Increased wait time between requests\n",
    "\n",
    "# Sort speeches by date\n",
    "speeches_with_content.sort(key=lambda x: datetime.strptime(x['date'], '%B %d, %Y'))\n",
    "# Save the last year's speeches\n",
    "if current_year:\n",
    "    with open(f'bog_fed_speeches/bog_fed_speeches_{current_year}.json', 'w', encoding='utf-8') as f:\n",
    "        json.dump(speeches_by_year[current_year], f, ensure_ascii=False, indent=4)\n",
    "    print(f\"Saved speeches for year {current_year} to bog_fed_speeches_{current_year}.json\")\n",
    "\n",
    "print(f\"Extracted content from {len(speeches_with_content)} speeches\")\n",
    "\n",
    "# Save all speeches to a single file as well\n",
    "with open('bog_fed_speeches/bog_fed_speeches_tdy.json', 'w', encoding='utf-8') as f:\n",
    "    json.dump(speeches_with_content, f, ensure_ascii=False, indent=4)\n",
    "print(\"Saved all speeches to bog_fed_speeches.json\")"
   ]
  },
  {
   "cell_type": "code",
   "execution_count": 14,
   "metadata": {},
   "outputs": [],
   "source": [
    "# Close the browser\n",
    "driver.quit()"
   ]
  }
 ],
 "metadata": {
  "kernelspec": {
   "display_name": "FOMCTS",
   "language": "python",
   "name": "python3"
  },
  "language_info": {
   "codemirror_mode": {
    "name": "ipython",
    "version": 3
   },
   "file_extension": ".py",
   "mimetype": "text/x-python",
   "name": "python",
   "nbconvert_exporter": "python",
   "pygments_lexer": "ipython3",
   "version": "3.12.6"
  }
 },
 "nbformat": 4,
 "nbformat_minor": 2
}
