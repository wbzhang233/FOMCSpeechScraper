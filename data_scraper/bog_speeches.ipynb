{
 "cells": [
  {
   "cell_type": "markdown",
   "metadata": {},
   "source": [
    "# Board of Governors演讲数据爬取\n",
    "\n",
    "@author: Mandy Lau, Wubin Zhang\n",
    "\n",
    "@date: Sep 25, 2024"
   ]
  },
  {
   "cell_type": "code",
   "execution_count": 17,
   "metadata": {},
   "outputs": [],
   "source": [
    "import sys\n",
    "sys.path.append(\"..\")\n",
    "\n",
    "from selenium import webdriver\n",
    "from selenium.webdriver.common.by import By\n",
    "from selenium.webdriver.support.ui import WebDriverWait\n",
    "from selenium.webdriver.support import expected_conditions as EC\n",
    "from selenium.common.exceptions import TimeoutException, WebDriverException, NoSuchElementException\n",
    "import time\n",
    "import json\n",
    "import os\n",
    "import re\n",
    "from datetime import datetime, timedelta\n",
    "\n",
    "from utils.file_saver import json_update, json_dump, json_load"
   ]
  },
  {
   "cell_type": "code",
   "execution_count": 18,
   "metadata": {},
   "outputs": [],
   "source": [
    "# automatically downloads and sets up ChromeDriver\n",
    "driver = webdriver.Chrome()"
   ]
  },
  {
   "cell_type": "code",
   "execution_count": 19,
   "metadata": {},
   "outputs": [
    {
     "name": "stdout",
     "output_type": "stream",
     "text": [
      "Federal Reserve Board - Speeches of Federal Reserve Officials\n"
     ]
    }
   ],
   "source": [
    "# Navigate to the Federal Reserve website\n",
    "# driver = webdriver.Chrome()\n",
    "driver.get(\"https://www.federalreserve.gov/newsevents/speeches.htm\")\n",
    "print(driver.title)"
   ]
  },
  {
   "cell_type": "code",
   "execution_count": 20,
   "metadata": {},
   "outputs": [],
   "source": [
    "# set the date range for scraping\n",
    "start_date = datetime(2006, 1, 1)\n",
    "# start_date = datetime(2024, 1, 1)\n",
    "# end_date = datetime.now()\n",
    "end_date = datetime(2012, 12, 31)"
   ]
  },
  {
   "cell_type": "code",
   "execution_count": 21,
   "metadata": {},
   "outputs": [],
   "source": [
    "# Function to get the most recent speech date from existing files\n",
    "def get_most_recent_speech_date(start_date, all_speeches_file: str, region):\n",
    "    \"\"\"获取已存档文件中最新的演讲日期\n",
    "\n",
    "    Args:\n",
    "        start_date (str): 开始时间\n",
    "        all_speeches_file (str): 存档文件路径\n",
    "        region (_type_): _description_\n",
    "\n",
    "    Returns:\n",
    "        _type_: _description_\n",
    "    \"\"\"\n",
    "    original_start_date = start_date  # original start date\n",
    "    if os.path.exists(all_speeches_file):\n",
    "        with open(all_speeches_file, 'r', encoding='utf-8') as f:\n",
    "            speeches = json.load(f)\n",
    "            if speeches: # Check if the file is not empty\n",
    "                last_speech = speeches[0]\n",
    "                most_recent_date = datetime.strptime(last_speech['date'], '%B %d, %Y')  if region == 'bog' else datetime.strptime(last_speech['date'], '%b %d, %Y')\n",
    "                return most_recent_date\n",
    "    \n",
    "    return original_start_date"
   ]
  },
  {
   "cell_type": "code",
   "execution_count": 22,
   "metadata": {},
   "outputs": [
    {
     "name": "stdout",
     "output_type": "stream",
     "text": [
      "Starting scrape from: 2006-01-01\n"
     ]
    }
   ],
   "source": [
    "# Get the most recent speech date\n",
    "all_speeches_file = '../data/fed_speeches/bog_fed_speeches/bog_fed_speeches_tdy.json'\n",
    "# most_recent_date = get_most_recent_speech_date(start_date, all_speeches_file, 'bog')\n",
    "most_recent_date = start_date\n",
    "print(f\"Starting scrape from: {most_recent_date.strftime('%Y-%m-%d')}\")"
   ]
  },
  {
   "cell_type": "code",
   "execution_count": 23,
   "metadata": {},
   "outputs": [
    {
     "name": "stdout",
     "output_type": "stream",
     "text": [
      "Date range set: 2006-01-01 to 2012-12-31\n"
     ]
    }
   ],
   "source": [
    "# Locate the start and end date input fields and set the desired dates\n",
    "start_date_elem = driver.find_element(By.CSS_SELECTOR, \"#content > div.row.ng-scope > div > div.col-xs-12.col-sm-8.col-md-10.angularEvents.ng-scope > form > div:nth-child(2) > div > div:nth-child(1) > input\")\n",
    "end_date_elem = driver.find_element(By.CSS_SELECTOR, \"#content > div.row.ng-scope > div > div.col-xs-12.col-sm-8.col-md-10.angularEvents.ng-scope > form > div:nth-child(2) > div > div:nth-child(3) > input\")\n",
    "# Clear existing dates\n",
    "start_date_elem.clear()\n",
    "end_date_elem.clear()\n",
    "# set the dates\n",
    "start_date_elem.send_keys(most_recent_date.strftime('%Y-%m-%d'))\n",
    "end_date_elem.send_keys(end_date.strftime('%Y-%m-%d'))\n",
    "print(\"Date range set: {} to {}\".format(most_recent_date.strftime('%Y-%m-%d'), end_date.strftime('%Y-%m-%d')))"
   ]
  },
  {
   "cell_type": "code",
   "execution_count": 24,
   "metadata": {},
   "outputs": [],
   "source": [
    "speaker_chechboxes = driver.find_elements(\n",
    "    by=By.XPATH, value=\"//content/div/div/div/form/div/div/label/input\"\n",
    ")"
   ]
  },
  {
   "cell_type": "code",
   "execution_count": 25,
   "metadata": {},
   "outputs": [],
   "source": [
    "# Locate the checkboxes for the desired speakers\n",
    "powell = driver.find_element(By.CSS_SELECTOR, \"#content > div.row.ng-scope > div > div.col-xs-12.col-sm-8.col-md-10.angularEvents.ng-scope > form > div:nth-child(4) > div:nth-child(1) > label > input\")\n",
    "jefferson = driver.find_element(By.CSS_SELECTOR, \"#content > div.row.ng-scope > div > div.col-xs-12.col-sm-8.col-md-10.angularEvents.ng-scope > form > div:nth-child(4) > div:nth-child(2) > label > input\")\n",
    "barr = driver.find_element(By.CSS_SELECTOR, \"#content > div.row.ng-scope > div > div.col-xs-12.col-sm-8.col-md-10.angularEvents.ng-scope > form > div:nth-child(4) > div:nth-child(3) > label > input\")\n",
    "bowman = driver.find_element(By.CSS_SELECTOR, \"#content > div.row.ng-scope > div > div.col-xs-12.col-sm-8.col-md-10.angularEvents.ng-scope > form > div:nth-child(4) > div:nth-child(4) > label > input\")\n",
    "cook = driver.find_element(By.CSS_SELECTOR, \"#content > div.row.ng-scope > div > div.col-xs-12.col-sm-8.col-md-10.angularEvents.ng-scope > form > div:nth-child(4) > div:nth-child(5) > label > input\")\n",
    "kugler = driver.find_element(By.CSS_SELECTOR, \"#content > div.row.ng-scope > div > div.col-xs-12.col-sm-8.col-md-10.angularEvents.ng-scope > form > div:nth-child(4) > div:nth-child(6) > label > input\")\n",
    "waller = driver.find_element(By.CSS_SELECTOR, \"#content > div.row.ng-scope > div > div.col-xs-12.col-sm-8.col-md-10.angularEvents.ng-scope > form > div:nth-child(4) > div:nth-child(7) > label > input\")\n",
    "former = driver.find_element(By.CSS_SELECTOR, \"#content > div.row.ng-scope > div > div.col-xs-12.col-sm-8.col-md-10.angularEvents.ng-scope > form > div:nth-child(4) > div:nth-child(8) > label > input\")\n",
    "# click the checkboxes for the desired speakers\n",
    "powell.click()\n",
    "jefferson.click()\n",
    "barr.click()\n",
    "bowman.click()\n",
    "cook.click()\n",
    "kugler.click()\n",
    "waller.click()\n",
    "former.click()"
   ]
  },
  {
   "cell_type": "code",
   "execution_count": 26,
   "metadata": {},
   "outputs": [],
   "source": [
    "# click the search button to filter the speeches\n",
    "search_button = driver.find_element(By.XPATH, \"/html/body/div[3]/div[2]/div/div[1]/form/div[5]\")\n",
    "search_button.click()\n",
    "time.sleep(1.2)"
   ]
  },
  {
   "cell_type": "code",
   "execution_count": 28,
   "metadata": {},
   "outputs": [],
   "source": [
    "def get_speech_links_from_current_page():\n",
    "    \"\"\"搜集当前页面的所有演讲链接\n",
    "\n",
    "    Returns:\n",
    "        (list): 演讲链接列表\n",
    "    \"\"\"\n",
    "    try:\n",
    "        speech_rows = driver.find_elements(By.CSS_SELECTOR, \"div.row.ng-scope[ng-repeat^='item in items']\")\n",
    "        speech_urls = []\n",
    "        for row in speech_rows:\n",
    "            try:\n",
    "                # 演讲稿链接\n",
    "                link = row.find_element(By.CSS_SELECTOR, \"p.itemTitle em a\")\n",
    "                href = link.get_attribute('href')\n",
    "                # print(href)\n",
    "                title = link.text\n",
    "                # print(title)\n",
    "                date = row.find_element(By.CSS_SELECTOR, \"time\").text\n",
    "                # article > div.angularEvents.items.ng-scope > div:nth-child(2) > div.col-xs-3.col-md-2.eventlist__time > time\n",
    "                speech_urls.append({'href': href, 'title': title, 'date': date})\n",
    "            except NoSuchElementException:\n",
    "                print(f\"Could not find link or date in a row. Skipping.\")\n",
    "        return speech_urls\n",
    "    except Exception as e:\n",
    "        print(f\"Error extracting speech URLs from the current page: {e}\")\n",
    "        return []\n",
    "    \n",
    "# speech_infos = get_speech_links_from_current_page()\n",
    "# speech_infos"
   ]
  },
  {
   "cell_type": "code",
   "execution_count": null,
   "metadata": {},
   "outputs": [
    {
     "name": "stdout",
     "output_type": "stream",
     "text": [
      "Reached speeches older than the most recent date. Stopping pagination.\n",
      "Total new speeches found: 0\n"
     ]
    },
    {
     "ename": "",
     "evalue": "",
     "output_type": "error",
     "traceback": [
      "\u001b[1;31m在当前单元格或上一个单元格中执行代码时 Kernel 崩溃。\n",
      "\u001b[1;31m请查看单元格中的代码，以确定故障的可能原因。\n",
      "\u001b[1;31m单击<a href='https://aka.ms/vscodeJupyterKernelCrash'>此处</a>了解详细信息。\n",
      "\u001b[1;31m有关更多详细信息，请查看 Jupyter <a href='command:jupyter.viewOutput'>log</a>。"
     ]
    }
   ],
   "source": [
    "all_speeches = []\n",
    "while True:\n",
    "    # Get links from the current page\n",
    "    page_speeches = get_speech_links_from_current_page()\n",
    "    if not page_speeches:\n",
    "        print(\"No more speeches found or error occurred. Stopping pagination.\")\n",
    "        break\n",
    "    \n",
    "    for speech in page_speeches:\n",
    "        speech_date = datetime.strptime(speech['date'], '%m/%d/%Y')\n",
    "        if speech_date <= most_recent_date or speech_date >=end_date:\n",
    "            # 以前的收集过就不收集了\n",
    "            print(\"Reached speeches older than the most recent date. Stopping pagination.\")\n",
    "            break\n",
    "        all_speeches.append(speech)\n",
    "    else:\n",
    "        # Try to find and click the \"Next\" button\n",
    "        try:\n",
    "            next_button = driver.find_element(By.CSS_SELECTOR, \"li.pagination-next:not(.disabled) a\")\n",
    "            driver.execute_script(\"arguments[0].click();\", next_button) # Wait for the next page to load\n",
    "            continue\n",
    "        except NoSuchElementException:\n",
    "            print(\"Next button not found or disabled. Reached last page.\")\n",
    "            break\n",
    "    break\n",
    "print(f\"Total new speeches found: {len(all_speeches)}\")"
   ]
  },
  {
   "cell_type": "code",
   "execution_count": 13,
   "metadata": {},
   "outputs": [],
   "source": [
    "def extract_speech_content(url):\n",
    "    try:\n",
    "        driver.get(url)\n",
    "        # Wait for the content to load\n",
    "        WebDriverWait(driver, 10).until(\n",
    "            EC.presence_of_element_located((By.ID, \"content\"))\n",
    "        )\n",
    "        # Extract the speech date\n",
    "        date = driver.find_element(By.CSS_SELECTOR, \"#article > div.heading.col-xs-12.col-sm-8.col-md-8 > p.article__time\").text\n",
    "        # Extract the speech title\n",
    "        title = driver.find_element(By.CSS_SELECTOR, \"#article > div.heading.col-xs-12.col-sm-8.col-md-8 > h3\").text\n",
    "        # Extract the speaker\n",
    "        speaker = driver.find_element(By.CSS_SELECTOR, \"#article > div.heading.col-xs-12.col-sm-8.col-md-8 > p.speaker\").text\n",
    "        # Extract the speech content\n",
    "        content_paragraphs = driver.find_elements(By.CSS_SELECTOR, \"#article .col-xs-12.col-sm-8.col-md-8 > p\")\n",
    "        content = \"\\n\\n\".join([p.text for p in content_paragraphs])\n",
    "        \n",
    "        return {\n",
    "            'title': title,\n",
    "            'date': date,\n",
    "            'speaker': speaker,\n",
    "            'url': url,\n",
    "            'content': content\n",
    "        }\n",
    "    except TimeoutException as e:\n",
    "        print(f\"Timeout error extracting content from {url}: {str(e)}\")\n",
    "    except WebDriverException as e:\n",
    "        print(f\"WebDriver error extracting content from {url}: {str(e)}\")\n",
    "    except Exception as e:\n",
    "        print(f\"Unexpected error extracting content from {url}: {str(e)}\")"
   ]
  },
  {
   "cell_type": "code",
   "execution_count": 14,
   "metadata": {},
   "outputs": [
    {
     "name": "stdout",
     "output_type": "stream",
     "text": [
      "Extracted content from 0 speeches\n",
      "Saved all speeches to bog_fed_speeches.json\n"
     ]
    }
   ],
   "source": [
    "def sanitize_filename(filename):\n",
    "    # Remove invalid characters and replace spaces with underscores\n",
    "    return re.sub(r'[^\\w\\-_\\. ]', '', filename).replace(' ', '_')\n",
    "\n",
    "# Ensure the directory exists\n",
    "os.makedirs('speeches', exist_ok=True)\n",
    "\n",
    "speeches_by_year = {}\n",
    "current_year = None\n",
    "speeches_with_content = []\n",
    "for index, speech in enumerate(all_speeches):\n",
    "    print(f\"Extracting content from: {speech['title']}\")\n",
    "    # 获取所有演讲的正文\n",
    "    speech_content = extract_speech_content(speech['href'])\n",
    "    if speech_content:\n",
    "        speeches_with_content.append(speech_content)\n",
    "        \n",
    "        # Parse the date and format it as YYYYMMDD\n",
    "        date_obj = datetime.strptime(speech_content['date'], '%B %d, %Y')\n",
    "        date_str = date_obj.strftime('%Y%m%d')\n",
    "        year_str = date_obj.strftime('%Y')\n",
    "        \n",
    "        # Get the speaker's last name\n",
    "        speaker_last_name = speech_content['speaker'].split()[-1]\n",
    "        \n",
    "        # Add speech to the corresponding year\n",
    "        if year_str not in speeches_by_year:\n",
    "            # Save the previous year's speeches if we are moving to a new year\n",
    "            if current_year and current_year != year_str:\n",
    "                # with open(\n",
    "                #     f\"../data/fed_speeches/bog_fed_speeches/bog_fed_speeches_{current_year}.json\",\n",
    "                #     \"w\",\n",
    "                #     encoding=\"utf-8\",\n",
    "                # ) as f:\n",
    "                #     json.dump(speeches_by_year[current_year], f, ensure_ascii=False, indent=4)\n",
    "                json_update(\n",
    "                    filepath=f\"../data/fed_speeches/bog_fed_speeches/bog_fed_speeches_{current_year}.json\",\n",
    "                    obj=speeches_by_year[current_year]\n",
    "                )\n",
    "                print(f\"Saved speeches for year {current_year} to bog_fed_speeches_{current_year}.json\")\n",
    "            \n",
    "            speeches_by_year[year_str] = []\n",
    "            current_year = year_str\n",
    "        speeches_by_year[year_str].append(speech_content)\n",
    "        \n",
    "    time.sleep(2)  # Increased wait time between requests\n",
    "\n",
    "# Sort speeches by date\n",
    "speeches_with_content.sort(key=lambda x: datetime.strptime(x['date'], '%B %d, %Y'))\n",
    "# Save the last year's speeches\n",
    "if current_year:\n",
    "    # with open(f'../data/fed_speeches/bog_fed_speeches/bog_fed_speeches_{current_year}.json', 'w', encoding='utf-8') as f:\n",
    "    #     json.dump(speeches_by_year[current_year], f, ensure_ascii=False, indent=4)\n",
    "    json_update(\n",
    "        filepath=f\"../data/fed_speeches/bog_fed_speeches/bog_fed_speeches_{current_year}.json\",\n",
    "        obj=speeches_by_year[current_year]\n",
    "    )\n",
    "    print(f\"Saved speeches for year {current_year} to bog_fed_speeches_{current_year}.json\")\n",
    "\n",
    "print(f\"Extracted content from {len(speeches_with_content)} speeches\")\n",
    "\n",
    "# Save all speeches to a single file as well\n",
    "# with open(\n",
    "#     \"../data/fed_speeches/bog_fed_speeches/bog_fed_speeches_tdy.json\",\n",
    "#     \"w\",\n",
    "#     encoding=\"utf-8\",\n",
    "# ) as f:\n",
    "#     json.dump(speeches_with_content, f, ensure_ascii=False, indent=4)\n",
    "json_update(\n",
    "    filepath=\"../data/fed_speeches/bog_fed_speeches/bog_fed_speeches.json\",\n",
    "    obj=speeches_with_content\n",
    ")\n",
    "print(\"Saved all speeches to bog_fed_speeches.json\")"
   ]
  },
  {
   "cell_type": "code",
   "execution_count": 15,
   "metadata": {},
   "outputs": [],
   "source": [
    "# Close the browser\n",
    "driver.quit()"
   ]
  }
 ],
 "metadata": {
  "kernelspec": {
   "display_name": "FOMCTS",
   "language": "python",
   "name": "python3"
  },
  "language_info": {
   "codemirror_mode": {
    "name": "ipython",
    "version": 3
   },
   "file_extension": ".py",
   "mimetype": "text/x-python",
   "name": "python",
   "nbconvert_exporter": "python",
   "pygments_lexer": "ipython3",
   "version": "3.12.6"
  }
 },
 "nbformat": 4,
 "nbformat_minor": 2
}
