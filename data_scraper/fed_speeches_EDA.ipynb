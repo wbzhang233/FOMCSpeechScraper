{
 "cells": [
  {
   "cell_type": "markdown",
   "metadata": {},
   "source": [
    "# 美联储FOMC官员讲话数据EDA ❤\n",
    "\n",
    "@AUTHOR: WBZHANG / 01208663\n",
    "\n",
    "@DATE: Oct. 31, 2024"
   ]
  },
  {
   "cell_type": "code",
   "execution_count": 15,
   "metadata": {},
   "outputs": [
    {
     "name": "stdout",
     "output_type": "stream",
     "text": [
      "['../data/fed_speeches\\\\atlanta_fed_speeches', '../data/fed_speeches\\\\bog_fed_speeches', '../data/fed_speeches\\\\boston_fed_speeches', '../data/fed_speeches\\\\chicago_fed_speeches', '../data/fed_speeches\\\\cleveland_fed_speeches', '../data/fed_speeches\\\\dallas_fed_speeches', '../data/fed_speeches\\\\kansascity_fed_speeches', '../data/fed_speeches\\\\minneapolis_fed_speeches', '../data/fed_speeches\\\\newyork_fed_speeches', '../data/fed_speeches\\\\philadelphia_fed_speeches', '../data/fed_speeches\\\\richmond_fed_speeches', '../data/fed_speeches\\\\sanfrancisco_fed_speeches', '../data/fed_speeches\\\\stlouis_fed_speeches']\n"
     ]
    }
   ],
   "source": [
    "import os\n",
    "import sys\n",
    "sys.path.append(\"../\")\n",
    "import json\n",
    "import glob\n",
    "import numpy as np\n",
    "import pandas as pd\n",
    "from utils.file_saver import json_load\n",
    "from utils.common import parse_datestring\n",
    "\n",
    "FED_SPEECHES_PATH = \"../data/fed_speeches/\"\n",
    "\n",
    "speech_dirs = glob.glob(FED_SPEECHES_PATH + \"*_speeches\")\n",
    "print(speech_dirs)"
   ]
  },
  {
   "cell_type": "markdown",
   "metadata": {},
   "source": [
    "## 1. 加载数据集"
   ]
  },
  {
   "cell_type": "code",
   "execution_count": 28,
   "metadata": {},
   "outputs": [
    {
     "name": "stdout",
     "output_type": "stream",
     "text": [
      "speeches filepath: ../data/fed_speeches\\boston_fed_speeches\n",
      "['../data/fed_speeches\\\\boston_fed_speeches\\\\boston_fed_speeches.json']\n"
     ]
    }
   ],
   "source": [
    "CHOSEN_INDEX = 2\n",
    "speeches_filapath = speech_dirs[2]\n",
    "print(\"speeches filepath: {}\".format(speeches_filapath))\n",
    "\n",
    "speech_files = glob.glob(speeches_filapath + \"//*_speeches.json\")\n",
    "print(speech_files)\n",
    "# 加载数据\n",
    "speeches_by_year = json_load(speech_files[0])"
   ]
  },
  {
   "cell_type": "markdown",
   "metadata": {},
   "source": [
    "## 2. 探索性分析"
   ]
  },
  {
   "cell_type": "code",
   "execution_count": 29,
   "metadata": {},
   "outputs": [
    {
     "name": "stdout",
     "output_type": "stream",
     "text": [
      "19 years of ../data/fed_speeches\\boston_fed_speeches\\boston_fed_speeches.json speeches was collected. \n",
      " StartYear: 2006 - EndYear: 2024 \n",
      "215 speeches was collected. \n",
      " BeginDate: 2006-01-06 / EndDate: 2024-10-09 \n"
     ]
    }
   ],
   "source": [
    "# 年份跨度\n",
    "start_year, end_year = min(speeches_by_year.keys()), max(speeches_by_year.keys())\n",
    "print(\n",
    "    f\"{len(speeches_by_year)} years of {speech_files[0]} speeches was collected. \\n StartYear: {start_year} - EndYear: {end_year} \"\n",
    ")\n",
    "# 日期跨度\n",
    "speech_dates = [\n",
    "    parse_datestring(v[\"date\"])\n",
    "    for year, single_year_speeches in speeches_by_year.items()\n",
    "    for v in single_year_speeches\n",
    "]\n",
    "begin_date = min(speech_dates)\n",
    "end_date = max(speech_dates)\n",
    "print(\n",
    "    f\"{len(speech_dates)} speeches was collected. \\n BeginDate: {begin_date.date()} / EndDate: {end_date.date()} \"\n",
    ")"
   ]
  },
  {
   "cell_type": "code",
   "execution_count": 30,
   "metadata": {},
   "outputs": [
    {
     "name": "stdout",
     "output_type": "stream",
     "text": [
      "0  -  28701\n"
     ]
    }
   ],
   "source": [
    "# speech 正文长度统计\n",
    "content_length = [\n",
    "    len(v[\"content\"])\n",
    "    for year, single_year_speeches in speeches_by_year.items()\n",
    "    for v in single_year_speeches\n",
    "]\n",
    "print(min(content_length), ' - ', max(content_length))"
   ]
  },
  {
   "cell_type": "code",
   "execution_count": 46,
   "metadata": {},
   "outputs": [
    {
     "name": "stdout",
     "output_type": "stream",
     "text": [
      "<class 'pandas.core.frame.DataFrame'>\n",
      "Index: 215 entries, 0 to 4\n",
      "Data columns (total 10 columns):\n",
      " #   Column          Non-Null Count  Dtype         \n",
      "---  ------          --------------  -----         \n",
      " 0   speech_title    215 non-null    object        \n",
      " 1   highlights      215 non-null    object        \n",
      " 2   content         215 non-null    object        \n",
      " 3   date            215 non-null    datetime64[ns]\n",
      " 4   title           215 non-null    object        \n",
      " 5   href            215 non-null    object        \n",
      " 6   summary         215 non-null    object        \n",
      " 7   speaker         215 non-null    object        \n",
      " 8   year            215 non-null    object        \n",
      " 9   content_length  215 non-null    int64         \n",
      "dtypes: datetime64[ns](1), int64(1), object(8)\n",
      "memory usage: 18.5+ KB\n",
      "None\n"
     ]
    },
    {
     "name": "stderr",
     "output_type": "stream",
     "text": [
      "C:\\Users\\Administrator\\AppData\\Local\\Temp\\ipykernel_3624\\1004843185.py:8: UserWarning: Could not infer format, so each element will be parsed individually, falling back to `dateutil`. To ensure parsing is consistent and as-expected, please specify a format.\n",
      "  speeches[\"date\"] = pd.to_datetime(speeches[\"date\"])\n"
     ]
    },
    {
     "data": {
      "text/html": [
       "<div>\n",
       "<style scoped>\n",
       "    .dataframe tbody tr th:only-of-type {\n",
       "        vertical-align: middle;\n",
       "    }\n",
       "\n",
       "    .dataframe tbody tr th {\n",
       "        vertical-align: top;\n",
       "    }\n",
       "\n",
       "    .dataframe thead th {\n",
       "        text-align: right;\n",
       "    }\n",
       "</style>\n",
       "<table border=\"1\" class=\"dataframe\">\n",
       "  <thead>\n",
       "    <tr style=\"text-align: right;\">\n",
       "      <th></th>\n",
       "      <th>speech_title</th>\n",
       "      <th>highlights</th>\n",
       "      <th>content</th>\n",
       "      <th>date</th>\n",
       "      <th>title</th>\n",
       "      <th>href</th>\n",
       "      <th>summary</th>\n",
       "      <th>speaker</th>\n",
       "      <th>year</th>\n",
       "      <th>content_length</th>\n",
       "    </tr>\n",
       "  </thead>\n",
       "  <tbody>\n",
       "    <tr>\n",
       "      <th>0</th>\n",
       "      <td>Observations on the Economy, and the Vibrancy ...</td>\n",
       "      <td>Worcester Regional Research Bureau’s 39th Annu...</td>\n",
       "      <td>Takeaways from Boston Fed President Susan M. C...</td>\n",
       "      <td>2024-10-09</td>\n",
       "      <td>Observations on the Economy, and the Vibrancy ...</td>\n",
       "      <td>https://www.bostonfed.org/news-and-events/spee...</td>\n",
       "      <td>Worcester Regional Research Bureau’s 39th Annu...</td>\n",
       "      <td>Susan M. Collins, President &amp; Chief Executive ...</td>\n",
       "      <td>2024</td>\n",
       "      <td>3150</td>\n",
       "    </tr>\n",
       "    <tr>\n",
       "      <th>1</th>\n",
       "      <td>Remarks at the 23rd Annual Regional and Commun...</td>\n",
       "      <td>Federal Reserve Bank of Boston’s 22nd Annual R...</td>\n",
       "      <td>Boston Fed President &amp; CEO Susan M. Collins of...</td>\n",
       "      <td>2024-10-08</td>\n",
       "      <td>Remarks at the 23rd Annual Regional and Commun...</td>\n",
       "      <td>https://www.bostonfed.org/news-and-events/spee...</td>\n",
       "      <td>Federal Reserve Bank of Boston’s 22nd Annual R...</td>\n",
       "      <td>Susan M. Collins, President &amp; Chief Executive ...</td>\n",
       "      <td>2024</td>\n",
       "      <td>143</td>\n",
       "    </tr>\n",
       "    <tr>\n",
       "      <th>2</th>\n",
       "      <td>Welcoming Remarks at the forum on “Meeting the...</td>\n",
       "      <td></td>\n",
       "      <td>Collins offered brief welcome remarks at a com...</td>\n",
       "      <td>2024-09-30</td>\n",
       "      <td>Welcoming Remarks at the forum on “Meeting the...</td>\n",
       "      <td>https://www.bostonfed.org/news-and-events/spee...</td>\n",
       "      <td></td>\n",
       "      <td>Susan M. Collins, President &amp; Chief Executive ...</td>\n",
       "      <td>2024</td>\n",
       "      <td>137</td>\n",
       "    </tr>\n",
       "    <tr>\n",
       "      <th>3</th>\n",
       "      <td>A Partnership for Progress</td>\n",
       "      <td>Remarks to members of the Merrimack Valley com...</td>\n",
       "      <td>Takeaways from Boston Fed President Susan M. C...</td>\n",
       "      <td>2024-06-18</td>\n",
       "      <td>A Partnership for Progress</td>\n",
       "      <td>https://www.bostonfed.org/news-and-events/spee...</td>\n",
       "      <td>Remarks to members of the Merrimack Valley com...</td>\n",
       "      <td>Susan M. Collins, President &amp; Chief Executive ...</td>\n",
       "      <td>2024</td>\n",
       "      <td>1834</td>\n",
       "    </tr>\n",
       "    <tr>\n",
       "      <th>4</th>\n",
       "      <td>Reflections on Uncertainty and Patience in Mon...</td>\n",
       "      <td>Remarks at the Sloan School of Management at t...</td>\n",
       "      <td>Boston Fed President and CEO Susan M. Collins'...</td>\n",
       "      <td>2024-05-08</td>\n",
       "      <td>Reflections on Uncertainty and Patience in Mon...</td>\n",
       "      <td>https://www.bostonfed.org/news-and-events/spee...</td>\n",
       "      <td>Remarks at the Sloan School of Management at t...</td>\n",
       "      <td>Susan M. Collins, President &amp; Chief Executive ...</td>\n",
       "      <td>2024</td>\n",
       "      <td>198</td>\n",
       "    </tr>\n",
       "  </tbody>\n",
       "</table>\n",
       "</div>"
      ],
      "text/plain": [
       "                                        speech_title  \\\n",
       "0  Observations on the Economy, and the Vibrancy ...   \n",
       "1  Remarks at the 23rd Annual Regional and Commun...   \n",
       "2  Welcoming Remarks at the forum on “Meeting the...   \n",
       "3                         A Partnership for Progress   \n",
       "4  Reflections on Uncertainty and Patience in Mon...   \n",
       "\n",
       "                                          highlights  \\\n",
       "0  Worcester Regional Research Bureau’s 39th Annu...   \n",
       "1  Federal Reserve Bank of Boston’s 22nd Annual R...   \n",
       "2                                                      \n",
       "3  Remarks to members of the Merrimack Valley com...   \n",
       "4  Remarks at the Sloan School of Management at t...   \n",
       "\n",
       "                                             content       date  \\\n",
       "0  Takeaways from Boston Fed President Susan M. C... 2024-10-09   \n",
       "1  Boston Fed President & CEO Susan M. Collins of... 2024-10-08   \n",
       "2  Collins offered brief welcome remarks at a com... 2024-09-30   \n",
       "3  Takeaways from Boston Fed President Susan M. C... 2024-06-18   \n",
       "4  Boston Fed President and CEO Susan M. Collins'... 2024-05-08   \n",
       "\n",
       "                                               title  \\\n",
       "0  Observations on the Economy, and the Vibrancy ...   \n",
       "1  Remarks at the 23rd Annual Regional and Commun...   \n",
       "2  Welcoming Remarks at the forum on “Meeting the...   \n",
       "3                         A Partnership for Progress   \n",
       "4  Reflections on Uncertainty and Patience in Mon...   \n",
       "\n",
       "                                                href  \\\n",
       "0  https://www.bostonfed.org/news-and-events/spee...   \n",
       "1  https://www.bostonfed.org/news-and-events/spee...   \n",
       "2  https://www.bostonfed.org/news-and-events/spee...   \n",
       "3  https://www.bostonfed.org/news-and-events/spee...   \n",
       "4  https://www.bostonfed.org/news-and-events/spee...   \n",
       "\n",
       "                                             summary  \\\n",
       "0  Worcester Regional Research Bureau’s 39th Annu...   \n",
       "1  Federal Reserve Bank of Boston’s 22nd Annual R...   \n",
       "2                                                      \n",
       "3  Remarks to members of the Merrimack Valley com...   \n",
       "4  Remarks at the Sloan School of Management at t...   \n",
       "\n",
       "                                             speaker  year  content_length  \n",
       "0  Susan M. Collins, President & Chief Executive ...  2024            3150  \n",
       "1  Susan M. Collins, President & Chief Executive ...  2024             143  \n",
       "2  Susan M. Collins, President & Chief Executive ...  2024             137  \n",
       "3  Susan M. Collins, President & Chief Executive ...  2024            1834  \n",
       "4  Susan M. Collins, President & Chief Executive ...  2024             198  "
      ]
     },
     "execution_count": 46,
     "metadata": {},
     "output_type": "execute_result"
    }
   ],
   "source": [
    "speeches = []\n",
    "for year, single_year_records in speeches_by_year.items():\n",
    "    single_year_speeches = pd.DataFrame.from_records(single_year_records)\n",
    "    single_year_speeches[\"year\"] = year\n",
    "    speeches.append(single_year_speeches)\n",
    "speeches = pd.concat(speeches, axis=0)\n",
    "# 日期格式转换\n",
    "speeches[\"date\"] = pd.to_datetime(speeches[\"date\"])\n",
    "# 正文长度\n",
    "speeches[\"content_length\"] = speeches[\"content\"].transform(lambda x: len(x))\n",
    "speeches.sort_values(by=\"date\", ascending=False, inplace=True)\n",
    "print(speeches.info())\n",
    "speeches.head()"
   ]
  },
  {
   "cell_type": "code",
   "execution_count": null,
   "metadata": {},
   "outputs": [
    {
     "data": {
      "text/plain": [
       "['https://www.bostonfed.org/news-and-events/speeches/municipal-strategies-for-financial-empowerment.aspx',\n",
       " 'https://www.bostonfed.org/news-and-events/speeches/some-observations-on-the-international-implications-of-asset-bubbles.aspx']"
      ]
     },
     "execution_count": 52,
     "metadata": {},
     "output_type": "execute_result"
    }
   ],
   "source": [
    "# 查看无法获取正文的href链接，分析原因\n",
    "speeches.loc[speeches[\"content_length\"] == 0, \"href\"].tolist()"
   ]
  },
  {
   "cell_type": "markdown",
   "metadata": {},
   "source": [
    "波士顿：Boston无法获取到content的原因是因为的确没有提供，或者讲话数据以pdf链接的形式提供。"
   ]
  },
  {
   "cell_type": "code",
   "execution_count": 49,
   "metadata": {},
   "outputs": [
    {
     "name": "stdout",
     "output_type": "stream",
     "text": [
      "正文缺失的个数：2\n"
     ]
    },
    {
     "data": {
      "text/plain": [
       "{'count': 215.0,\n",
       " 'mean': 7931.013953488372,\n",
       " 'std': 8450.459532646051,\n",
       " 'min': 0.0,\n",
       " '25%': 2151.5,\n",
       " '50%': 3018.0,\n",
       " '75%': 15945.5,\n",
       " 'max': 28701.0,\n",
       " 'missing': 2}"
      ]
     },
     "execution_count": 49,
     "metadata": {},
     "output_type": "execute_result"
    }
   ],
   "source": [
    "# 正文缺失的个数\n",
    "missing_number = sum(speeches[\"content_length\"] == 0)\n",
    "print(f\"正文缺失的个数：{missing_number}\")\n",
    "# 正文长度统计\n",
    "content_length_desc = speeches[\"content_length\"].describe().to_dict()\n",
    "content_length_desc[\"missing\"] = missing_number\n",
    "content_length_desc"
   ]
  },
  {
   "cell_type": "code",
   "execution_count": null,
   "metadata": {},
   "outputs": [],
   "source": [
    "# speeches.groupby([\"year\"]).apply(lambda gpdf: gpdf[['content_length']].describe())\n"
   ]
  },
  {
   "cell_type": "markdown",
   "metadata": {},
   "source": [
    "# 美联储讲话数据EDA\udc9a\n",
    "\n",
    "@AUTHOR: WBZHANG / 01208663\n",
    "\n",
    "@DATE: Oct. 31, 2024"
   ]
  }
 ],
 "metadata": {
  "kernelspec": {
   "display_name": "FOMCTS",
   "language": "python",
   "name": "python3"
  },
  "language_info": {
   "codemirror_mode": {
    "name": "ipython",
    "version": 3
   },
   "file_extension": ".py",
   "mimetype": "text/x-python",
   "name": "python",
   "nbconvert_exporter": "python",
   "pygments_lexer": "ipython3",
   "version": "3.12.6"
  }
 },
 "nbformat": 4,
 "nbformat_minor": 2
}
