{
 "cells": [
  {
   "cell_type": "markdown",
   "metadata": {},
   "source": [
    "# 美联储FOMC官员讲话数据EDA ❤\n",
    "\n",
    "@AUTHOR: WBZHANG / 01208663\n",
    "\n",
    "@DATE: Oct. 31, 2024"
   ]
  },
  {
   "cell_type": "code",
   "execution_count": null,
   "metadata": {},
   "outputs": [
    {
     "name": "stdout",
     "output_type": "stream",
     "text": [
      "['../data/fed_speeches/atlanta_fed_speeches', '../data/fed_speeches/bog_fed_speeches', '../data/fed_speeches/boston_fed_speeches', '../data/fed_speeches/chicago_fed_speeches', '../data/fed_speeches/cleveland_fed_speeches', '../data/fed_speeches/dallas_fed_speeches', '../data/fed_speeches/kansascity_fed_speeches', '../data/fed_speeches/minneapolis_fed_speeches', '../data/fed_speeches/newyork_fed_speeches', '../data/fed_speeches/philadelphia_fed_speeches', '../data/fed_speeches/richmond_fed_speeches', '../data/fed_speeches/sanfrancisco_fed_speeches', '../data/fed_speeches/stlouis_fed_speeches']\n"
     ]
    }
   ],
   "source": [
    "import os\n",
    "import sys\n",
    "sys.path.append(\"../\")\n",
    "import json\n",
    "import glob\n",
    "import numpy as np\n",
    "import pandas as pd\n",
    "from utils.file_saver import json_load\n",
    "from utils.common import parse_datestring\n",
    "\n",
    "FED_SPEECHES_PATH = \"../data/fed_speeches/\"\n",
    "\n",
    "speech_dirs = glob.glob(FED_SPEECHES_PATH + \"*_speeches\")\n",
    "speech_dirs = [x.replace(\"\\\\\", \"/\") for x in speech_dirs]\n",
    "print(speech_dirs)"
   ]
  },
  {
   "cell_type": "markdown",
   "metadata": {},
   "source": [
    "## 1. 加载数据集"
   ]
  },
  {
   "cell_type": "code",
   "execution_count": 33,
   "metadata": {},
   "outputs": [
    {
     "name": "stdout",
     "output_type": "stream",
     "text": [
      "speeches filepath: ../data/fed_speeches\\boston_fed_speeches\n",
      "['../data/fed_speeches\\\\boston_fed_speeches\\\\boston_fed_speeches.json']\n"
     ]
    }
   ],
   "source": [
    "CHOSEN_INDEX = 2\n",
    "speeches_filapath = speech_dirs[2]\n",
    "print(\"speeches filepath: {}\".format(speeches_filapath))\n",
    "\n",
    "speech_files = glob.glob(speeches_filapath + \"//*_speeches.json\")\n",
    "print(speech_files)\n",
    "# 加载数据\n",
    "speeches_by_year = json_load(speech_files[0])"
   ]
  },
  {
   "cell_type": "markdown",
   "metadata": {},
   "source": [
    "## 2. 探索性分析"
   ]
  },
  {
   "cell_type": "code",
   "execution_count": 34,
   "metadata": {},
   "outputs": [
    {
     "name": "stdout",
     "output_type": "stream",
     "text": [
      "19 years of ../data/fed_speeches\\boston_fed_speeches\\boston_fed_speeches.json speeches was collected. \n",
      " StartYear: 2006 - EndYear: 2024 \n",
      "215 speeches was collected. \n",
      " BeginDate: 2006-01-06 / EndDate: 2024-10-09 \n"
     ]
    }
   ],
   "source": [
    "# 年份跨度\n",
    "start_year, end_year = min(speeches_by_year.keys()), max(speeches_by_year.keys())\n",
    "print(\n",
    "    f\"{len(speeches_by_year)} years of {speech_files[0]} speeches was collected. \\n StartYear: {start_year} - EndYear: {end_year} \"\n",
    ")\n",
    "# 日期跨度\n",
    "speech_dates = [\n",
    "    parse_datestring(v[\"date\"])\n",
    "    for year, single_year_speeches in speeches_by_year.items()\n",
    "    for v in single_year_speeches\n",
    "]\n",
    "begin_date = min(speech_dates)\n",
    "end_date = max(speech_dates)\n",
    "print(\n",
    "    f\"{len(speech_dates)} speeches was collected. \\n BeginDate: {begin_date.date()} / EndDate: {end_date.date()} \"\n",
    ")"
   ]
  },
  {
   "cell_type": "code",
   "execution_count": 35,
   "metadata": {},
   "outputs": [
    {
     "name": "stdout",
     "output_type": "stream",
     "text": [
      "0  -  28701\n"
     ]
    }
   ],
   "source": [
    "# speech 正文长度统计\n",
    "content_length = [\n",
    "    len(v[\"content\"])\n",
    "    for year, single_year_speeches in speeches_by_year.items()\n",
    "    for v in single_year_speeches\n",
    "]\n",
    "print(min(content_length), ' - ', max(content_length))"
   ]
  },
  {
   "cell_type": "code",
   "execution_count": null,
   "metadata": {},
   "outputs": [
    {
     "name": "stdout",
     "output_type": "stream",
     "text": [
      "<class 'pandas.core.frame.DataFrame'>\n",
      "Index: 215 entries, 0 to 4\n",
      "Data columns (total 10 columns):\n",
      " #   Column          Non-Null Count  Dtype         \n",
      "---  ------          --------------  -----         \n",
      " 0   speech_title    215 non-null    object        \n",
      " 1   highlights      215 non-null    object        \n",
      " 2   content         215 non-null    object        \n",
      " 3   date            215 non-null    datetime64[ns]\n",
      " 4   title           215 non-null    object        \n",
      " 5   href            215 non-null    object        \n",
      " 6   summary         215 non-null    object        \n",
      " 7   speaker         215 non-null    object        \n",
      " 8   year            215 non-null    object        \n",
      " 9   content_length  215 non-null    int64         \n",
      "dtypes: datetime64[ns](1), int64(1), object(8)\n",
      "memory usage: 18.5+ KB\n",
      "None\n"
     ]
    },
    {
     "data": {
      "text/html": [
       "<div>\n",
       "<style scoped>\n",
       "    .dataframe tbody tr th:only-of-type {\n",
       "        vertical-align: middle;\n",
       "    }\n",
       "\n",
       "    .dataframe tbody tr th {\n",
       "        vertical-align: top;\n",
       "    }\n",
       "\n",
       "    .dataframe thead th {\n",
       "        text-align: right;\n",
       "    }\n",
       "</style>\n",
       "<table border=\"1\" class=\"dataframe\">\n",
       "  <thead>\n",
       "    <tr style=\"text-align: right;\">\n",
       "      <th></th>\n",
       "      <th>speech_title</th>\n",
       "      <th>highlights</th>\n",
       "      <th>content</th>\n",
       "      <th>date</th>\n",
       "      <th>title</th>\n",
       "      <th>href</th>\n",
       "      <th>summary</th>\n",
       "      <th>speaker</th>\n",
       "      <th>year</th>\n",
       "      <th>content_length</th>\n",
       "    </tr>\n",
       "  </thead>\n",
       "  <tbody>\n",
       "    <tr>\n",
       "      <th>0</th>\n",
       "      <td>Observations on the Economy, and the Vibrancy ...</td>\n",
       "      <td>Worcester Regional Research Bureau’s 39th Annu...</td>\n",
       "      <td>Takeaways from Boston Fed President Susan M. C...</td>\n",
       "      <td>2024-10-09</td>\n",
       "      <td>Observations on the Economy, and the Vibrancy ...</td>\n",
       "      <td>https://www.bostonfed.org/news-and-events/spee...</td>\n",
       "      <td>Worcester Regional Research Bureau’s 39th Annu...</td>\n",
       "      <td>Susan M. Collins, President &amp; Chief Executive ...</td>\n",
       "      <td>2024</td>\n",
       "      <td>3150</td>\n",
       "    </tr>\n",
       "    <tr>\n",
       "      <th>1</th>\n",
       "      <td>Remarks at the 23rd Annual Regional and Commun...</td>\n",
       "      <td>Federal Reserve Bank of Boston’s 22nd Annual R...</td>\n",
       "      <td>Boston Fed President &amp; CEO Susan M. Collins of...</td>\n",
       "      <td>2024-10-08</td>\n",
       "      <td>Remarks at the 23rd Annual Regional and Commun...</td>\n",
       "      <td>https://www.bostonfed.org/news-and-events/spee...</td>\n",
       "      <td>Federal Reserve Bank of Boston’s 22nd Annual R...</td>\n",
       "      <td>Susan M. Collins, President &amp; Chief Executive ...</td>\n",
       "      <td>2024</td>\n",
       "      <td>143</td>\n",
       "    </tr>\n",
       "    <tr>\n",
       "      <th>2</th>\n",
       "      <td>Welcoming Remarks at the forum on “Meeting the...</td>\n",
       "      <td></td>\n",
       "      <td>Collins offered brief welcome remarks at a com...</td>\n",
       "      <td>2024-09-30</td>\n",
       "      <td>Welcoming Remarks at the forum on “Meeting the...</td>\n",
       "      <td>https://www.bostonfed.org/news-and-events/spee...</td>\n",
       "      <td></td>\n",
       "      <td>Susan M. Collins, President &amp; Chief Executive ...</td>\n",
       "      <td>2024</td>\n",
       "      <td>137</td>\n",
       "    </tr>\n",
       "    <tr>\n",
       "      <th>3</th>\n",
       "      <td>A Partnership for Progress</td>\n",
       "      <td>Remarks to members of the Merrimack Valley com...</td>\n",
       "      <td>Takeaways from Boston Fed President Susan M. C...</td>\n",
       "      <td>2024-06-18</td>\n",
       "      <td>A Partnership for Progress</td>\n",
       "      <td>https://www.bostonfed.org/news-and-events/spee...</td>\n",
       "      <td>Remarks to members of the Merrimack Valley com...</td>\n",
       "      <td>Susan M. Collins, President &amp; Chief Executive ...</td>\n",
       "      <td>2024</td>\n",
       "      <td>1834</td>\n",
       "    </tr>\n",
       "    <tr>\n",
       "      <th>4</th>\n",
       "      <td>Reflections on Uncertainty and Patience in Mon...</td>\n",
       "      <td>Remarks at the Sloan School of Management at t...</td>\n",
       "      <td>Boston Fed President and CEO Susan M. Collins'...</td>\n",
       "      <td>2024-05-08</td>\n",
       "      <td>Reflections on Uncertainty and Patience in Mon...</td>\n",
       "      <td>https://www.bostonfed.org/news-and-events/spee...</td>\n",
       "      <td>Remarks at the Sloan School of Management at t...</td>\n",
       "      <td>Susan M. Collins, President &amp; Chief Executive ...</td>\n",
       "      <td>2024</td>\n",
       "      <td>198</td>\n",
       "    </tr>\n",
       "  </tbody>\n",
       "</table>\n",
       "</div>"
      ],
      "text/plain": [
       "                                        speech_title  \\\n",
       "0  Observations on the Economy, and the Vibrancy ...   \n",
       "1  Remarks at the 23rd Annual Regional and Commun...   \n",
       "2  Welcoming Remarks at the forum on “Meeting the...   \n",
       "3                         A Partnership for Progress   \n",
       "4  Reflections on Uncertainty and Patience in Mon...   \n",
       "\n",
       "                                          highlights  \\\n",
       "0  Worcester Regional Research Bureau’s 39th Annu...   \n",
       "1  Federal Reserve Bank of Boston’s 22nd Annual R...   \n",
       "2                                                      \n",
       "3  Remarks to members of the Merrimack Valley com...   \n",
       "4  Remarks at the Sloan School of Management at t...   \n",
       "\n",
       "                                             content       date  \\\n",
       "0  Takeaways from Boston Fed President Susan M. C... 2024-10-09   \n",
       "1  Boston Fed President & CEO Susan M. Collins of... 2024-10-08   \n",
       "2  Collins offered brief welcome remarks at a com... 2024-09-30   \n",
       "3  Takeaways from Boston Fed President Susan M. C... 2024-06-18   \n",
       "4  Boston Fed President and CEO Susan M. Collins'... 2024-05-08   \n",
       "\n",
       "                                               title  \\\n",
       "0  Observations on the Economy, and the Vibrancy ...   \n",
       "1  Remarks at the 23rd Annual Regional and Commun...   \n",
       "2  Welcoming Remarks at the forum on “Meeting the...   \n",
       "3                         A Partnership for Progress   \n",
       "4  Reflections on Uncertainty and Patience in Mon...   \n",
       "\n",
       "                                                href  \\\n",
       "0  https://www.bostonfed.org/news-and-events/spee...   \n",
       "1  https://www.bostonfed.org/news-and-events/spee...   \n",
       "2  https://www.bostonfed.org/news-and-events/spee...   \n",
       "3  https://www.bostonfed.org/news-and-events/spee...   \n",
       "4  https://www.bostonfed.org/news-and-events/spee...   \n",
       "\n",
       "                                             summary  \\\n",
       "0  Worcester Regional Research Bureau’s 39th Annu...   \n",
       "1  Federal Reserve Bank of Boston’s 22nd Annual R...   \n",
       "2                                                      \n",
       "3  Remarks to members of the Merrimack Valley com...   \n",
       "4  Remarks at the Sloan School of Management at t...   \n",
       "\n",
       "                                             speaker  year  content_length  \n",
       "0  Susan M. Collins, President & Chief Executive ...  2024            3150  \n",
       "1  Susan M. Collins, President & Chief Executive ...  2024             143  \n",
       "2  Susan M. Collins, President & Chief Executive ...  2024             137  \n",
       "3  Susan M. Collins, President & Chief Executive ...  2024            1834  \n",
       "4  Susan M. Collins, President & Chief Executive ...  2024             198  "
      ]
     },
     "execution_count": 36,
     "metadata": {},
     "output_type": "execute_result"
    }
   ],
   "source": [
    "speeches = []\n",
    "for date, single_year_records in speeches_by_year.items():\n",
    "    single_year_speeches = pd.DataFrame.from_records(single_year_records)\n",
    "    single_year_speeches[\"year\"] = date\n",
    "    speeches.append(single_year_speeches)\n",
    "speeches = pd.concat(speeches, axis=0)\n",
    "# 日期格式转换\n",
    "speeches[\"date\"] = pd.to_datetime(speeches[\"date\"])\n",
    "# 正文长度\n",
    "speeches[\"content_length\"] = speeches[\"content\"].transform(lambda x: len(x))\n",
    "speeches.sort_values(by=\"date\", ascending=False, inplace=True)\n",
    "print(speeches.info())\n",
    "speeches.head()"
   ]
  },
  {
   "cell_type": "code",
   "execution_count": 37,
   "metadata": {},
   "outputs": [
    {
     "data": {
      "text/plain": [
       "['https://www.bostonfed.org/news-and-events/speeches/municipal-strategies-for-financial-empowerment.aspx',\n",
       " 'https://www.bostonfed.org/news-and-events/speeches/some-observations-on-the-international-implications-of-asset-bubbles.aspx']"
      ]
     },
     "execution_count": 37,
     "metadata": {},
     "output_type": "execute_result"
    }
   ],
   "source": [
    "# 查看无法获取正文的href链接，分析原因\n",
    "speeches.loc[speeches[\"content_length\"] == 0, \"href\"].tolist()"
   ]
  },
  {
   "cell_type": "markdown",
   "metadata": {},
   "source": [
    "波士顿：Boston无法获取到content的原因是因为的确没有提供，或者讲话数据以pdf链接的形式提供。"
   ]
  },
  {
   "cell_type": "code",
   "execution_count": 38,
   "metadata": {},
   "outputs": [
    {
     "name": "stdout",
     "output_type": "stream",
     "text": [
      "正文缺失的个数：2\n"
     ]
    },
    {
     "data": {
      "text/plain": [
       "{'count': 215.0,\n",
       " 'mean': 7931.013953488372,\n",
       " 'std': 8450.459532646051,\n",
       " 'min': 0.0,\n",
       " '25%': 2151.5,\n",
       " '50%': 3018.0,\n",
       " '75%': 15945.5,\n",
       " 'max': 28701.0,\n",
       " 'missing': 2}"
      ]
     },
     "execution_count": 38,
     "metadata": {},
     "output_type": "execute_result"
    }
   ],
   "source": [
    "# 正文缺失的个数\n",
    "missing_number = sum(speeches[\"content_length\"] == 0)\n",
    "print(f\"正文缺失的个数：{missing_number}\")\n",
    "# 正文长度统计\n",
    "content_length_desc = speeches[\"content_length\"].describe().to_dict()\n",
    "content_length_desc[\"missing\"] = missing_number\n",
    "content_length_desc"
   ]
  },
  {
   "cell_type": "code",
   "execution_count": null,
   "metadata": {},
   "outputs": [],
   "source": [
    "# speeches.groupby([\"year\"]).apply(lambda gpdf: gpdf[['content_length']].describe())"
   ]
  },
  {
   "cell_type": "markdown",
   "metadata": {},
   "source": [
    "# 美联储讲话数据EDA\udc9a\n",
    "\n",
    "@AUTHOR: WBZHANG / 01208663\n",
    "\n",
    "@DATE: Oct. 31, 2024"
   ]
  },
  {
   "cell_type": "markdown",
   "metadata": {},
   "source": [
    "## 2. MM2鹰鸽指数解析"
   ]
  },
  {
   "cell_type": "code",
   "execution_count": 40,
   "metadata": {},
   "outputs": [],
   "source": [
    "import pandas as pd\n",
    "import numpy as np"
   ]
  },
  {
   "cell_type": "code",
   "execution_count": 71,
   "metadata": {},
   "outputs": [],
   "source": [
    "lp_point = [70, 95] \n",
    "rb_point = [660, 287]"
   ]
  },
  {
   "cell_type": "code",
   "execution_count": null,
   "metadata": {},
   "outputs": [
    {
     "name": "stdout",
     "output_type": "stream",
     "text": [
      "['2008', '2010', '2012', '2014', '2016', '2018', '2020', '2022', '2024']\n",
      "['119.60535362875', '182.43284254451', '245.17438414302', '308.00187305878', '370.74341465728', '433.57090357304', '496.31244517154', '559.1399340873', '621.8814756858']\n"
     ]
    },
    {
     "data": {
      "text/plain": [
       "{'2008-01-01': 119.60535362875,\n",
       " '2010-01-01': 182.43284254451,\n",
       " '2012-01-01': 245.17438414302,\n",
       " '2014-01-01': 308.00187305878,\n",
       " '2016-01-01': 370.74341465728,\n",
       " '2018-01-01': 433.57090357304,\n",
       " '2020-01-01': 496.31244517154,\n",
       " '2022-01-01': 559.1399340873,\n",
       " '2024-01-01': 621.8814756858}"
      ]
     },
     "execution_count": 153,
     "metadata": {},
     "output_type": "execute_result"
    }
   ],
   "source": [
    "import re\n",
    "\n",
    "# SVG代码字符串\n",
    "svg_code = \"\"\"\n",
    "<g class=\"highcharts-axis-labels highcharts-xaxis-labels\" data-z-index=\"7\">\n",
    "    <text x=\"119.60535362875\" style=\"color: rgb(102, 102, 102); cursor: default; font-size: 11px; fill: rgb(102, 102, 102);\" text-anchor=\"middle\" transform=\"translate(0,0)\" y=\"313\" opacity=\"1\">2008</text>\n",
    "    <text x=\"182.43284254451\" style=\"color: rgb(102, 102, 102); cursor: default; font-size: 11px; fill: rgb(102, 102, 102);\" text-anchor=\"middle\" transform=\"translate(0,0)\" y=\"313\" opacity=\"1\">2010</text>\n",
    "    <text x=\"245.17438414302\" style=\"color: rgb(102, 102, 102); cursor: default; font-size: 11px; fill: rgb(102, 102, 102);\" text-anchor=\"middle\" transform=\"translate(0,0)\" y=\"313\" opacity=\"1\">2012</text>\n",
    "    <text x=\"308.00187305878\" style=\"color: rgb(102, 102, 102); cursor: default; font-size: 11px; fill: rgb(102, 102, 102);\" text-anchor=\"middle\" transform=\"translate(0,0)\" y=\"313\" opacity=\"1\">2014</text>\n",
    "    <text x=\"370.74341465728\" style=\"color: rgb(102, 102, 102); cursor: default; font-size: 11px; fill: rgb(102, 102, 102);\" text-anchor=\"middle\" transform=\"translate(0,0)\" y=\"313\" opacity=\"1\">2016</text>\n",
    "    <text x=\"433.57090357304\" style=\"color: rgb(102, 102, 102); cursor: default; font-size: 11px; fill: rgb(102, 102, 102);\" text-anchor=\"middle\" transform=\"translate(0,0)\" y=\"313\" opacity=\"1\">2018</text>\n",
    "    <text x=\"496.31244517154\" style=\"color: rgb(102, 102, 102); cursor: default; font-size: 11px; fill: rgb(102, 102, 102);\" text-anchor=\"middle\" transform=\"translate(0,0)\" y=\"313\" opacity=\"1\">2020</text>\n",
    "    <text x=\"559.1399340873\" style=\"color: rgb(102, 102, 102); cursor: default; font-size: 11px; fill: rgb(102, 102, 102);\" text-anchor=\"middle\" transform=\"translate(0,0)\" y=\"313\" opacity=\"1\">2022</text>\n",
    "    <text x=\"621.8814756858\" style=\"color: rgb(102, 102, 102); cursor: default; font-size: 11px; fill: rgb(102, 102, 102);\" text-anchor=\"middle\" transform=\"translate(0,0)\" y=\"313\" opacity=\"1\">2024</text>\n",
    "</g>\n",
    "\"\"\"\n",
    "\n",
    "# 使用正则表达式提取年份\n",
    "x_axis_labels = re.findall(r\"<text[^>]*>([\\d]{4})</text>\", svg_code)\n",
    "# 使用正则表达式提取x坐标\n",
    "x_axis = re.findall(r\"<text x=\\\"(.*)\\\" style=\", svg_code)\n",
    "\n",
    "# 打印提取的X轴标签\n",
    "print(x_axis_labels)\n",
    "print(x_axis)\n",
    "\n",
    "xaxis_labels = {f\"{label}-01-01\": float(x) for label, x in zip(x_axis_labels, x_axis)}\n",
    "xaxis_labels"
   ]
  },
  {
   "cell_type": "code",
   "execution_count": 85,
   "metadata": {},
   "outputs": [
    {
     "data": {
      "text/html": [
       "<div>\n",
       "<style scoped>\n",
       "    .dataframe tbody tr th:only-of-type {\n",
       "        vertical-align: middle;\n",
       "    }\n",
       "\n",
       "    .dataframe tbody tr th {\n",
       "        vertical-align: top;\n",
       "    }\n",
       "\n",
       "    .dataframe thead th {\n",
       "        text-align: right;\n",
       "    }\n",
       "</style>\n",
       "<table border=\"1\" class=\"dataframe\">\n",
       "  <thead>\n",
       "    <tr style=\"text-align: right;\">\n",
       "      <th></th>\n",
       "      <th>x</th>\n",
       "      <th>y</th>\n",
       "    </tr>\n",
       "  </thead>\n",
       "  <tbody>\n",
       "    <tr>\n",
       "      <th>0</th>\n",
       "      <td>5.686275</td>\n",
       "      <td>94.3172</td>\n",
       "    </tr>\n",
       "    <tr>\n",
       "      <th>1</th>\n",
       "      <td>9.382009</td>\n",
       "      <td>95.5970</td>\n",
       "    </tr>\n",
       "    <tr>\n",
       "      <th>2</th>\n",
       "      <td>12.390165</td>\n",
       "      <td>97.7844</td>\n",
       "    </tr>\n",
       "    <tr>\n",
       "      <th>3</th>\n",
       "      <td>16.515636</td>\n",
       "      <td>99.2530</td>\n",
       "    </tr>\n",
       "    <tr>\n",
       "      <th>4</th>\n",
       "      <td>20.813002</td>\n",
       "      <td>99.5057</td>\n",
       "    </tr>\n",
       "    <tr>\n",
       "      <th>...</th>\n",
       "      <td>...</td>\n",
       "      <td>...</td>\n",
       "    </tr>\n",
       "    <tr>\n",
       "      <th>144</th>\n",
       "      <td>558.671314</td>\n",
       "      <td>58.3669</td>\n",
       "    </tr>\n",
       "    <tr>\n",
       "      <th>145</th>\n",
       "      <td>562.281101</td>\n",
       "      <td>60.5333</td>\n",
       "    </tr>\n",
       "    <tr>\n",
       "      <th>146</th>\n",
       "      <td>565.890888</td>\n",
       "      <td>59.2741</td>\n",
       "    </tr>\n",
       "    <tr>\n",
       "      <th>147</th>\n",
       "      <td>570.102307</td>\n",
       "      <td>58.8235</td>\n",
       "    </tr>\n",
       "    <tr>\n",
       "      <th>148</th>\n",
       "      <td>574.313725</td>\n",
       "      <td>54.8627</td>\n",
       "    </tr>\n",
       "  </tbody>\n",
       "</table>\n",
       "<p>149 rows × 2 columns</p>\n",
       "</div>"
      ],
      "text/plain": [
       "              x        y\n",
       "0      5.686275  94.3172\n",
       "1      9.382009  95.5970\n",
       "2     12.390165  97.7844\n",
       "3     16.515636  99.2530\n",
       "4     20.813002  99.5057\n",
       "..          ...      ...\n",
       "144  558.671314  58.3669\n",
       "145  562.281101  60.5333\n",
       "146  565.890888  59.2741\n",
       "147  570.102307  58.8235\n",
       "148  574.313725  54.8627\n",
       "\n",
       "[149 rows x 2 columns]"
      ]
     },
     "execution_count": 85,
     "metadata": {},
     "output_type": "execute_result"
    }
   ],
   "source": [
    "def minmax(sr):\n",
    "    min_v, max_v = sr.min(), sr.max()\n",
    "    return  (sr - min_v)*100 / (max_v - min_v)\n",
    "\n",
    "# 读取预处理的highcharts数据点\n",
    "mm2 = pd.read_excel(\"../data/MM2/MM2.xlsx\")\n",
    "mm2.y = -mm2.y\n",
    "mm2.y = minmax(mm2.y)\n",
    "mm2"
   ]
  },
  {
   "cell_type": "markdown",
   "metadata": {},
   "source": [
    "### 2.1 日期映射"
   ]
  },
  {
   "cell_type": "markdown",
   "metadata": {},
   "source": [
    "#### 格里高利历"
   ]
  },
  {
   "cell_type": "code",
   "execution_count": 193,
   "metadata": {},
   "outputs": [
    {
     "name": "stdout",
     "output_type": "stream",
     "text": [
      "Slope of gregorian date number of per x: 11.635034482758513\n",
      "2006-08-08\n"
     ]
    },
    {
     "data": {
      "text/html": [
       "<div>\n",
       "<style scoped>\n",
       "    .dataframe tbody tr th:only-of-type {\n",
       "        vertical-align: middle;\n",
       "    }\n",
       "\n",
       "    .dataframe tbody tr th {\n",
       "        vertical-align: top;\n",
       "    }\n",
       "\n",
       "    .dataframe thead th {\n",
       "        text-align: right;\n",
       "    }\n",
       "</style>\n",
       "<table border=\"1\" class=\"dataframe\">\n",
       "  <thead>\n",
       "    <tr style=\"text-align: right;\">\n",
       "      <th></th>\n",
       "      <th>date</th>\n",
       "      <th>MM2_Hawkish-Dovish_Index</th>\n",
       "    </tr>\n",
       "  </thead>\n",
       "  <tbody>\n",
       "    <tr>\n",
       "      <th>0</th>\n",
       "      <td>2006-08-08</td>\n",
       "      <td>94.3172</td>\n",
       "    </tr>\n",
       "    <tr>\n",
       "      <th>1</th>\n",
       "      <td>2006-09-20</td>\n",
       "      <td>95.5970</td>\n",
       "    </tr>\n",
       "    <tr>\n",
       "      <th>2</th>\n",
       "      <td>2006-10-25</td>\n",
       "      <td>97.7844</td>\n",
       "    </tr>\n",
       "    <tr>\n",
       "      <th>3</th>\n",
       "      <td>2006-12-12</td>\n",
       "      <td>99.2530</td>\n",
       "    </tr>\n",
       "    <tr>\n",
       "      <th>4</th>\n",
       "      <td>2007-01-31</td>\n",
       "      <td>99.5057</td>\n",
       "    </tr>\n",
       "    <tr>\n",
       "      <th>...</th>\n",
       "      <td>...</td>\n",
       "      <td>...</td>\n",
       "    </tr>\n",
       "    <tr>\n",
       "      <th>144</th>\n",
       "      <td>2024-03-20</td>\n",
       "      <td>58.3669</td>\n",
       "    </tr>\n",
       "    <tr>\n",
       "      <th>145</th>\n",
       "      <td>2024-05-01</td>\n",
       "      <td>60.5333</td>\n",
       "    </tr>\n",
       "    <tr>\n",
       "      <th>146</th>\n",
       "      <td>2024-06-12</td>\n",
       "      <td>59.2741</td>\n",
       "    </tr>\n",
       "    <tr>\n",
       "      <th>147</th>\n",
       "      <td>2024-07-31</td>\n",
       "      <td>58.8235</td>\n",
       "    </tr>\n",
       "    <tr>\n",
       "      <th>148</th>\n",
       "      <td>2024-09-18</td>\n",
       "      <td>54.8627</td>\n",
       "    </tr>\n",
       "  </tbody>\n",
       "</table>\n",
       "<p>149 rows × 2 columns</p>\n",
       "</div>"
      ],
      "text/plain": [
       "           date  MM2_Hawkish-Dovish_Index\n",
       "0    2006-08-08                   94.3172\n",
       "1    2006-09-20                   95.5970\n",
       "2    2006-10-25                   97.7844\n",
       "3    2006-12-12                   99.2530\n",
       "4    2007-01-31                   99.5057\n",
       "..          ...                       ...\n",
       "144  2024-03-20                   58.3669\n",
       "145  2024-05-01                   60.5333\n",
       "146  2024-06-12                   59.2741\n",
       "147  2024-07-31                   58.8235\n",
       "148  2024-09-18                   54.8627\n",
       "\n",
       "[149 rows x 2 columns]"
      ]
     },
     "execution_count": 193,
     "metadata": {},
     "output_type": "execute_result"
    }
   ],
   "source": [
    "gregorian = []\n",
    "for date in xaxis_labels:\n",
    "    # 日期\n",
    "    ordinal = pd.to_datetime(date).toordinal()\n",
    "    # 赋值\n",
    "    gregorian.append({\"ordinal\": ordinal, \"x\": xaxis_labels[date]})\n",
    "gregorian = pd.DataFrame.from_records(gregorian)\n",
    "\n",
    "# 计算斜率 -> 每刻度y对应的julian数值\n",
    "slope = (gregorian[\"ordinal\"].max() - gregorian[\"ordinal\"].min()) / (\n",
    "    gregorian[\"x\"].max() - gregorian[\"x\"].min()\n",
    ")\n",
    "print(f\"Slope of gregorian date number of per x: {slope}\")\n",
    "\n",
    "gregorian[\"slope\"] = (gregorian[\"ordinal\"] - gregorian[\"ordinal\"].shift(1)) / (\n",
    "    gregorian[\"x\"] - gregorian[\"x\"].shift(1)\n",
    ")\n",
    "gregorian[\"slope\"] = gregorian[\"slope\"].bfill()\n",
    "\n",
    "def x2date_by_gregorian(x: float, xshift: float = 70):\n",
    "    \"\"\"根据x坐标和格里高利历史的斜率来推算日期\n",
    "\n",
    "    Args:\n",
    "        x (float): _description_\n",
    "\n",
    "    Returns:\n",
    "        _type_: _description_\n",
    "    \"\"\"\n",
    "    # 计算系数\n",
    "    number = gregorian.loc[0, \"ordinal\"] + slope * (x - gregorian.loc[0, \"x\"] + xshift)\n",
    "    # datetime_date = pd.to_datetime(number, unit=\"s\").date()\n",
    "    datetime_date = pd.Timestamp.fromordinal(int(number.round())).date()\n",
    "    return datetime_date\n",
    "\n",
    "print(x2date_by_gregorian(mm2.x[0]))\n",
    "\n",
    "mm2[\"date\"] = mm2[\"x\"].transform(x2date_by_gregorian)\n",
    "# 日期\n",
    "mm2[\"MM2_Hawkish-Dovish_Index\"] = mm2[\"y\"]\n",
    "mm2[[\"date\", \"MM2_Hawkish-Dovish_Index\"]]"
   ]
  },
  {
   "cell_type": "markdown",
   "metadata": {},
   "source": [
    "### 2.2 MM2鹰鸽指数绘制"
   ]
  },
  {
   "cell_type": "code",
   "execution_count": 169,
   "metadata": {},
   "outputs": [
    {
     "data": {
      "application/vnd.plotly.v1+json": {
       "config": {
        "plotlyServerURL": "https://plot.ly"
       },
       "data": [
        {
         "line": {
          "width": 0.8
         },
         "mode": "lines+markers",
         "name": "美国-MM AI 美联储声明稿鹰鸽指数",
         "type": "scatter",
         "x": [
          "2006-08-08",
          "2006-09-20",
          "2006-10-25",
          "2006-12-12",
          "2007-01-31",
          "2007-03-21",
          "2007-05-09",
          "2007-06-18",
          "2007-08-07",
          "2007-09-18",
          "2007-10-31",
          "2007-12-11",
          "2008-01-30",
          "2008-03-18",
          "2008-04-30",
          "2008-06-25",
          "2008-08-05",
          "2008-09-16",
          "2008-10-29",
          "2008-12-16",
          "2009-01-28",
          "2009-03-18",
          "2009-04-29",
          "2009-06-24",
          "2009-08-12",
          "2009-09-23",
          "2009-11-04",
          "2009-12-16",
          "2010-01-27",
          "2010-03-16",
          "2010-04-28",
          "2010-06-23",
          "2010-08-10",
          "2010-09-21",
          "2010-11-03",
          "2010-12-14",
          "2011-01-26",
          "2011-03-15",
          "2011-04-27",
          "2011-06-22",
          "2011-08-09",
          "2011-09-21",
          "2011-11-02",
          "2011-12-13",
          "2012-01-25",
          "2012-03-13",
          "2012-04-25",
          "2012-06-20",
          "2012-08-01",
          "2012-09-13",
          "2012-10-24",
          "2012-12-12",
          "2013-01-30",
          "2013-03-20",
          "2013-05-01",
          "2013-06-19",
          "2013-07-31",
          "2013-09-18",
          "2013-10-30",
          "2013-12-18",
          "2014-01-29",
          "2014-03-19",
          "2014-04-30",
          "2014-06-18",
          "2014-07-30",
          "2014-09-17",
          "2014-10-29",
          "2014-12-17",
          "2015-01-28",
          "2015-03-18",
          "2015-04-29",
          "2015-06-17",
          "2015-07-29",
          "2015-09-17",
          "2015-10-28",
          "2015-12-16",
          "2016-01-27",
          "2016-03-16",
          "2016-04-27",
          "2016-06-15",
          "2016-07-27",
          "2016-09-21",
          "2016-11-02",
          "2016-12-14",
          "2017-02-01",
          "2017-03-15",
          "2017-05-03",
          "2017-06-14",
          "2017-07-26",
          "2017-09-20",
          "2017-11-01",
          "2017-12-13",
          "2018-01-31",
          "2018-03-21",
          "2018-05-02",
          "2018-06-13",
          "2018-08-01",
          "2018-09-26",
          "2018-11-08",
          "2018-12-19",
          "2019-01-30",
          "2019-03-20",
          "2019-05-01",
          "2019-06-19",
          "2019-07-31",
          "2019-09-18",
          "2019-10-11",
          "2019-10-30",
          "2019-12-11",
          "2020-01-29",
          "2020-03-03",
          "2020-03-15",
          "2020-03-23",
          "2020-04-29",
          "2020-06-10",
          "2020-07-29",
          "2020-09-16",
          "2020-11-05",
          "2020-12-16",
          "2021-01-27",
          "2021-03-17",
          "2021-04-28",
          "2021-06-16",
          "2021-07-28",
          "2021-09-22",
          "2021-11-03",
          "2021-12-15",
          "2022-01-26",
          "2022-03-16",
          "2022-05-04",
          "2022-06-15",
          "2022-07-27",
          "2022-09-21",
          "2022-11-02",
          "2022-12-14",
          "2023-02-01",
          "2023-03-22",
          "2023-05-03",
          "2023-06-14",
          "2023-07-26",
          "2023-09-20",
          "2023-11-01",
          "2023-12-13",
          "2024-01-31",
          "2024-03-20",
          "2024-05-01",
          "2024-06-12",
          "2024-07-31",
          "2024-09-18"
         ],
         "y": [
          94.3172,
          95.597,
          97.7844,
          99.253,
          99.5057,
          100,
          93.7906,
          90.1225,
          81.5612,
          77.1469,
          69.6556,
          74.03769999999999,
          81.0706,
          86.03180000000002,
          86.411,
          82.4413,
          67.0941,
          54.11109999999999,
          53.51070000000001,
          58.1363,
          62.74889999999999,
          63.48,
          60.9258,
          52.244,
          37.5691,
          25.489200000000007,
          21.978300000000004,
          16.833199999999994,
          13.992799999999997,
          14.2958,
          14.277100000000004,
          13.405500000000004,
          16.361900000000002,
          22.662200000000002,
          24.901200000000003,
          27.811599999999995,
          31.192000000000007,
          38.0286,
          31.792199999999998,
          29.62549999999999,
          28.224800000000005,
          28.7081,
          20.594499999999996,
          20.243500000000008,
          18.1005,
          21.646199999999993,
          21.052700000000005,
          17.0677,
          16.587700000000005,
          18.8145,
          15.4168,
          19.765999999999995,
          31.032500000000002,
          38.014500000000005,
          42.5081,
          45.4248,
          44.226,
          39.5277,
          33.102,
          29.297700000000006,
          24.891500000000008,
          20.28109999999999,
          18.190999999999992,
          15.994100000000003,
          12.028799999999995,
          11.282499999999994,
          11.020499999999997,
          6.9919000000000056,
          8.532099999999998,
          10.929199999999994,
          11.689100000000002,
          8.603300000000003,
          13.268199999999998,
          18.870799999999996,
          20.976399999999998,
          26.535700000000002,
          32.3423,
          37.2399,
          34.1693,
          32.8792,
          29.873900000000003,
          30.540099999999995,
          28.877600000000005,
          31.7144,
          31.55590000000001,
          35.3503,
          33.2374,
          34.8106,
          34.2051,
          35.867,
          32.572,
          38.756099999999996,
          44.666,
          47.23929999999999,
          48.75300000000001,
          49.270199999999996,
          46.0034,
          38.6376,
          34.6783,
          33.7677,
          36.5625,
          34.2514,
          35.7241,
          37.7065,
          42.659699999999994,
          46.7241,
          67.86300000000001,
          51.10920000000001,
          52.4289,
          54.336400000000005,
          44.5195,
          34.3526,
          33.8595,
          23.121100000000002,
          11.101299999999995,
          0,
          3.7746999999999975,
          5.523799999999997,
          11.760100000000007,
          20.363299999999995,
          28.762900000000005,
          29.0667,
          28.1974,
          29.493300000000005,
          28.7255,
          28.047100000000004,
          30.298299999999994,
          31.051800000000004,
          33.7577,
          41.9596,
          52.266,
          61.2891,
          71.37230000000001,
          79.24119999999999,
          83.69800000000001,
          85.0244,
          83.12750000000001,
          83.0671,
          77.28840000000001,
          73.80399999999999,
          66.7321,
          61.7069,
          56.9433,
          59.8888,
          58.366899999999994,
          60.5333,
          59.274100000000004,
          58.823499999999996,
          54.8627
         ]
        }
       ],
       "layout": {
        "template": {
         "data": {
          "bar": [
           {
            "error_x": {
             "color": "#2a3f5f"
            },
            "error_y": {
             "color": "#2a3f5f"
            },
            "marker": {
             "line": {
              "color": "#E5ECF6",
              "width": 0.5
             },
             "pattern": {
              "fillmode": "overlay",
              "size": 10,
              "solidity": 0.2
             }
            },
            "type": "bar"
           }
          ],
          "barpolar": [
           {
            "marker": {
             "line": {
              "color": "#E5ECF6",
              "width": 0.5
             },
             "pattern": {
              "fillmode": "overlay",
              "size": 10,
              "solidity": 0.2
             }
            },
            "type": "barpolar"
           }
          ],
          "carpet": [
           {
            "aaxis": {
             "endlinecolor": "#2a3f5f",
             "gridcolor": "white",
             "linecolor": "white",
             "minorgridcolor": "white",
             "startlinecolor": "#2a3f5f"
            },
            "baxis": {
             "endlinecolor": "#2a3f5f",
             "gridcolor": "white",
             "linecolor": "white",
             "minorgridcolor": "white",
             "startlinecolor": "#2a3f5f"
            },
            "type": "carpet"
           }
          ],
          "choropleth": [
           {
            "colorbar": {
             "outlinewidth": 0,
             "ticks": ""
            },
            "type": "choropleth"
           }
          ],
          "contour": [
           {
            "colorbar": {
             "outlinewidth": 0,
             "ticks": ""
            },
            "colorscale": [
             [
              0,
              "#0d0887"
             ],
             [
              0.1111111111111111,
              "#46039f"
             ],
             [
              0.2222222222222222,
              "#7201a8"
             ],
             [
              0.3333333333333333,
              "#9c179e"
             ],
             [
              0.4444444444444444,
              "#bd3786"
             ],
             [
              0.5555555555555556,
              "#d8576b"
             ],
             [
              0.6666666666666666,
              "#ed7953"
             ],
             [
              0.7777777777777778,
              "#fb9f3a"
             ],
             [
              0.8888888888888888,
              "#fdca26"
             ],
             [
              1,
              "#f0f921"
             ]
            ],
            "type": "contour"
           }
          ],
          "contourcarpet": [
           {
            "colorbar": {
             "outlinewidth": 0,
             "ticks": ""
            },
            "type": "contourcarpet"
           }
          ],
          "heatmap": [
           {
            "colorbar": {
             "outlinewidth": 0,
             "ticks": ""
            },
            "colorscale": [
             [
              0,
              "#0d0887"
             ],
             [
              0.1111111111111111,
              "#46039f"
             ],
             [
              0.2222222222222222,
              "#7201a8"
             ],
             [
              0.3333333333333333,
              "#9c179e"
             ],
             [
              0.4444444444444444,
              "#bd3786"
             ],
             [
              0.5555555555555556,
              "#d8576b"
             ],
             [
              0.6666666666666666,
              "#ed7953"
             ],
             [
              0.7777777777777778,
              "#fb9f3a"
             ],
             [
              0.8888888888888888,
              "#fdca26"
             ],
             [
              1,
              "#f0f921"
             ]
            ],
            "type": "heatmap"
           }
          ],
          "heatmapgl": [
           {
            "colorbar": {
             "outlinewidth": 0,
             "ticks": ""
            },
            "colorscale": [
             [
              0,
              "#0d0887"
             ],
             [
              0.1111111111111111,
              "#46039f"
             ],
             [
              0.2222222222222222,
              "#7201a8"
             ],
             [
              0.3333333333333333,
              "#9c179e"
             ],
             [
              0.4444444444444444,
              "#bd3786"
             ],
             [
              0.5555555555555556,
              "#d8576b"
             ],
             [
              0.6666666666666666,
              "#ed7953"
             ],
             [
              0.7777777777777778,
              "#fb9f3a"
             ],
             [
              0.8888888888888888,
              "#fdca26"
             ],
             [
              1,
              "#f0f921"
             ]
            ],
            "type": "heatmapgl"
           }
          ],
          "histogram": [
           {
            "marker": {
             "pattern": {
              "fillmode": "overlay",
              "size": 10,
              "solidity": 0.2
             }
            },
            "type": "histogram"
           }
          ],
          "histogram2d": [
           {
            "colorbar": {
             "outlinewidth": 0,
             "ticks": ""
            },
            "colorscale": [
             [
              0,
              "#0d0887"
             ],
             [
              0.1111111111111111,
              "#46039f"
             ],
             [
              0.2222222222222222,
              "#7201a8"
             ],
             [
              0.3333333333333333,
              "#9c179e"
             ],
             [
              0.4444444444444444,
              "#bd3786"
             ],
             [
              0.5555555555555556,
              "#d8576b"
             ],
             [
              0.6666666666666666,
              "#ed7953"
             ],
             [
              0.7777777777777778,
              "#fb9f3a"
             ],
             [
              0.8888888888888888,
              "#fdca26"
             ],
             [
              1,
              "#f0f921"
             ]
            ],
            "type": "histogram2d"
           }
          ],
          "histogram2dcontour": [
           {
            "colorbar": {
             "outlinewidth": 0,
             "ticks": ""
            },
            "colorscale": [
             [
              0,
              "#0d0887"
             ],
             [
              0.1111111111111111,
              "#46039f"
             ],
             [
              0.2222222222222222,
              "#7201a8"
             ],
             [
              0.3333333333333333,
              "#9c179e"
             ],
             [
              0.4444444444444444,
              "#bd3786"
             ],
             [
              0.5555555555555556,
              "#d8576b"
             ],
             [
              0.6666666666666666,
              "#ed7953"
             ],
             [
              0.7777777777777778,
              "#fb9f3a"
             ],
             [
              0.8888888888888888,
              "#fdca26"
             ],
             [
              1,
              "#f0f921"
             ]
            ],
            "type": "histogram2dcontour"
           }
          ],
          "mesh3d": [
           {
            "colorbar": {
             "outlinewidth": 0,
             "ticks": ""
            },
            "type": "mesh3d"
           }
          ],
          "parcoords": [
           {
            "line": {
             "colorbar": {
              "outlinewidth": 0,
              "ticks": ""
             }
            },
            "type": "parcoords"
           }
          ],
          "pie": [
           {
            "automargin": true,
            "type": "pie"
           }
          ],
          "scatter": [
           {
            "fillpattern": {
             "fillmode": "overlay",
             "size": 10,
             "solidity": 0.2
            },
            "type": "scatter"
           }
          ],
          "scatter3d": [
           {
            "line": {
             "colorbar": {
              "outlinewidth": 0,
              "ticks": ""
             }
            },
            "marker": {
             "colorbar": {
              "outlinewidth": 0,
              "ticks": ""
             }
            },
            "type": "scatter3d"
           }
          ],
          "scattercarpet": [
           {
            "marker": {
             "colorbar": {
              "outlinewidth": 0,
              "ticks": ""
             }
            },
            "type": "scattercarpet"
           }
          ],
          "scattergeo": [
           {
            "marker": {
             "colorbar": {
              "outlinewidth": 0,
              "ticks": ""
             }
            },
            "type": "scattergeo"
           }
          ],
          "scattergl": [
           {
            "marker": {
             "colorbar": {
              "outlinewidth": 0,
              "ticks": ""
             }
            },
            "type": "scattergl"
           }
          ],
          "scattermapbox": [
           {
            "marker": {
             "colorbar": {
              "outlinewidth": 0,
              "ticks": ""
             }
            },
            "type": "scattermapbox"
           }
          ],
          "scatterpolar": [
           {
            "marker": {
             "colorbar": {
              "outlinewidth": 0,
              "ticks": ""
             }
            },
            "type": "scatterpolar"
           }
          ],
          "scatterpolargl": [
           {
            "marker": {
             "colorbar": {
              "outlinewidth": 0,
              "ticks": ""
             }
            },
            "type": "scatterpolargl"
           }
          ],
          "scatterternary": [
           {
            "marker": {
             "colorbar": {
              "outlinewidth": 0,
              "ticks": ""
             }
            },
            "type": "scatterternary"
           }
          ],
          "surface": [
           {
            "colorbar": {
             "outlinewidth": 0,
             "ticks": ""
            },
            "colorscale": [
             [
              0,
              "#0d0887"
             ],
             [
              0.1111111111111111,
              "#46039f"
             ],
             [
              0.2222222222222222,
              "#7201a8"
             ],
             [
              0.3333333333333333,
              "#9c179e"
             ],
             [
              0.4444444444444444,
              "#bd3786"
             ],
             [
              0.5555555555555556,
              "#d8576b"
             ],
             [
              0.6666666666666666,
              "#ed7953"
             ],
             [
              0.7777777777777778,
              "#fb9f3a"
             ],
             [
              0.8888888888888888,
              "#fdca26"
             ],
             [
              1,
              "#f0f921"
             ]
            ],
            "type": "surface"
           }
          ],
          "table": [
           {
            "cells": {
             "fill": {
              "color": "#EBF0F8"
             },
             "line": {
              "color": "white"
             }
            },
            "header": {
             "fill": {
              "color": "#C8D4E3"
             },
             "line": {
              "color": "white"
             }
            },
            "type": "table"
           }
          ]
         },
         "layout": {
          "annotationdefaults": {
           "arrowcolor": "#2a3f5f",
           "arrowhead": 0,
           "arrowwidth": 1
          },
          "autotypenumbers": "strict",
          "coloraxis": {
           "colorbar": {
            "outlinewidth": 0,
            "ticks": ""
           }
          },
          "colorscale": {
           "diverging": [
            [
             0,
             "#8e0152"
            ],
            [
             0.1,
             "#c51b7d"
            ],
            [
             0.2,
             "#de77ae"
            ],
            [
             0.3,
             "#f1b6da"
            ],
            [
             0.4,
             "#fde0ef"
            ],
            [
             0.5,
             "#f7f7f7"
            ],
            [
             0.6,
             "#e6f5d0"
            ],
            [
             0.7,
             "#b8e186"
            ],
            [
             0.8,
             "#7fbc41"
            ],
            [
             0.9,
             "#4d9221"
            ],
            [
             1,
             "#276419"
            ]
           ],
           "sequential": [
            [
             0,
             "#0d0887"
            ],
            [
             0.1111111111111111,
             "#46039f"
            ],
            [
             0.2222222222222222,
             "#7201a8"
            ],
            [
             0.3333333333333333,
             "#9c179e"
            ],
            [
             0.4444444444444444,
             "#bd3786"
            ],
            [
             0.5555555555555556,
             "#d8576b"
            ],
            [
             0.6666666666666666,
             "#ed7953"
            ],
            [
             0.7777777777777778,
             "#fb9f3a"
            ],
            [
             0.8888888888888888,
             "#fdca26"
            ],
            [
             1,
             "#f0f921"
            ]
           ],
           "sequentialminus": [
            [
             0,
             "#0d0887"
            ],
            [
             0.1111111111111111,
             "#46039f"
            ],
            [
             0.2222222222222222,
             "#7201a8"
            ],
            [
             0.3333333333333333,
             "#9c179e"
            ],
            [
             0.4444444444444444,
             "#bd3786"
            ],
            [
             0.5555555555555556,
             "#d8576b"
            ],
            [
             0.6666666666666666,
             "#ed7953"
            ],
            [
             0.7777777777777778,
             "#fb9f3a"
            ],
            [
             0.8888888888888888,
             "#fdca26"
            ],
            [
             1,
             "#f0f921"
            ]
           ]
          },
          "colorway": [
           "#636efa",
           "#EF553B",
           "#00cc96",
           "#ab63fa",
           "#FFA15A",
           "#19d3f3",
           "#FF6692",
           "#B6E880",
           "#FF97FF",
           "#FECB52"
          ],
          "font": {
           "color": "#2a3f5f"
          },
          "geo": {
           "bgcolor": "white",
           "lakecolor": "white",
           "landcolor": "#E5ECF6",
           "showlakes": true,
           "showland": true,
           "subunitcolor": "white"
          },
          "hoverlabel": {
           "align": "left"
          },
          "hovermode": "closest",
          "mapbox": {
           "style": "light"
          },
          "paper_bgcolor": "white",
          "plot_bgcolor": "#E5ECF6",
          "polar": {
           "angularaxis": {
            "gridcolor": "white",
            "linecolor": "white",
            "ticks": ""
           },
           "bgcolor": "#E5ECF6",
           "radialaxis": {
            "gridcolor": "white",
            "linecolor": "white",
            "ticks": ""
           }
          },
          "scene": {
           "xaxis": {
            "backgroundcolor": "#E5ECF6",
            "gridcolor": "white",
            "gridwidth": 2,
            "linecolor": "white",
            "showbackground": true,
            "ticks": "",
            "zerolinecolor": "white"
           },
           "yaxis": {
            "backgroundcolor": "#E5ECF6",
            "gridcolor": "white",
            "gridwidth": 2,
            "linecolor": "white",
            "showbackground": true,
            "ticks": "",
            "zerolinecolor": "white"
           },
           "zaxis": {
            "backgroundcolor": "#E5ECF6",
            "gridcolor": "white",
            "gridwidth": 2,
            "linecolor": "white",
            "showbackground": true,
            "ticks": "",
            "zerolinecolor": "white"
           }
          },
          "shapedefaults": {
           "line": {
            "color": "#2a3f5f"
           }
          },
          "ternary": {
           "aaxis": {
            "gridcolor": "white",
            "linecolor": "white",
            "ticks": ""
           },
           "baxis": {
            "gridcolor": "white",
            "linecolor": "white",
            "ticks": ""
           },
           "bgcolor": "#E5ECF6",
           "caxis": {
            "gridcolor": "white",
            "linecolor": "white",
            "ticks": ""
           }
          },
          "title": {
           "x": 0.05
          },
          "xaxis": {
           "automargin": true,
           "gridcolor": "white",
           "linecolor": "white",
           "ticks": "",
           "title": {
            "standoff": 15
           },
           "zerolinecolor": "white",
           "zerolinewidth": 2
          },
          "yaxis": {
           "automargin": true,
           "gridcolor": "white",
           "linecolor": "white",
           "ticks": "",
           "title": {
            "standoff": 15
           },
           "zerolinecolor": "white",
           "zerolinewidth": 2
          }
         }
        },
        "title": {
         "text": "美国-MM AI美联储声明稿鹰鸽指数"
        },
        "xaxis": {
         "rangeselector": {
          "buttons": [
           {
            "count": 1,
            "label": "1m",
            "step": "month",
            "stepmode": "backward"
           },
           {
            "count": 6,
            "label": "6m",
            "step": "month",
            "stepmode": "backward"
           },
           {
            "count": 1,
            "label": "YTD",
            "step": "year",
            "stepmode": "todate"
           },
           {
            "count": 1,
            "label": "1y",
            "step": "year",
            "stepmode": "backward"
           },
           {
            "count": 3,
            "label": "3y",
            "step": "year",
            "stepmode": "backward"
           },
           {
            "step": "all"
           }
          ]
         },
         "title": {
          "text": "日期"
         }
        },
        "yaxis": {
         "rangemode": "tozero",
         "title": {
          "text": "指数"
         }
        }
       }
      }
     },
     "metadata": {},
     "output_type": "display_data"
    }
   ],
   "source": [
    "import plotly.graph_objects as go\n",
    "\n",
    "# 数据点，从SVG路径中提取\n",
    "x = mm2.date\n",
    "y = mm2.y\n",
    "\n",
    "# 创建一个图形对象\n",
    "fig = go.Figure()\n",
    "\n",
    "# 添加一条折线图\n",
    "fig.add_trace(\n",
    "    go.Scatter(\n",
    "        x=x,\n",
    "        y=y,\n",
    "        mode=\"lines+markers\",\n",
    "        name=\"美国-MM AI 美联储声明稿鹰鸽指数\",\n",
    "        line={\"width\": 0.8},\n",
    "    )  # , marker={\"size\":4}\n",
    ")\n",
    "\n",
    "# 设置图形的标题和坐标轴标签\n",
    "fig.update_layout(\n",
    "    title=\"美国-MM AI美联储声明稿鹰鸽指数\",\n",
    "    xaxis_title=\"日期\",\n",
    "    yaxis_title=\"指数\",\n",
    "    xaxis=dict(\n",
    "        rangeselector=dict(\n",
    "            buttons=list(\n",
    "                [\n",
    "                    dict(count=1, label=\"1m\", step=\"month\", stepmode=\"backward\"),\n",
    "                    dict(count=6, label=\"6m\", step=\"month\", stepmode=\"backward\"),\n",
    "                    dict(count=1, label=\"YTD\", step=\"year\", stepmode=\"todate\"),\n",
    "                    dict(count=1, label=\"1y\", step=\"year\", stepmode=\"backward\"),\n",
    "                    dict(count=3, label=\"3y\", step=\"year\", stepmode=\"backward\"),\n",
    "                    dict(step=\"all\"),\n",
    "                ]\n",
    "            )\n",
    "        )\n",
    "    ),\n",
    "    yaxis=dict(rangemode=\"tozero\"),\n",
    ")\n",
    "\n",
    "# 显示图形\n",
    "fig.show()\n",
    "fig.write_html(\"../data/MM2/美国-MM AI美联储声明稿鹰鸽指数.html\")"
   ]
  },
  {
   "cell_type": "code",
   "execution_count": 240,
   "metadata": {},
   "outputs": [],
   "source": [
    "mm2['MM2_Hawkish-Dovish_Index'] = mm2['y']\n",
    "mm2[[\"date\", \"MM2_Hawkish-Dovish_Index\"]]\n",
    "mm2[['date', 'MM2_Hawkish-Dovish_Index']].to_csv(\"../data/MM2_Hawkish-Dovish_Index.csv\", index=False)"
   ]
  },
  {
   "cell_type": "markdown",
   "metadata": {},
   "source": [
    "## 3. MM2 声明稿乐观指数"
   ]
  },
  {
   "cell_type": "markdown",
   "metadata": {},
   "source": [
    "### 3.1 数据转换"
   ]
  },
  {
   "cell_type": "code",
   "execution_count": 229,
   "metadata": {},
   "outputs": [
    {
     "name": "stdout",
     "output_type": "stream",
     "text": [
      "xaxis_dates: ['2010', '2020', '2008', '2012', '2014', '2016', '2018', '2022', '2024']\n",
      "xaxis_cords: ['236.516916803', '701.38343172819', '143.46723925362', '329.43930341181', '422.48898096119', '515.41136757', '608.46104511938', '794.43310927757', '887.35549588638']\n"
     ]
    }
   ],
   "source": [
    "# x轴坐标\n",
    "xlabels_coords = \"\"\"\n",
    "<g class=\"highcharts-axis-labels highcharts-xaxis-labels\" data-z-index=\"7\"><text x=\"236.516916803\" style=\"color: rgb(102, 102, 102); cursor: default; font-size: 11px; fill: rgb(102, 102, 102);\" text-anchor=\"middle\" transform=\"translate(0,0)\" y=\"425\" opacity=\"1\">2010</text><text x=\"701.38343172819\" style=\"color: rgb(102, 102, 102); cursor: default; font-size: 11px; fill: rgb(102, 102, 102);\" text-anchor=\"middle\" transform=\"translate(0,0)\" y=\"425\" opacity=\"1\">2020</text><text x=\"143.46723925362\" style=\"color: rgb(102, 102, 102); cursor: default; font-size: 11px; fill: rgb(102, 102, 102);\" text-anchor=\"middle\" transform=\"translate(0,0)\" y=\"425\" opacity=\"1\">2008</text><text x=\"329.43930341181\" style=\"color: rgb(102, 102, 102); cursor: default; font-size: 11px; fill: rgb(102, 102, 102);\" text-anchor=\"middle\" transform=\"translate(0,0)\" y=\"425\" opacity=\"1\">2012</text><text x=\"422.48898096119\" style=\"color: rgb(102, 102, 102); cursor: default; font-size: 11px; fill: rgb(102, 102, 102);\" text-anchor=\"middle\" transform=\"translate(0,0)\" y=\"425\" opacity=\"1\">2014</text><text x=\"515.41136757\" style=\"color: rgb(102, 102, 102); cursor: default; font-size: 11px; fill: rgb(102, 102, 102);\" text-anchor=\"middle\" transform=\"translate(0,0)\" y=\"425\" opacity=\"1\">2016</text><text x=\"608.46104511938\" style=\"color: rgb(102, 102, 102); cursor: default; font-size: 11px; fill: rgb(102, 102, 102);\" text-anchor=\"middle\" transform=\"translate(0,0)\" y=\"425\" opacity=\"1\">2018</text><text x=\"794.43310927757\" style=\"color: rgb(102, 102, 102); cursor: default; font-size: 11px; fill: rgb(102, 102, 102);\" text-anchor=\"middle\" transform=\"translate(0,0)\" y=\"425\" opacity=\"1\">2022</text><text x=\"887.35549588638\" style=\"color: rgb(102, 102, 102); cursor: default; font-size: 11px; fill: rgb(102, 102, 102);\" text-anchor=\"middle\" transform=\"translate(0,0)\" y=\"425\" opacity=\"1\">2024</text></g>\n",
    "\"\"\".replace(\">\", \">\\n\")\n",
    "# # 使用正则表达式提取年份\n",
    "xaxis_dates = re.findall(r\">\\n([\\d]{4})</text>\", xlabels_coords)\n",
    "print(f\"xaxis_dates: {xaxis_dates}\")\n",
    "# # 使用正则表达式提取x坐标\n",
    "xaxis_cords = re.findall(r\"<text x=\\\"(.*)\\\" style=\", xlabels_coords)\n",
    "print(f\"xaxis_cords: {xaxis_cords}\")"
   ]
  },
  {
   "cell_type": "code",
   "execution_count": 237,
   "metadata": {},
   "outputs": [
    {
     "name": "stdout",
     "output_type": "stream",
     "text": [
      "Slope of gregorian date number of per x: 7.856018626309683\n"
     ]
    },
    {
     "data": {
      "text/html": [
       "<div>\n",
       "<style scoped>\n",
       "    .dataframe tbody tr th:only-of-type {\n",
       "        vertical-align: middle;\n",
       "    }\n",
       "\n",
       "    .dataframe tbody tr th {\n",
       "        vertical-align: top;\n",
       "    }\n",
       "\n",
       "    .dataframe thead th {\n",
       "        text-align: right;\n",
       "    }\n",
       "</style>\n",
       "<table border=\"1\" class=\"dataframe\">\n",
       "  <thead>\n",
       "    <tr style=\"text-align: right;\">\n",
       "      <th></th>\n",
       "      <th>date</th>\n",
       "      <th>ordinal</th>\n",
       "      <th>x</th>\n",
       "      <th>slope</th>\n",
       "    </tr>\n",
       "  </thead>\n",
       "  <tbody>\n",
       "    <tr>\n",
       "      <th>2</th>\n",
       "      <td>2008-01-01</td>\n",
       "      <td>733042</td>\n",
       "      <td>143.467239</td>\n",
       "      <td>7.856019</td>\n",
       "    </tr>\n",
       "    <tr>\n",
       "      <th>0</th>\n",
       "      <td>2010-01-01</td>\n",
       "      <td>733773</td>\n",
       "      <td>236.516917</td>\n",
       "      <td>7.856019</td>\n",
       "    </tr>\n",
       "    <tr>\n",
       "      <th>3</th>\n",
       "      <td>2012-01-01</td>\n",
       "      <td>734503</td>\n",
       "      <td>329.439303</td>\n",
       "      <td>7.856019</td>\n",
       "    </tr>\n",
       "    <tr>\n",
       "      <th>4</th>\n",
       "      <td>2014-01-01</td>\n",
       "      <td>735234</td>\n",
       "      <td>422.488981</td>\n",
       "      <td>7.856019</td>\n",
       "    </tr>\n",
       "    <tr>\n",
       "      <th>5</th>\n",
       "      <td>2016-01-01</td>\n",
       "      <td>735964</td>\n",
       "      <td>515.411368</td>\n",
       "      <td>7.856019</td>\n",
       "    </tr>\n",
       "    <tr>\n",
       "      <th>6</th>\n",
       "      <td>2018-01-01</td>\n",
       "      <td>736695</td>\n",
       "      <td>608.461045</td>\n",
       "      <td>7.856019</td>\n",
       "    </tr>\n",
       "    <tr>\n",
       "      <th>1</th>\n",
       "      <td>2020-01-01</td>\n",
       "      <td>737425</td>\n",
       "      <td>701.383432</td>\n",
       "      <td>7.856019</td>\n",
       "    </tr>\n",
       "    <tr>\n",
       "      <th>7</th>\n",
       "      <td>2022-01-01</td>\n",
       "      <td>738156</td>\n",
       "      <td>794.433109</td>\n",
       "      <td>7.856019</td>\n",
       "    </tr>\n",
       "    <tr>\n",
       "      <th>8</th>\n",
       "      <td>2024-01-01</td>\n",
       "      <td>738886</td>\n",
       "      <td>887.355496</td>\n",
       "      <td>7.856019</td>\n",
       "    </tr>\n",
       "  </tbody>\n",
       "</table>\n",
       "</div>"
      ],
      "text/plain": [
       "         date  ordinal           x     slope\n",
       "2  2008-01-01   733042  143.467239  7.856019\n",
       "0  2010-01-01   733773  236.516917  7.856019\n",
       "3  2012-01-01   734503  329.439303  7.856019\n",
       "4  2014-01-01   735234  422.488981  7.856019\n",
       "5  2016-01-01   735964  515.411368  7.856019\n",
       "6  2018-01-01   736695  608.461045  7.856019\n",
       "1  2020-01-01   737425  701.383432  7.856019\n",
       "7  2022-01-01   738156  794.433109  7.856019\n",
       "8  2024-01-01   738886  887.355496  7.856019"
      ]
     },
     "execution_count": 237,
     "metadata": {},
     "output_type": "execute_result"
    }
   ],
   "source": [
    "gregorian = []\n",
    "for date, cord in zip(xaxis_dates, xaxis_cords):\n",
    "    # 日期\n",
    "    ordinal = pd.to_datetime(f\"{date}-01-01\").toordinal()\n",
    "    # 赋值\n",
    "    gregorian.append({\"date\": f\"{date}-01-01\", \"ordinal\": ordinal, \"x\": float(cord)})\n",
    "gregorian = pd.DataFrame.from_records(gregorian).sort_values(\"ordinal\")\n",
    "\n",
    "# 计算斜率 -> 每刻度y对应的julian数值\n",
    "slope = (gregorian[\"ordinal\"].max() - gregorian[\"ordinal\"].min()) / (\n",
    "    gregorian[\"x\"].max() - gregorian[\"x\"].min()\n",
    ")\n",
    "print(f\"Slope of gregorian date number of per x: {slope}\")\n",
    "\n",
    "gregorian[\"slope\"] = (gregorian[\"ordinal\"] - gregorian[\"ordinal\"].shift(1)) / (\n",
    "    gregorian[\"x\"] - gregorian[\"x\"].shift(1)\n",
    ")\n",
    "gregorian[\"slope\"] = gregorian[\"slope\"].bfill()\n",
    "gregorian"
   ]
  },
  {
   "cell_type": "code",
   "execution_count": 238,
   "metadata": {},
   "outputs": [],
   "source": [
    "def x2date_by_gregorian(x: float, xshift: float = 70):\n",
    "    \"\"\"根据x坐标和格里高利历史的斜率来推算日期\n",
    "\n",
    "    Args:\n",
    "        x (float): _description_\n",
    "\n",
    "    Returns:\n",
    "        _type_: _description_\n",
    "    \"\"\"\n",
    "    # 计算系数\n",
    "    number = gregorian.loc[0, \"ordinal\"] + slope * (x - gregorian.loc[0, \"x\"] + xshift)\n",
    "    # datetime_date = pd.to_datetime(number, unit=\"s\").date()\n",
    "    datetime_date = pd.Timestamp.fromordinal(int(number.round())).date()\n",
    "    return datetime_date"
   ]
  },
  {
   "cell_type": "code",
   "execution_count": 239,
   "metadata": {},
   "outputs": [
    {
     "data": {
      "text/html": [
       "<div>\n",
       "<style scoped>\n",
       "    .dataframe tbody tr th:only-of-type {\n",
       "        vertical-align: middle;\n",
       "    }\n",
       "\n",
       "    .dataframe tbody tr th {\n",
       "        vertical-align: top;\n",
       "    }\n",
       "\n",
       "    .dataframe thead th {\n",
       "        text-align: right;\n",
       "    }\n",
       "</style>\n",
       "<table border=\"1\" class=\"dataframe\">\n",
       "  <thead>\n",
       "    <tr style=\"text-align: right;\">\n",
       "      <th></th>\n",
       "      <th>date_cord</th>\n",
       "      <th>index</th>\n",
       "      <th>date</th>\n",
       "    </tr>\n",
       "  </thead>\n",
       "  <tbody>\n",
       "    <tr>\n",
       "      <th>0</th>\n",
       "      <td>8.42157</td>\n",
       "      <td>86.738092</td>\n",
       "      <td>2006-08-08</td>\n",
       "    </tr>\n",
       "    <tr>\n",
       "      <th>1</th>\n",
       "      <td>13.89510</td>\n",
       "      <td>84.895099</td>\n",
       "      <td>2006-09-20</td>\n",
       "    </tr>\n",
       "    <tr>\n",
       "      <th>2</th>\n",
       "      <td>18.35030</td>\n",
       "      <td>85.180691</td>\n",
       "      <td>2006-10-25</td>\n",
       "    </tr>\n",
       "    <tr>\n",
       "      <th>3</th>\n",
       "      <td>24.46020</td>\n",
       "      <td>81.654013</td>\n",
       "      <td>2006-12-12</td>\n",
       "    </tr>\n",
       "    <tr>\n",
       "      <th>4</th>\n",
       "      <td>30.82480</td>\n",
       "      <td>82.764013</td>\n",
       "      <td>2007-01-31</td>\n",
       "    </tr>\n",
       "    <tr>\n",
       "      <th>...</th>\n",
       "      <td>...</td>\n",
       "      <td>...</td>\n",
       "      <td>...</td>\n",
       "    </tr>\n",
       "    <tr>\n",
       "      <th>144</th>\n",
       "      <td>827.41100</td>\n",
       "      <td>81.191086</td>\n",
       "      <td>2024-03-20</td>\n",
       "    </tr>\n",
       "    <tr>\n",
       "      <th>145</th>\n",
       "      <td>832.75800</td>\n",
       "      <td>81.305197</td>\n",
       "      <td>2024-05-01</td>\n",
       "    </tr>\n",
       "    <tr>\n",
       "      <th>146</th>\n",
       "      <td>838.10400</td>\n",
       "      <td>83.269013</td>\n",
       "      <td>2024-06-12</td>\n",
       "    </tr>\n",
       "    <tr>\n",
       "      <th>147</th>\n",
       "      <td>844.34100</td>\n",
       "      <td>89.567105</td>\n",
       "      <td>2024-07-31</td>\n",
       "    </tr>\n",
       "    <tr>\n",
       "      <th>148</th>\n",
       "      <td>850.57800</td>\n",
       "      <td>86.593586</td>\n",
       "      <td>2024-09-18</td>\n",
       "    </tr>\n",
       "  </tbody>\n",
       "</table>\n",
       "<p>149 rows × 3 columns</p>\n",
       "</div>"
      ],
      "text/plain": [
       "     date_cord      index        date\n",
       "0      8.42157  86.738092  2006-08-08\n",
       "1     13.89510  84.895099  2006-09-20\n",
       "2     18.35030  85.180691  2006-10-25\n",
       "3     24.46020  81.654013  2006-12-12\n",
       "4     30.82480  82.764013  2007-01-31\n",
       "..         ...        ...         ...\n",
       "144  827.41100  81.191086  2024-03-20\n",
       "145  832.75800  81.305197  2024-05-01\n",
       "146  838.10400  83.269013  2024-06-12\n",
       "147  844.34100  89.567105  2024-07-31\n",
       "148  850.57800  86.593586  2024-09-18\n",
       "\n",
       "[149 rows x 3 columns]"
      ]
     },
     "execution_count": 239,
     "metadata": {},
     "output_type": "execute_result"
    }
   ],
   "source": [
    "points_str = \"\"\"\n",
    "M 8.42157 40.3162 L 13.8951 45.9189 L 18.3503 45.0507 L 24.4602 55.7718 L 30.8248 52.3974 L 37.062 48.8203 L 43.2993 40.3511 L 48.3909 31.9148 L 54.7555 11.3097 L 60.1017 56.2336 L 65.5752 84.4661 L 70.7941 131.992 L 77.1587 201.946 L 83.2686 267.353 L 88.7421 275.744 L 95.8704 257.213 L 101.089 211.575 L 106.436 164.229 L 111.909 179.653 L 118.019 182.814 L 123.493 213.259 L 129.73 266.156 L 135.076 304 L 142.204 287.795 L 148.442 269.651 L 153.788 266.21 L 159.134 252.933 L 164.48 240.102 L 169.826 231.116 L 175.936 231.682 L 181.41 227.223 L 188.538 220.025 L 194.648 218.581 L 199.994 213.729 L 205.468 211.616 L 210.687 210.581 L 216.16 198.184 L 222.27 165.366 L 227.744 135.169 L 234.872 130.988 L 240.982 142.364 L 246.456 142.895 L 251.802 155.486 L 257.021 167.675 L 262.494 168.19 L 268.604 156.608 L 274.078 160.728 L 281.206 154.313 L 286.552 172.389 L 292.026 163.622 L 297.245 160.326 L 303.482 170.396 L 309.719 184.597 L 315.956 168.857 L 321.303 171.432 L 327.54 172.529 L 332.886 165.205 L 339.123 156.691 L 344.47 156.306 L 350.707 158.363 L 356.053 150.887 L 362.29 155.243 L 367.637 146.464 L 373.874 123.704 L 379.22 101.992 L 385.457 98.0272 L 390.804 83.8858 L 397.041 84.2001 L 402.387 92.5306 L 408.624 92.6017 L 413.971 92.585 L 420.208 77.0825 L 425.554 62.7468 L 431.919 58.731 L 437.137 57.1657 L 443.375 51.8904 L 448.721 65.3488 L 454.958 80.4503 L 460.304 83.3139 L 466.542 88.7349 L 471.888 86.9784 L 479.016 77.8343 L 484.362 74.7776 L 489.709 79.6757 L 495.946 80.7746 L 501.292 82.7564 L 507.529 83.0571 L 512.876 87.2164 L 518.222 80.1645 L 525.35 76.9071 L 530.696 81.9794 L 536.043 95.0888 L 542.28 95.5755 L 548.517 98.7635 L 553.863 101.705 L 559.209 83.8396 L 565.447 64.2081 L 572.575 47.8952 L 578.049 36.9977 L 583.267 25.9975 L 588.614 34.2754 L 594.851 47.721 L 600.197 54.796 L 606.434 63.6892 L 611.781 80.8196 L 618.018 91.0571 L 620.946 81.6787 L 623.364 95.3952 L 628.71 99.3895 L 634.948 103.148 L 639.275 133.139 L 640.803 156.295 L 641.821 174.906 L 646.531 160.564 L 651.877 164.248 L 658.115 160.402 L 664.352 119.258 L 670.716 92.2309 L 675.935 79.2765 L 681.281 72.3398 L 687.519 66.1756 L 692.865 55.5584 L 699.102 38.6366 L 704.448 17.7688 L 711.577 2.80653 L 716.923 0 L 722.269 8.46184 L 727.615 15.7657 L 733.853 42.7397 L 740.09 72.6682 L 745.436 87.1416 L 750.782 89.179 L 757.911 87.8776 L 763.257 79.137 L 768.603 64.7961 L 774.84 62.5304 L 781.078 62.2066 L 786.424 69.2637 L 791.77 66.272 L 797.116 60.8371 L 804.245 53.1489 L 809.591 51.9998 L 814.937 56.9392 L 821.174 56.706 L 827.411 57.1791 L 832.758 56.8322 L 838.104 50.8622 L 844.341 31.716 L 850.578 40.7555\n",
    "\"\"\"\n",
    "points_str = points_str.replace(\" L \", \"\\n\").replace(\"M \", \"\").strip()\n",
    "points = [tuple(map(float, p.split(\" \"))) for p in points_str.split(\"\\n\")]\n",
    "points = pd.DataFrame(points, columns=[\"date_cord\", \"index\"])\n",
    "points[\"index\"] = minmax(-1 * points[\"index\"])\n",
    "# 将坐标映射为日期\n",
    "points['date'] = points['date_cord'].transform(x2date_by_gregorian, xshift=70)\n",
    "points"
   ]
  },
  {
   "cell_type": "code",
   "execution_count": 245,
   "metadata": {},
   "outputs": [
    {
     "data": {
      "application/vnd.plotly.v1+json": {
       "config": {
        "plotlyServerURL": "https://plot.ly"
       },
       "data": [
        {
         "line": {
          "width": 0.8
         },
         "mode": "lines+markers",
         "name": "美国-MM AI 美联储声明稿鹰鸽指数",
         "type": "scatter",
         "x": [
          "2006-08-08",
          "2006-09-20",
          "2006-10-25",
          "2006-12-12",
          "2007-01-31",
          "2007-03-21",
          "2007-05-09",
          "2007-06-18",
          "2007-08-07",
          "2007-09-18",
          "2007-10-31",
          "2007-12-11",
          "2008-01-30",
          "2008-03-18",
          "2008-04-30",
          "2008-06-25",
          "2008-08-05",
          "2008-09-16",
          "2008-10-29",
          "2008-12-16",
          "2009-01-28",
          "2009-03-18",
          "2009-04-29",
          "2009-06-24",
          "2009-08-12",
          "2009-09-23",
          "2009-11-04",
          "2009-12-16",
          "2010-01-27",
          "2010-03-16",
          "2010-04-28",
          "2010-06-23",
          "2010-08-10",
          "2010-09-21",
          "2010-11-03",
          "2010-12-14",
          "2011-01-26",
          "2011-03-15",
          "2011-04-27",
          "2011-06-22",
          "2011-08-09",
          "2011-09-21",
          "2011-11-02",
          "2011-12-13",
          "2012-01-25",
          "2012-03-13",
          "2012-04-25",
          "2012-06-20",
          "2012-08-01",
          "2012-09-13",
          "2012-10-24",
          "2012-12-12",
          "2013-01-30",
          "2013-03-20",
          "2013-05-01",
          "2013-06-19",
          "2013-07-31",
          "2013-09-18",
          "2013-10-30",
          "2013-12-18",
          "2014-01-29",
          "2014-03-19",
          "2014-04-30",
          "2014-06-18",
          "2014-07-30",
          "2014-09-17",
          "2014-10-29",
          "2014-12-17",
          "2015-01-28",
          "2015-03-18",
          "2015-04-29",
          "2015-06-17",
          "2015-07-29",
          "2015-09-17",
          "2015-10-28",
          "2015-12-16",
          "2016-01-27",
          "2016-03-16",
          "2016-04-27",
          "2016-06-15",
          "2016-07-27",
          "2016-09-21",
          "2016-11-02",
          "2016-12-14",
          "2017-02-01",
          "2017-03-15",
          "2017-05-03",
          "2017-06-14",
          "2017-07-26",
          "2017-09-20",
          "2017-11-01",
          "2017-12-13",
          "2018-01-31",
          "2018-03-21",
          "2018-05-02",
          "2018-06-13",
          "2018-08-01",
          "2018-09-26",
          "2018-11-08",
          "2018-12-19",
          "2019-01-30",
          "2019-03-20",
          "2019-05-01",
          "2019-06-19",
          "2019-07-31",
          "2019-09-18",
          "2019-10-11",
          "2019-10-30",
          "2019-12-11",
          "2020-01-29",
          "2020-03-03",
          "2020-03-15",
          "2020-03-23",
          "2020-04-29",
          "2020-06-10",
          "2020-07-29",
          "2020-09-16",
          "2020-11-05",
          "2020-12-16",
          "2021-01-27",
          "2021-03-17",
          "2021-04-28",
          "2021-06-16",
          "2021-07-28",
          "2021-09-22",
          "2021-11-03",
          "2021-12-15",
          "2022-01-26",
          "2022-03-16",
          "2022-05-04",
          "2022-06-15",
          "2022-07-27",
          "2022-09-21",
          "2022-11-02",
          "2022-12-14",
          "2023-02-01",
          "2023-03-22",
          "2023-05-03",
          "2023-06-14",
          "2023-07-26",
          "2023-09-20",
          "2023-11-01",
          "2023-12-13",
          "2024-01-31",
          "2024-03-20",
          "2024-05-01",
          "2024-06-12",
          "2024-07-31",
          "2024-09-18"
         ],
         "y": [
          94.3172,
          95.597,
          97.7844,
          99.253,
          99.5057,
          100,
          93.7906,
          90.1225,
          81.5612,
          77.1469,
          69.6556,
          74.03769999999999,
          81.0706,
          86.03180000000002,
          86.411,
          82.4413,
          67.0941,
          54.11109999999999,
          53.51070000000001,
          58.1363,
          62.74889999999999,
          63.48,
          60.9258,
          52.244,
          37.5691,
          25.489200000000007,
          21.978300000000004,
          16.833199999999994,
          13.992799999999997,
          14.2958,
          14.277100000000004,
          13.405500000000004,
          16.361900000000002,
          22.662200000000002,
          24.901200000000003,
          27.811599999999995,
          31.192000000000007,
          38.0286,
          31.792199999999998,
          29.62549999999999,
          28.224800000000005,
          28.7081,
          20.594499999999996,
          20.243500000000008,
          18.1005,
          21.646199999999993,
          21.052700000000005,
          17.0677,
          16.587700000000005,
          18.8145,
          15.4168,
          19.765999999999995,
          31.032500000000002,
          38.014500000000005,
          42.5081,
          45.4248,
          44.226,
          39.5277,
          33.102,
          29.297700000000006,
          24.891500000000008,
          20.28109999999999,
          18.190999999999992,
          15.994100000000003,
          12.028799999999995,
          11.282499999999994,
          11.020499999999997,
          6.9919000000000056,
          8.532099999999998,
          10.929199999999994,
          11.689100000000002,
          8.603300000000003,
          13.268199999999998,
          18.870799999999996,
          20.976399999999998,
          26.535700000000002,
          32.3423,
          37.2399,
          34.1693,
          32.8792,
          29.873900000000003,
          30.540099999999995,
          28.877600000000005,
          31.7144,
          31.55590000000001,
          35.3503,
          33.2374,
          34.8106,
          34.2051,
          35.867,
          32.572,
          38.756099999999996,
          44.666,
          47.23929999999999,
          48.75300000000001,
          49.270199999999996,
          46.0034,
          38.6376,
          34.6783,
          33.7677,
          36.5625,
          34.2514,
          35.7241,
          37.7065,
          42.659699999999994,
          46.7241,
          67.86300000000001,
          51.10920000000001,
          52.4289,
          54.336400000000005,
          44.5195,
          34.3526,
          33.8595,
          23.121100000000002,
          11.101299999999995,
          0,
          3.7746999999999975,
          5.523799999999997,
          11.760100000000007,
          20.363299999999995,
          28.762900000000005,
          29.0667,
          28.1974,
          29.493300000000005,
          28.7255,
          28.047100000000004,
          30.298299999999994,
          31.051800000000004,
          33.7577,
          41.9596,
          52.266,
          61.2891,
          71.37230000000001,
          79.24119999999999,
          83.69800000000001,
          85.0244,
          83.12750000000001,
          83.0671,
          77.28840000000001,
          73.80399999999999,
          66.7321,
          61.7069,
          56.9433,
          59.8888,
          58.366899999999994,
          60.5333,
          59.274100000000004,
          58.823499999999996,
          54.8627
         ]
        },
        {
         "line": {
          "width": 0.8
         },
         "mode": "lines+markers",
         "name": "美国-MM AI 美联储声明稿乐观指数",
         "type": "scatter",
         "x": [
          "2006-08-08",
          "2006-09-20",
          "2006-10-25",
          "2006-12-12",
          "2007-01-31",
          "2007-03-21",
          "2007-05-09",
          "2007-06-18",
          "2007-08-07",
          "2007-09-18",
          "2007-10-31",
          "2007-12-11",
          "2008-01-30",
          "2008-03-18",
          "2008-04-30",
          "2008-06-25",
          "2008-08-05",
          "2008-09-16",
          "2008-10-29",
          "2008-12-16",
          "2009-01-28",
          "2009-03-18",
          "2009-04-29",
          "2009-06-24",
          "2009-08-12",
          "2009-09-23",
          "2009-11-04",
          "2009-12-16",
          "2010-01-27",
          "2010-03-16",
          "2010-04-28",
          "2010-06-23",
          "2010-08-10",
          "2010-09-21",
          "2010-11-03",
          "2010-12-14",
          "2011-01-26",
          "2011-03-15",
          "2011-04-27",
          "2011-06-22",
          "2011-08-09",
          "2011-09-21",
          "2011-11-02",
          "2011-12-13",
          "2012-01-25",
          "2012-03-13",
          "2012-04-25",
          "2012-06-20",
          "2012-08-01",
          "2012-09-13",
          "2012-10-24",
          "2012-12-12",
          "2013-01-30",
          "2013-03-20",
          "2013-05-01",
          "2013-06-19",
          "2013-07-31",
          "2013-09-18",
          "2013-10-30",
          "2013-12-18",
          "2014-01-29",
          "2014-03-19",
          "2014-04-30",
          "2014-06-18",
          "2014-07-30",
          "2014-09-17",
          "2014-10-29",
          "2014-12-17",
          "2015-01-28",
          "2015-03-18",
          "2015-04-29",
          "2015-06-17",
          "2015-07-29",
          "2015-09-17",
          "2015-10-28",
          "2015-12-16",
          "2016-01-27",
          "2016-03-16",
          "2016-04-27",
          "2016-06-15",
          "2016-07-27",
          "2016-09-21",
          "2016-11-02",
          "2016-12-14",
          "2017-02-01",
          "2017-03-15",
          "2017-05-03",
          "2017-06-14",
          "2017-07-26",
          "2017-09-20",
          "2017-11-01",
          "2017-12-13",
          "2018-01-31",
          "2018-03-21",
          "2018-05-02",
          "2018-06-13",
          "2018-08-01",
          "2018-09-26",
          "2018-11-08",
          "2018-12-19",
          "2019-01-30",
          "2019-03-20",
          "2019-05-01",
          "2019-06-19",
          "2019-07-31",
          "2019-09-18",
          "2019-10-11",
          "2019-10-30",
          "2019-12-11",
          "2020-01-29",
          "2020-03-03",
          "2020-03-15",
          "2020-03-23",
          "2020-04-29",
          "2020-06-10",
          "2020-07-29",
          "2020-09-16",
          "2020-11-05",
          "2020-12-16",
          "2021-01-27",
          "2021-03-17",
          "2021-04-28",
          "2021-06-16",
          "2021-07-28",
          "2021-09-22",
          "2021-11-03",
          "2021-12-15",
          "2022-01-26",
          "2022-03-16",
          "2022-05-04",
          "2022-06-15",
          "2022-07-27",
          "2022-09-21",
          "2022-11-02",
          "2022-12-14",
          "2023-02-01",
          "2023-03-22",
          "2023-05-03",
          "2023-06-14",
          "2023-07-26",
          "2023-09-20",
          "2023-11-01",
          "2023-12-13",
          "2024-01-31",
          "2024-03-20",
          "2024-05-01",
          "2024-06-12",
          "2024-07-31",
          "2024-09-18"
         ],
         "y": [
          86.73809210526316,
          84.89509868421052,
          85.18069078947369,
          81.65401315789474,
          82.76401315789474,
          83.94069078947369,
          86.72661184210527,
          89.50171052631578,
          96.27970394736842,
          81.50210526315789,
          72.21509868421053,
          56.58157894736842,
          33.570394736842104,
          12.054934210526312,
          9.294736842105253,
          15.390460526315783,
          30.402960526315795,
          45.977302631578944,
          40.903618421052634,
          39.86381578947368,
          29.849013157894746,
          12.448684210526315,
          0,
          5.330592105263153,
          11.299013157894732,
          12.430921052631584,
          16.798355263157898,
          21.019078947368417,
          23.974999999999994,
          23.788815789473688,
          25.255592105263155,
          27.623355263157894,
          28.0983552631579,
          29.694407894736838,
          30.389473684210518,
          30.72993421052632,
          34.80789473684211,
          45.60328947368421,
          55.53651315789473,
          56.91184210526316,
          53.169736842105266,
          52.99506578947368,
          48.853289473684214,
          44.84374999999999,
          44.67434210526316,
          48.484210526315785,
          47.12894736842105,
          49.23914473684211,
          43.293092105263156,
          46.17697368421052,
          47.261184210526324,
          43.948684210526324,
          39.27730263157895,
          44.45493421052631,
          43.607894736842105,
          43.24703947368421,
          45.65624999999999,
          48.456907894736844,
          48.58355263157895,
          47.90690789473685,
          50.366118421052626,
          48.93322368421053,
          51.82105263157895,
          59.3078947368421,
          66.45,
          67.75421052631579,
          72.40598684210526,
          72.30259868421052,
          69.56230263157896,
          69.53891447368422,
          69.54440789473685,
          74.6439144736842,
          79.35960526315789,
          80.68059210526316,
          81.19549342105263,
          82.93078947368421,
          78.50368421052633,
          73.53608552631579,
          72.59411184210526,
          70.81088815789474,
          71.38868421052632,
          74.39661184210526,
          75.40210526315789,
          73.79088815789474,
          73.42940789473683,
          72.7775,
          72.67858552631579,
          71.31039473684211,
          73.63009868421052,
          74.70161184210525,
          73.03309210526317,
          68.72078947368422,
          68.56069078947368,
          67.51200657894738,
          66.54440789473684,
          72.4211842105263,
          78.8789144736842,
          84.245,
          87.82970394736842,
          91.44819078947368,
          88.72519736842105,
          84.30230263157895,
          81.97500000000001,
          79.0496052631579,
          73.4146052631579,
          70.04700657894738,
          73.13200657894737,
          68.62,
          67.30608552631578,
          66.06973684210527,
          56.20427631578947,
          48.58717105263158,
          42.465131578947364,
          47.18289473684211,
          45.97105263157895,
          47.23618421052632,
          60.77039473684211,
          69.66088815789472,
          73.92220394736842,
          76.20401315789474,
          78.23171052631578,
          81.72421052631579,
          87.29059210526316,
          94.155,
          99.07679934210526,
          100,
          97.2165,
          94.8139144736842,
          85.94088815789475,
          76.09598684210526,
          71.335,
          70.66480263157894,
          71.09289473684211,
          73.96809210526315,
          78.68549342105263,
          79.43078947368421,
          79.53730263157895,
          77.21588815789474,
          78.2,
          79.98779605263158,
          82.51680921052632,
          82.89480263157895,
          81.27000000000001,
          81.34671052631579,
          81.19108552631579,
          81.30519736842105,
          83.26901315789473,
          89.56710526315788,
          86.59358552631579
         ]
        }
       ],
       "layout": {
        "template": {
         "data": {
          "bar": [
           {
            "error_x": {
             "color": "#2a3f5f"
            },
            "error_y": {
             "color": "#2a3f5f"
            },
            "marker": {
             "line": {
              "color": "#E5ECF6",
              "width": 0.5
             },
             "pattern": {
              "fillmode": "overlay",
              "size": 10,
              "solidity": 0.2
             }
            },
            "type": "bar"
           }
          ],
          "barpolar": [
           {
            "marker": {
             "line": {
              "color": "#E5ECF6",
              "width": 0.5
             },
             "pattern": {
              "fillmode": "overlay",
              "size": 10,
              "solidity": 0.2
             }
            },
            "type": "barpolar"
           }
          ],
          "carpet": [
           {
            "aaxis": {
             "endlinecolor": "#2a3f5f",
             "gridcolor": "white",
             "linecolor": "white",
             "minorgridcolor": "white",
             "startlinecolor": "#2a3f5f"
            },
            "baxis": {
             "endlinecolor": "#2a3f5f",
             "gridcolor": "white",
             "linecolor": "white",
             "minorgridcolor": "white",
             "startlinecolor": "#2a3f5f"
            },
            "type": "carpet"
           }
          ],
          "choropleth": [
           {
            "colorbar": {
             "outlinewidth": 0,
             "ticks": ""
            },
            "type": "choropleth"
           }
          ],
          "contour": [
           {
            "colorbar": {
             "outlinewidth": 0,
             "ticks": ""
            },
            "colorscale": [
             [
              0,
              "#0d0887"
             ],
             [
              0.1111111111111111,
              "#46039f"
             ],
             [
              0.2222222222222222,
              "#7201a8"
             ],
             [
              0.3333333333333333,
              "#9c179e"
             ],
             [
              0.4444444444444444,
              "#bd3786"
             ],
             [
              0.5555555555555556,
              "#d8576b"
             ],
             [
              0.6666666666666666,
              "#ed7953"
             ],
             [
              0.7777777777777778,
              "#fb9f3a"
             ],
             [
              0.8888888888888888,
              "#fdca26"
             ],
             [
              1,
              "#f0f921"
             ]
            ],
            "type": "contour"
           }
          ],
          "contourcarpet": [
           {
            "colorbar": {
             "outlinewidth": 0,
             "ticks": ""
            },
            "type": "contourcarpet"
           }
          ],
          "heatmap": [
           {
            "colorbar": {
             "outlinewidth": 0,
             "ticks": ""
            },
            "colorscale": [
             [
              0,
              "#0d0887"
             ],
             [
              0.1111111111111111,
              "#46039f"
             ],
             [
              0.2222222222222222,
              "#7201a8"
             ],
             [
              0.3333333333333333,
              "#9c179e"
             ],
             [
              0.4444444444444444,
              "#bd3786"
             ],
             [
              0.5555555555555556,
              "#d8576b"
             ],
             [
              0.6666666666666666,
              "#ed7953"
             ],
             [
              0.7777777777777778,
              "#fb9f3a"
             ],
             [
              0.8888888888888888,
              "#fdca26"
             ],
             [
              1,
              "#f0f921"
             ]
            ],
            "type": "heatmap"
           }
          ],
          "heatmapgl": [
           {
            "colorbar": {
             "outlinewidth": 0,
             "ticks": ""
            },
            "colorscale": [
             [
              0,
              "#0d0887"
             ],
             [
              0.1111111111111111,
              "#46039f"
             ],
             [
              0.2222222222222222,
              "#7201a8"
             ],
             [
              0.3333333333333333,
              "#9c179e"
             ],
             [
              0.4444444444444444,
              "#bd3786"
             ],
             [
              0.5555555555555556,
              "#d8576b"
             ],
             [
              0.6666666666666666,
              "#ed7953"
             ],
             [
              0.7777777777777778,
              "#fb9f3a"
             ],
             [
              0.8888888888888888,
              "#fdca26"
             ],
             [
              1,
              "#f0f921"
             ]
            ],
            "type": "heatmapgl"
           }
          ],
          "histogram": [
           {
            "marker": {
             "pattern": {
              "fillmode": "overlay",
              "size": 10,
              "solidity": 0.2
             }
            },
            "type": "histogram"
           }
          ],
          "histogram2d": [
           {
            "colorbar": {
             "outlinewidth": 0,
             "ticks": ""
            },
            "colorscale": [
             [
              0,
              "#0d0887"
             ],
             [
              0.1111111111111111,
              "#46039f"
             ],
             [
              0.2222222222222222,
              "#7201a8"
             ],
             [
              0.3333333333333333,
              "#9c179e"
             ],
             [
              0.4444444444444444,
              "#bd3786"
             ],
             [
              0.5555555555555556,
              "#d8576b"
             ],
             [
              0.6666666666666666,
              "#ed7953"
             ],
             [
              0.7777777777777778,
              "#fb9f3a"
             ],
             [
              0.8888888888888888,
              "#fdca26"
             ],
             [
              1,
              "#f0f921"
             ]
            ],
            "type": "histogram2d"
           }
          ],
          "histogram2dcontour": [
           {
            "colorbar": {
             "outlinewidth": 0,
             "ticks": ""
            },
            "colorscale": [
             [
              0,
              "#0d0887"
             ],
             [
              0.1111111111111111,
              "#46039f"
             ],
             [
              0.2222222222222222,
              "#7201a8"
             ],
             [
              0.3333333333333333,
              "#9c179e"
             ],
             [
              0.4444444444444444,
              "#bd3786"
             ],
             [
              0.5555555555555556,
              "#d8576b"
             ],
             [
              0.6666666666666666,
              "#ed7953"
             ],
             [
              0.7777777777777778,
              "#fb9f3a"
             ],
             [
              0.8888888888888888,
              "#fdca26"
             ],
             [
              1,
              "#f0f921"
             ]
            ],
            "type": "histogram2dcontour"
           }
          ],
          "mesh3d": [
           {
            "colorbar": {
             "outlinewidth": 0,
             "ticks": ""
            },
            "type": "mesh3d"
           }
          ],
          "parcoords": [
           {
            "line": {
             "colorbar": {
              "outlinewidth": 0,
              "ticks": ""
             }
            },
            "type": "parcoords"
           }
          ],
          "pie": [
           {
            "automargin": true,
            "type": "pie"
           }
          ],
          "scatter": [
           {
            "fillpattern": {
             "fillmode": "overlay",
             "size": 10,
             "solidity": 0.2
            },
            "type": "scatter"
           }
          ],
          "scatter3d": [
           {
            "line": {
             "colorbar": {
              "outlinewidth": 0,
              "ticks": ""
             }
            },
            "marker": {
             "colorbar": {
              "outlinewidth": 0,
              "ticks": ""
             }
            },
            "type": "scatter3d"
           }
          ],
          "scattercarpet": [
           {
            "marker": {
             "colorbar": {
              "outlinewidth": 0,
              "ticks": ""
             }
            },
            "type": "scattercarpet"
           }
          ],
          "scattergeo": [
           {
            "marker": {
             "colorbar": {
              "outlinewidth": 0,
              "ticks": ""
             }
            },
            "type": "scattergeo"
           }
          ],
          "scattergl": [
           {
            "marker": {
             "colorbar": {
              "outlinewidth": 0,
              "ticks": ""
             }
            },
            "type": "scattergl"
           }
          ],
          "scattermapbox": [
           {
            "marker": {
             "colorbar": {
              "outlinewidth": 0,
              "ticks": ""
             }
            },
            "type": "scattermapbox"
           }
          ],
          "scatterpolar": [
           {
            "marker": {
             "colorbar": {
              "outlinewidth": 0,
              "ticks": ""
             }
            },
            "type": "scatterpolar"
           }
          ],
          "scatterpolargl": [
           {
            "marker": {
             "colorbar": {
              "outlinewidth": 0,
              "ticks": ""
             }
            },
            "type": "scatterpolargl"
           }
          ],
          "scatterternary": [
           {
            "marker": {
             "colorbar": {
              "outlinewidth": 0,
              "ticks": ""
             }
            },
            "type": "scatterternary"
           }
          ],
          "surface": [
           {
            "colorbar": {
             "outlinewidth": 0,
             "ticks": ""
            },
            "colorscale": [
             [
              0,
              "#0d0887"
             ],
             [
              0.1111111111111111,
              "#46039f"
             ],
             [
              0.2222222222222222,
              "#7201a8"
             ],
             [
              0.3333333333333333,
              "#9c179e"
             ],
             [
              0.4444444444444444,
              "#bd3786"
             ],
             [
              0.5555555555555556,
              "#d8576b"
             ],
             [
              0.6666666666666666,
              "#ed7953"
             ],
             [
              0.7777777777777778,
              "#fb9f3a"
             ],
             [
              0.8888888888888888,
              "#fdca26"
             ],
             [
              1,
              "#f0f921"
             ]
            ],
            "type": "surface"
           }
          ],
          "table": [
           {
            "cells": {
             "fill": {
              "color": "#EBF0F8"
             },
             "line": {
              "color": "white"
             }
            },
            "header": {
             "fill": {
              "color": "#C8D4E3"
             },
             "line": {
              "color": "white"
             }
            },
            "type": "table"
           }
          ]
         },
         "layout": {
          "annotationdefaults": {
           "arrowcolor": "#2a3f5f",
           "arrowhead": 0,
           "arrowwidth": 1
          },
          "autotypenumbers": "strict",
          "coloraxis": {
           "colorbar": {
            "outlinewidth": 0,
            "ticks": ""
           }
          },
          "colorscale": {
           "diverging": [
            [
             0,
             "#8e0152"
            ],
            [
             0.1,
             "#c51b7d"
            ],
            [
             0.2,
             "#de77ae"
            ],
            [
             0.3,
             "#f1b6da"
            ],
            [
             0.4,
             "#fde0ef"
            ],
            [
             0.5,
             "#f7f7f7"
            ],
            [
             0.6,
             "#e6f5d0"
            ],
            [
             0.7,
             "#b8e186"
            ],
            [
             0.8,
             "#7fbc41"
            ],
            [
             0.9,
             "#4d9221"
            ],
            [
             1,
             "#276419"
            ]
           ],
           "sequential": [
            [
             0,
             "#0d0887"
            ],
            [
             0.1111111111111111,
             "#46039f"
            ],
            [
             0.2222222222222222,
             "#7201a8"
            ],
            [
             0.3333333333333333,
             "#9c179e"
            ],
            [
             0.4444444444444444,
             "#bd3786"
            ],
            [
             0.5555555555555556,
             "#d8576b"
            ],
            [
             0.6666666666666666,
             "#ed7953"
            ],
            [
             0.7777777777777778,
             "#fb9f3a"
            ],
            [
             0.8888888888888888,
             "#fdca26"
            ],
            [
             1,
             "#f0f921"
            ]
           ],
           "sequentialminus": [
            [
             0,
             "#0d0887"
            ],
            [
             0.1111111111111111,
             "#46039f"
            ],
            [
             0.2222222222222222,
             "#7201a8"
            ],
            [
             0.3333333333333333,
             "#9c179e"
            ],
            [
             0.4444444444444444,
             "#bd3786"
            ],
            [
             0.5555555555555556,
             "#d8576b"
            ],
            [
             0.6666666666666666,
             "#ed7953"
            ],
            [
             0.7777777777777778,
             "#fb9f3a"
            ],
            [
             0.8888888888888888,
             "#fdca26"
            ],
            [
             1,
             "#f0f921"
            ]
           ]
          },
          "colorway": [
           "#636efa",
           "#EF553B",
           "#00cc96",
           "#ab63fa",
           "#FFA15A",
           "#19d3f3",
           "#FF6692",
           "#B6E880",
           "#FF97FF",
           "#FECB52"
          ],
          "font": {
           "color": "#2a3f5f"
          },
          "geo": {
           "bgcolor": "white",
           "lakecolor": "white",
           "landcolor": "#E5ECF6",
           "showlakes": true,
           "showland": true,
           "subunitcolor": "white"
          },
          "hoverlabel": {
           "align": "left"
          },
          "hovermode": "closest",
          "mapbox": {
           "style": "light"
          },
          "paper_bgcolor": "white",
          "plot_bgcolor": "#E5ECF6",
          "polar": {
           "angularaxis": {
            "gridcolor": "white",
            "linecolor": "white",
            "ticks": ""
           },
           "bgcolor": "#E5ECF6",
           "radialaxis": {
            "gridcolor": "white",
            "linecolor": "white",
            "ticks": ""
           }
          },
          "scene": {
           "xaxis": {
            "backgroundcolor": "#E5ECF6",
            "gridcolor": "white",
            "gridwidth": 2,
            "linecolor": "white",
            "showbackground": true,
            "ticks": "",
            "zerolinecolor": "white"
           },
           "yaxis": {
            "backgroundcolor": "#E5ECF6",
            "gridcolor": "white",
            "gridwidth": 2,
            "linecolor": "white",
            "showbackground": true,
            "ticks": "",
            "zerolinecolor": "white"
           },
           "zaxis": {
            "backgroundcolor": "#E5ECF6",
            "gridcolor": "white",
            "gridwidth": 2,
            "linecolor": "white",
            "showbackground": true,
            "ticks": "",
            "zerolinecolor": "white"
           }
          },
          "shapedefaults": {
           "line": {
            "color": "#2a3f5f"
           }
          },
          "ternary": {
           "aaxis": {
            "gridcolor": "white",
            "linecolor": "white",
            "ticks": ""
           },
           "baxis": {
            "gridcolor": "white",
            "linecolor": "white",
            "ticks": ""
           },
           "bgcolor": "#E5ECF6",
           "caxis": {
            "gridcolor": "white",
            "linecolor": "white",
            "ticks": ""
           }
          },
          "title": {
           "x": 0.05
          },
          "xaxis": {
           "automargin": true,
           "gridcolor": "white",
           "linecolor": "white",
           "ticks": "",
           "title": {
            "standoff": 15
           },
           "zerolinecolor": "white",
           "zerolinewidth": 2
          },
          "yaxis": {
           "automargin": true,
           "gridcolor": "white",
           "linecolor": "white",
           "ticks": "",
           "title": {
            "standoff": 15
           },
           "zerolinecolor": "white",
           "zerolinewidth": 2
          }
         }
        },
        "title": {
         "text": "美国-MM AI美联储声明稿乐观指数"
        },
        "xaxis": {
         "rangeselector": {
          "buttons": [
           {
            "count": 1,
            "label": "1m",
            "step": "month",
            "stepmode": "backward"
           },
           {
            "count": 6,
            "label": "6m",
            "step": "month",
            "stepmode": "backward"
           },
           {
            "count": 1,
            "label": "YTD",
            "step": "year",
            "stepmode": "todate"
           },
           {
            "count": 1,
            "label": "1y",
            "step": "year",
            "stepmode": "backward"
           },
           {
            "count": 3,
            "label": "3y",
            "step": "year",
            "stepmode": "backward"
           },
           {
            "step": "all"
           }
          ]
         },
         "title": {
          "text": "日期"
         }
        },
        "yaxis": {
         "rangemode": "tozero",
         "title": {
          "text": "指数"
         }
        }
       }
      }
     },
     "metadata": {},
     "output_type": "display_data"
    }
   ],
   "source": [
    "import plotly.graph_objects as go\n",
    "\n",
    "# 创建一个图形对象\n",
    "fig = go.Figure()\n",
    "\n",
    "fig.add_trace(\n",
    "    go.Scatter(\n",
    "        x=mm2['date'],\n",
    "        y=mm2['y'],\n",
    "        mode=\"lines+markers\",\n",
    "        name=\"美国-MM AI 美联储声明稿鹰鸽指数\",\n",
    "        line={\"width\": 0.8},\n",
    "    )  # , marker={\"size\":4}\n",
    ")\n",
    "\n",
    "fig.add_trace(\n",
    "    go.Scatter(\n",
    "        x=points[\"date\"],\n",
    "        y=points[\"index\"],\n",
    "        mode=\"lines+markers\",\n",
    "        name=\"美国-MM AI 美联储声明稿乐观指数\",\n",
    "        line={\"width\": 0.8},\n",
    "    )  # , marker={\"size\":4}\n",
    ")\n",
    "\n",
    "# 设置图形的标题和坐标轴标签\n",
    "fig.update_layout(\n",
    "    title=\"美国-MM AI美联储声明稿乐观指数\",\n",
    "    xaxis_title=\"日期\",\n",
    "    yaxis_title=\"指数\",\n",
    "    xaxis=dict(\n",
    "        rangeselector=dict(\n",
    "            buttons=list(\n",
    "                [\n",
    "                    dict(count=1, label=\"1m\", step=\"month\", stepmode=\"backward\"),\n",
    "                    dict(count=6, label=\"6m\", step=\"month\", stepmode=\"backward\"),\n",
    "                    dict(count=1, label=\"YTD\", step=\"year\", stepmode=\"todate\"),\n",
    "                    dict(count=1, label=\"1y\", step=\"year\", stepmode=\"backward\"),\n",
    "                    dict(count=3, label=\"3y\", step=\"year\", stepmode=\"backward\"),\n",
    "                    dict(step=\"all\"),\n",
    "                ]\n",
    "            )\n",
    "        )\n",
    "    ),\n",
    "    yaxis=dict(rangemode=\"tozero\"),\n",
    ")\n",
    "\n",
    "# 显示图形\n",
    "fig.show()\n",
    "fig.write_html(\"../data/MM2/美国-MM AI美联储声明稿乐观指数.html\")\n",
    "\n",
    "points[['date', 'index']].to_csv(\"../data/MM2/美国-MM AI美联储声明稿乐观指数.csv\", index=False)\n"
   ]
  }
 ],
 "metadata": {
  "kernelspec": {
   "display_name": "FOMCTS",
   "language": "python",
   "name": "python3"
  },
  "language_info": {
   "codemirror_mode": {
    "name": "ipython",
    "version": 3
   },
   "file_extension": ".py",
   "mimetype": "text/x-python",
   "name": "python",
   "nbconvert_exporter": "python",
   "pygments_lexer": "ipython3",
   "version": "3.12.6"
  }
 },
 "nbformat": 4,
 "nbformat_minor": 2
}
