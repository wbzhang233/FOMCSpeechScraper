{
 "cells": [
  {
   "cell_type": "markdown",
   "metadata": {},
   "source": [
    "# Copy All Speeches Files\n",
    "@author: zhangwubin\n",
    "\n",
    "@date: 2024/12/05"
   ]
  },
  {
   "cell_type": "code",
   "execution_count": 2,
   "metadata": {},
   "outputs": [
    {
     "name": "stdout",
     "output_type": "stream",
     "text": [
      "Copied ../data/fed_speeches\\atlanta_fed_speeches\\atlanta_speeches.json to ../data/fed_speeches/versions\\atlanta_fed_speeches\\atlanta_speeches.json\n",
      "Copied ../data/fed_speeches\\bog_fed_speeches\\bog_speeches.json to ../data/fed_speeches/versions\\bog_fed_speeches\\bog_speeches.json\n",
      "Copied ../data/fed_speeches\\boston_fed_speeches\\boston_speeches.json to ../data/fed_speeches/versions\\boston_fed_speeches\\boston_speeches.json\n",
      "Copied ../data/fed_speeches\\chicago_fed_speeches\\chicago_speeches.json to ../data/fed_speeches/versions\\chicago_fed_speeches\\chicago_speeches.json\n",
      "Copied ../data/fed_speeches\\cleveland_fed_speeches\\cleveland_speeches.json to ../data/fed_speeches/versions\\cleveland_fed_speeches\\cleveland_speeches.json\n",
      "Copied ../data/fed_speeches\\dallas_fed_speeches\\dallas_speeches.json to ../data/fed_speeches/versions\\dallas_fed_speeches\\dallas_speeches.json\n",
      "Copied ../data/fed_speeches\\kansascity_fed_speeches\\kansascity_speeches.json to ../data/fed_speeches/versions\\kansascity_fed_speeches\\kansascity_speeches.json\n",
      "Copied ../data/fed_speeches\\minneapolis_fed_speeches\\minneapolis_speeches.json to ../data/fed_speeches/versions\\minneapolis_fed_speeches\\minneapolis_speeches.json\n",
      "Copied ../data/fed_speeches\\newyork_fed_speeches\\newyork_speeches.json to ../data/fed_speeches/versions\\newyork_fed_speeches\\newyork_speeches.json\n",
      "Copied ../data/fed_speeches\\philadelphia_fed_speeches\\philadelphia_speeches.json to ../data/fed_speeches/versions\\philadelphia_fed_speeches\\philadelphia_speeches.json\n",
      "Copied ../data/fed_speeches\\richmond_fed_speeches\\richmond_speeches.json to ../data/fed_speeches/versions\\richmond_fed_speeches\\richmond_speeches.json\n",
      "Copied ../data/fed_speeches\\sanfrancisco_fed_speeches\\sanfrancisco_speeches.json to ../data/fed_speeches/versions\\sanfrancisco_fed_speeches\\sanfrancisco_speeches.json\n",
      "Copied ../data/fed_speeches\\stlouis_fed_speeches\\stlouis_speeches.json to ../data/fed_speeches/versions\\stlouis_fed_speeches\\stlouis_speeches.json\n",
      "Copied ../data/fed_speeches\\versions\\atlanta_fed_speeches\\atlanta_speeches.json to ../data/fed_speeches/versions\\versions\\atlanta_fed_speeches\\atlanta_speeches.json\n",
      "Copied ../data/fed_speeches\\versions\\bog_fed_speeches\\bog_speeches.json to ../data/fed_speeches/versions\\versions\\bog_fed_speeches\\bog_speeches.json\n",
      "Copied ../data/fed_speeches\\versions\\boston_fed_speeches\\boston_speeches.json to ../data/fed_speeches/versions\\versions\\boston_fed_speeches\\boston_speeches.json\n",
      "Copied ../data/fed_speeches\\versions\\chicago_fed_speeches\\chicago_speeches.json to ../data/fed_speeches/versions\\versions\\chicago_fed_speeches\\chicago_speeches.json\n",
      "Copied ../data/fed_speeches\\versions\\cleveland_fed_speeches\\cleveland_speeches.json to ../data/fed_speeches/versions\\versions\\cleveland_fed_speeches\\cleveland_speeches.json\n",
      "Copied ../data/fed_speeches\\versions\\dallas_fed_speeches\\dallas_speeches.json to ../data/fed_speeches/versions\\versions\\dallas_fed_speeches\\dallas_speeches.json\n",
      "Copied ../data/fed_speeches\\versions\\kansascity_fed_speeches\\kansascity_speeches.json to ../data/fed_speeches/versions\\versions\\kansascity_fed_speeches\\kansascity_speeches.json\n",
      "Copied ../data/fed_speeches\\versions\\minneapolis_fed_speeches\\minneapolis_speeches.json to ../data/fed_speeches/versions\\versions\\minneapolis_fed_speeches\\minneapolis_speeches.json\n",
      "Copied ../data/fed_speeches\\versions\\newyork_fed_speeches\\newyork_speeches.json to ../data/fed_speeches/versions\\versions\\newyork_fed_speeches\\newyork_speeches.json\n",
      "Copied ../data/fed_speeches\\versions\\philadelphia_fed_speeches\\philadelphia_speeches.json to ../data/fed_speeches/versions\\versions\\philadelphia_fed_speeches\\philadelphia_speeches.json\n",
      "Copied ../data/fed_speeches\\versions\\richmond_fed_speeches\\richmond_speeches.json to ../data/fed_speeches/versions\\versions\\richmond_fed_speeches\\richmond_speeches.json\n",
      "Copied ../data/fed_speeches\\versions\\sanfrancisco_fed_speeches\\sanfrancisco_speeches.json to ../data/fed_speeches/versions\\versions\\sanfrancisco_fed_speeches\\sanfrancisco_speeches.json\n",
      "Copied ../data/fed_speeches\\versions\\stlouis_fed_speeches\\stlouis_speeches.json to ../data/fed_speeches/versions\\versions\\stlouis_fed_speeches\\stlouis_speeches.json\n"
     ]
    }
   ],
   "source": [
    "import os\n",
    "import shutil\n",
    "\n",
    "def copy_speech_files(source_dir: str, target_dir: str):\n",
    "    \"\"\"\n",
    "    将源目录下所有以_fed_speeches结尾的文件夹中的所有以_speeches.json结尾的文件，\n",
    "    复制到目标目录中，并保留_fed_speeches文件夹这一层结构。\n",
    "\n",
    "    :param source_dir: 源目录路径\n",
    "    :param target_dir: 目标目录路径\n",
    "    \"\"\"\n",
    "    # 确保目标目录存在\n",
    "    if not os.path.exists(target_dir):\n",
    "        os.makedirs(target_dir)\n",
    "\n",
    "    # 遍历源目录下的所有文件和文件夹\n",
    "    for root, dirs, files in os.walk(source_dir):\n",
    "        for dir_name in dirs:\n",
    "            if dir_name.endswith('_fed_speeches'):\n",
    "                # 构建_fed_speeches文件夹的完整路径\n",
    "                fed_speeches_dir = os.path.join(root, dir_name)\n",
    "                # 计算_fed_speeches文件夹相对于源目录的相对路径\n",
    "                relative_path = os.path.relpath(fed_speeches_dir, source_dir)\n",
    "                # 构建目标_fed_speeches文件夹的完整路径\n",
    "                target_fed_speeches_dir = os.path.join(target_dir, relative_path)\n",
    "                # 确保目标_fed_speeches文件夹存在\n",
    "                if not os.path.exists(target_fed_speeches_dir):\n",
    "                    os.makedirs(target_fed_speeches_dir)\n",
    "                # 遍历_fed_speeches文件夹中的所有文件\n",
    "                for file_name in os.listdir(fed_speeches_dir):\n",
    "                    if file_name.endswith('_speeches.json'):\n",
    "                        # 构建源文件的完整路径\n",
    "                        source_file_path = os.path.join(fed_speeches_dir, file_name)\n",
    "                        # 构建目标文件的完整路径\n",
    "                        target_file_path = os.path.join(target_fed_speeches_dir, file_name)\n",
    "                        # 复制文件\n",
    "                        shutil.copy2(source_file_path, target_file_path)\n",
    "                        print(f\"Copied {source_file_path} to {target_file_path}\")\n",
    "\n",
    "# 示例调用\n",
    "source_directory = '../data/fed_speeches'\n",
    "target_directory = \"../data/fed_speeches/versions\"\n",
    "copy_speech_files(source_directory, target_directory)"
   ]
  },
  {
   "cell_type": "code",
   "execution_count": 3,
   "metadata": {},
   "outputs": [
    {
     "name": "stdout",
     "output_type": "stream",
     "text": [
      "['June 15, 2021', 'July 4, 2022']\n"
     ]
    }
   ],
   "source": [
    "import re\n",
    "\n",
    "def find_date_strings(text):\n",
    "    \"\"\"\n",
    "    在给定的文本中查找所有形如 '%B %d, %Y' 格式的日期字符串。\n",
    "\n",
    "    :param text: 输入的文本字符串\n",
    "    :return: 匹配到的日期字符串列表\n",
    "    \"\"\"\n",
    "    # 定义正则表达式模式\n",
    "    date_pattern = r'\\b(?:January|February|March|April|May|June|July|August|September|October|November|December)\\s+\\d{1,2},\\s+\\d{4}\\b'\n",
    "    \n",
    "    # 查找所有匹配的日期字符串\n",
    "    matches = re.findall(date_pattern, text)\n",
    "    \n",
    "    return matches\n",
    "\n",
    "# 示例调用\n",
    "text = \"The event is scheduled for June 15, 2021 and July 4, 2022. Please mark your calendars.\"\n",
    "dates = find_date_strings(text)\n",
    "print(dates)"
   ]
  }
 ],
 "metadata": {
  "kernelspec": {
   "display_name": "FOMCTS",
   "language": "python",
   "name": "python3"
  },
  "language_info": {
   "codemirror_mode": {
    "name": "ipython",
    "version": 3
   },
   "file_extension": ".py",
   "mimetype": "text/x-python",
   "name": "python",
   "nbconvert_exporter": "python",
   "pygments_lexer": "ipython3",
   "version": "3.12.6"
  }
 },
 "nbformat": 4,
 "nbformat_minor": 2
}
