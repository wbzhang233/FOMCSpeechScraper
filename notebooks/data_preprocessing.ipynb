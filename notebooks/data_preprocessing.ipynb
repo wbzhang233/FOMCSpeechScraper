{
 "cells": [
  {
   "cell_type": "markdown",
   "metadata": {},
   "source": [
    "# 讲话数据清洗及预处理\n",
    "\n",
    "@AUTHOR: WBZHANG / 01208663\n",
    "\n",
    "@DATE: Oct. 31, 2024"
   ]
  },
  {
   "cell_type": "code",
   "execution_count": 63,
   "metadata": {},
   "outputs": [
    {
     "name": "stdout",
     "output_type": "stream",
     "text": [
      "['../data/fed_speeches\\\\atlanta_fed_speeches', '../data/fed_speeches\\\\bog_fed_speeches', '../data/fed_speeches\\\\boston_fed_speeches', '../data/fed_speeches\\\\chicago_fed_speeches', '../data/fed_speeches\\\\cleveland_fed_speeches', '../data/fed_speeches\\\\dallas_fed_speeches', '../data/fed_speeches\\\\kansascity_fed_speeches', '../data/fed_speeches\\\\minneapolis_fed_speeches', '../data/fed_speeches\\\\newyork_fed_speeches', '../data/fed_speeches\\\\philadelphia_fed_speeches', '../data/fed_speeches\\\\richmond_fed_speeches', '../data/fed_speeches\\\\sanfrancisco_fed_speeches', '../data/fed_speeches\\\\stlouis_fed_speeches']\n"
     ]
    }
   ],
   "source": [
    "import os\n",
    "import sys\n",
    "\n",
    "sys.path.append(\"../\")\n",
    "import json\n",
    "import glob\n",
    "import numpy as np\n",
    "import pandas as pd\n",
    "from utils.file_saver import json_load, json_dump\n",
    "from utils.common import parse_datestring\n",
    "\n",
    "import locale\n",
    "# 保存当前区域设置\n",
    "original_locale = locale.getlocale()\n",
    "# 设置区域设置为英文\n",
    "locale.setlocale(locale.LC_TIME, \"en_US.UTF-8\")\n",
    "\n",
    "FED_SPEECHES_PATH = \"../data/fed_speeches/\"\n",
    "\n",
    "speech_dirs = glob.glob(FED_SPEECHES_PATH + \"*_speeches\")\n",
    "print(speech_dirs)"
   ]
  },
  {
   "cell_type": "markdown",
   "metadata": {},
   "source": [
    "## 1. Chicago联储讲话数据日期清洗"
   ]
  },
  {
   "cell_type": "code",
   "execution_count": 73,
   "metadata": {},
   "outputs": [
    {
     "name": "stdout",
     "output_type": "stream",
     "text": [
      "chicago_speech_path: ../data/fed_speeches\\chicago_fed_speeches\n"
     ]
    },
    {
     "data": {
      "text/plain": [
       "['../data/fed_speeches\\\\chicago_fed_speeches\\\\chicago_failed_speech_infos.json',\n",
       " '../data/fed_speeches\\\\chicago_fed_speeches\\\\chicago_speech_infos.json']"
      ]
     },
     "execution_count": 73,
     "metadata": {},
     "output_type": "execute_result"
    }
   ],
   "source": [
    "chicago_speech_path = speech_dirs[3]\n",
    "print(f\"chicago_speech_path: {chicago_speech_path}\")\n",
    "# 读取所有json文件\n",
    "chicago_speech_filenames = glob.glob(chicago_speech_path + \"//*_speech_infos.json\")\n",
    "chicago_speech_filenames"
   ]
  },
  {
   "cell_type": "code",
   "execution_count": 42,
   "metadata": {},
   "outputs": [
    {
     "data": {
      "text/plain": [
       "'August 15, 2012'"
      ]
     },
     "execution_count": 42,
     "metadata": {},
     "output_type": "execute_result"
    }
   ],
   "source": [
    "pd.to_datetime(\"2012-08-15\").strftime(format=\"%B %d, %Y\")"
   ]
  },
  {
   "cell_type": "code",
   "execution_count": 74,
   "metadata": {},
   "outputs": [
    {
     "name": "stdout",
     "output_type": "stream",
     "text": [
      "--------------------------------------------------\n",
      "--------------------------------------------------\n",
      "../data/fed_speeches\\chicago_fed_speeches\\chicago_failed_speech_infos.json was Done!\n",
      "--------------------------------------------------\n",
      "--------------------------------------------------\n",
      "--------------------------------------------------\n",
      "--------------------------------------------------\n",
      "--------------------------------------------------\n",
      "--------------------------------------------------\n",
      "--------------------------------------------------\n",
      "--------------------------------------------------\n",
      "--------------------------------------------------\n",
      "--------------------------------------------------\n",
      "--------------------------------------------------\n",
      "--------------------------------------------------\n",
      "--------------------------------------------------\n",
      "--------------------------------------------------\n",
      "--------------------------------------------------\n",
      "--------------------------------------------------\n",
      "--------------------------------------------------\n",
      "--------------------------------------------------\n",
      "--------------------------------------------------\n",
      "--------------------------------------------------\n",
      "--------------------------------------------------\n",
      "--------------------------------------------------\n",
      "--------------------------------------------------\n",
      "https://www.chicagofed.org/publications/speeches/2015/cautious-approach-to-monetary-policy-normalization - None\n",
      "https://www.chicagofed.org/publications/speeches/2015/risks-call-for-gradual-approach-normalizing-monetary-policy-chicago - None\n",
      "https://www.chicagofed.org/publications/speeches/2015/monetary-policy-avoiding-hazards-cfa-milwaukee-evans - None\n",
      "https://www.chicagofed.org/publications/speeches/2015/marquette-thoughts-on-leadership-and-monetary-policy - None\n",
      "https://www.chicagofed.org/publications/speeches/2015/nabe-exercising-caution-in-normalizing-monetary-policy - None\n",
      "--------------------------------------------------\n",
      "--------------------------------------------------\n",
      "--------------------------------------------------\n",
      "--------------------------------------------------\n",
      "--------------------------------------------------\n",
      "--------------------------------------------------\n",
      "--------------------------------------------------\n",
      "--------------------------------------------------\n",
      "https://www.chicagofed.org/publications/speeches/2019/innovation-on-the-fringe-and-at-the-core - None\n",
      "https://www.chicagofed.org/publications/speeches/2019/fed-listens-2-welcome-and-introduction - None\n",
      "https://www.chicagofed.org/publications/speeches/2019/on-risk-management-in-monetary-policy - None\n",
      "https://www.chicagofed.org/publications/speeches/2019/on-mid-cycle-adjustments - None\n",
      "https://www.chicagofed.org/publications/speeches/2019/north-american-trade-and-auto-sector - None\n",
      "https://www.chicagofed.org/publications/speeches/2019/fed-listens-opening-remarks - None\n",
      "https://www.chicagofed.org/publications/speeches/2019/the-risks-of-attending-and-financing-college - None\n",
      "https://www.chicagofed.org/publications/speeches/2019/long-term-economic-trends-and-monetary-policy-frameworks-and-strategies - None\n",
      "https://www.chicagofed.org/publications/speeches/2019/on-risk-and-credibility-in-monetary-policy - None\n",
      "https://www.chicagofed.org/publications/speeches/2019/risk-management-and-the-credibility-of-monetary-policy - None\n",
      "https://www.chicagofed.org/publications/speeches/2019/revisiting-risk-management - None\n",
      "https://www.chicagofed.org/publications/speeches/2019/monteary-policy-assessing-crosscurrents-milwaukee - None\n",
      "https://www.chicagofed.org/publications/speeches/2019/monetary-policy-assessing-crosscurrents-discover - None\n",
      "--------------------------------------------------\n",
      "--------------------------------------------------\n",
      "https://www.chicagofed.org/publications/speeches/2020/bank-management-directors-conference - None\n",
      "https://www.chicagofed.org/publications/speeches/2020/iowa-bankers-association - None\n",
      "https://www.chicagofed.org/publications/speeches/2020/uneven-recovery-and-the-path-ahead - None\n",
      "https://www.chicagofed.org/publications/speeches/2020/new-long-run-framework - None\n",
      "https://www.chicagofed.org/publications/speeches/2020/challenges-opportunities-in-hardest-hit-neighborhoods - None\n",
      "https://www.chicagofed.org/publications/speeches/2020/covid-19-and-the-future-of-the-economy - None\n",
      "https://www.chicagofed.org/publications/speeches/2020/future-of-economy - None\n",
      "https://www.chicagofed.org/publications/speeches/2020/covid-19 - None\n",
      "https://www.chicagofed.org/publications/speeches/2020/countering-downward-bias-in-inflation-slides - None\n",
      "https://www.chicagofed.org/publications/speeches/2020/countering-downward-bias-in-inflation - None\n",
      "https://www.chicagofed.org/publications/speeches/2020/panel-remarks-and-intros - None\n",
      "--------------------------------------------------\n",
      "--------------------------------------------------\n",
      "https://www.chicagofed.org/publications/speeches/2021/challenges-resiliency-opportunities-transcript - None\n",
      "https://www.chicagofed.org/publications/speeches/2021/current-state-economic-recovery - None\n",
      "https://www.chicagofed.org/publications/speeches/2021/sabew-5-10 - None\n",
      "https://www.chicagofed.org/publications/speeches/2021/levy-economics-institute-conference - None\n",
      "https://www.chicagofed.org/publications/speeches/2021/promising-outlook-opportunity-community-colleges - None\n",
      "https://www.chicagofed.org/publications/speeches/2021/women-in-housing-and-finance - None\n",
      "https://www.chicagofed.org/publications/speeches/2021/jas-perspectives-on-the-economy - None\n",
      "https://www.chicagofed.org/publications/speeches/2021/challenges-resiliency-opportunities - None\n",
      "https://www.chicagofed.org/publications/speeches/2021/economic-disucssion-with-charles-evans - None\n",
      "https://www.chicagofed.org/publications/speeches/2021/new-policy-framework-and-financial-stability - None\n",
      "https://www.chicagofed.org/publications/speeches/2021/the-road-ahead-under-new-framework - None\n",
      "--------------------------------------------------\n",
      "--------------------------------------------------\n",
      "--------------------------------------------------\n",
      "--------------------------------------------------\n",
      "--------------------------------------------------\n",
      "--------------------------------------------------\n",
      "--------------------------------------------------\n",
      "../data/fed_speeches\\chicago_fed_speeches\\chicago_speech_infos.json was Done!\n"
     ]
    }
   ],
   "source": [
    "def extract_speech_date(speech: dict):\n",
    "    try:\n",
    "        # 年份\n",
    "        year = speech[\"href\"].split('/')[-2]\n",
    "        # 最后的划分日期\n",
    "        title = speech[\"href\"].split(\"/\")[-1]\n",
    "        month, date = title.split(\"-\")[0], title.split(\"-\")[1]\n",
    "        # 转为日期\n",
    "        if month.isdigit():\n",
    "            # print(f\"{year}-{month}-{date}\")\n",
    "            speech_date = pd.to_datetime(f\"{year}-{month}-{date}\")\n",
    "        else:\n",
    "            # print(f\"{month}. {date}, {year}\")\n",
    "            speech_date = pd.to_datetime(f\"{month}. {date}, {year}\")\n",
    "        # 若记录日期为空、或者年份与识别日期年份不一致，则更新日期\n",
    "        # print(\n",
    "        #     \"{} is going to be replace by {}\".format(\n",
    "        #         speech[\"date\"], speech_date.date().strftime(format=\"%B %d, %Y\")\n",
    "        #     )\n",
    "        # )\n",
    "        return speech_date.strftime(\"%B %d, %Y\")  # speech[\"date\"] =\n",
    "    except Exception as e:\n",
    "        # msg = \"Error  {} occured when processing {}.\".format(repr(e), speech[\"href\"])\n",
    "        # print(msg)\n",
    "        return None\n",
    "    \n",
    "def amend_record_speech_date(speeches: list):\n",
    "    for speech in speeches:\n",
    "        # print(\"-\"*100)\n",
    "        # print(\"{} | {}\".format(speech[\"href\"], speech[\"date\"]))\n",
    "        # 根据href进行识别\n",
    "        year = speech[\"href\"].split('/')[-2]\n",
    "        # 如果日期存在且年份相同，则不识别作更换\n",
    "        if speech[\"date\"] and parse_datestring(speech[\"date\"]).strftime(\"%Y\") == year:\n",
    "            continue\n",
    "        # 如果解析成功，则做替换\n",
    "        speech_date = extract_speech_date(speech)\n",
    "        if speech_date:\n",
    "            speech[\"date\"] = speech_date\n",
    "    # 查看是否还有没有日期为空的\n",
    "    print(\"-\"*50)\n",
    "    for speech in speeches:\n",
    "        if not speech[\"date\"]:\n",
    "            print(\"{} - {}\".format(speech[\"href\"], speech[\"date\"]))\n",
    "    print(\"-\" * 50)\n",
    "    return speeches\n",
    "\n",
    "\n",
    "def amend_speech_date(speeches_filepath: str):\n",
    "    \"\"\"修正演讲日期\n",
    "\n",
    "    Args:\n",
    "        speeches_filepath (str): _description_\n",
    "    \"\"\"\n",
    "    speeches = json_load(speeches_filepath)\n",
    "    if isinstance(speeches, list):\n",
    "        speeches = amend_record_speech_date(speeches)  \n",
    "    elif isinstance(speeches, dict):\n",
    "        for k, single_year_speeches in speeches.items():\n",
    "            speeches[k] = amend_record_speech_date(single_year_speeches)\n",
    "\n",
    "    json_dump(speeches, speeches_filepath)\n",
    "    print(\"{} was Done!\".format(speeches_filepath))\n",
    "\n",
    "for filepath in chicago_speech_filenames:\n",
    "    amend_speech_date(filepath)"
   ]
  },
  {
   "cell_type": "code",
   "execution_count": null,
   "metadata": {},
   "outputs": [],
   "source": []
  }
 ],
 "metadata": {
  "kernelspec": {
   "display_name": "FOMCTS",
   "language": "python",
   "name": "python3"
  },
  "language_info": {
   "codemirror_mode": {
    "name": "ipython",
    "version": 3
   },
   "file_extension": ".py",
   "mimetype": "text/x-python",
   "name": "python",
   "nbconvert_exporter": "python",
   "pygments_lexer": "ipython3",
   "version": "3.12.6"
  }
 },
 "nbformat": 4,
 "nbformat_minor": 2
}
