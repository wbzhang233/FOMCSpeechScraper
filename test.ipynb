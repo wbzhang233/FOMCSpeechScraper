{
 "cells": [
  {
   "cell_type": "code",
   "execution_count": 32,
   "metadata": {},
   "outputs": [
    {
     "data": {
      "text/plain": [
       "'Mary'"
      ]
     },
     "execution_count": 32,
     "metadata": {},
     "output_type": "execute_result"
    }
   ],
   "source": [
    "import re\n",
    "\n",
    "speaker = \"Marys Speeches\"\n",
    "re.sub(r\"['’]*s* Speeches\", \"\", speaker)"
   ]
  },
  {
   "cell_type": "code",
   "execution_count": 8,
   "metadata": {},
   "outputs": [
    {
     "name": "stdout",
     "output_type": "stream",
     "text": [
      "Matched: Feb 02, 2024\n",
      "Matched: Feb. 02, 2024\n",
      "Matched: February 02, 2024\n",
      "Matched: February 2, 2024\n"
     ]
    }
   ],
   "source": [
    "import re\n",
    "\n",
    "# 定义正则表达式\n",
    "date_pattern = r\"\"\"\n",
    "^(Jan(uary)?|Feb(ruary)?|Mar(ch)?|Apr(il)?|May|Jun(e)?|Jul(y)?|Aug(ust)?|Sep(tember)?|Oct(ober)?|Nov(ember)?|Dec(ember)?).*\\s+  # 月份\n",
    "(\\d{1,2}),\\s+  # 日，带逗号\n",
    "(\\d{4})$       # 年份\n",
    "\"\"\"\n",
    "\n",
    "# 测试字符串\n",
    "test_dates = [\n",
    "    \"Feb 02, 2024\",\n",
    "    \"Feb. 02, 2024\",\n",
    "    \"February 02, 2024\",\n",
    "    \"February 2, 2024\"\n",
    "]\n",
    "\n",
    "# 匹配测试\n",
    "for date in test_dates:\n",
    "    match = re.fullmatch(date_pattern, date, re.IGNORECASE | re.VERBOSE)\n",
    "    if match:\n",
    "        print(f\"Matched: {date}\")\n",
    "    else:\n",
    "        print(f\"Not matched: {date}\")"
   ]
  },
  {
   "cell_type": "code",
   "execution_count": 9,
   "metadata": {},
   "outputs": [],
   "source": [
    "date_patterns = [\n",
    "    r\"\"\"\n",
    "^(January|February|March|April|May|June|July|August|September|October|November|December)\\s+  # 月份\n",
    "(\\d{1,2}),\\s+  # 日，带逗号\n",
    "(\\d{4})$       # 年份\n",
    "\"\"\",  # %B %d, %Y\n",
    "    r\"\"\"\n",
    "^(Jan|Feb|Mar|Apr|May|Jun|Jul|Aug|Sep|Oct|Nov|Dec)\\s+  # 月份\n",
    "(\\d{1,2}),\\s+  # 日，带逗号\n",
    "(\\d{4})$       # 年份\n",
    "\"\"\",  # %b %d, %Y\n",
    "    r\"\"\"\n",
    "^(Jan|Feb|Mar|Apr|May|Jun|Jul|Aug|Sep|Oct|Nov|Dec).\\s+  # 月份\n",
    "(\\d{1,2}),\\s+  # 日，带逗号\n",
    "(\\d{4})$       # 年份\n",
    "\"\"\",  # %b. %d, %Y\n",
    "]"
   ]
  },
  {
   "cell_type": "code",
   "execution_count": 27,
   "metadata": {},
   "outputs": [
    {
     "name": "stdout",
     "output_type": "stream",
     "text": [
      "<re.Match object; span=(0, 16), match='December 1, 2024'>\n",
      "2024-12-01 00:00:00\n"
     ]
    }
   ],
   "source": [
    "from datetime import datetime\n",
    "\n",
    "date = \"December 1, 2024\"\n",
    "print(re.fullmatch(date_patterns[0], date, re.IGNORECASE | re.VERBOSE))\n",
    "print(datetime.strptime(date, \"%B %d, %Y\"))"
   ]
  },
  {
   "cell_type": "code",
   "execution_count": 34,
   "metadata": {},
   "outputs": [
    {
     "name": "stdout",
     "output_type": "stream",
     "text": [
      "True\n"
     ]
    }
   ],
   "source": [
    "dt = {\n",
    "    \"2021\": [1, 2],\n",
    "    \"2022\": [3, 4],\n",
    "    \"2023\": [5, 2],\n",
    "}\n",
    "# max([k for k, v in dt.items()])\n",
    "print('2023' in dt)"
   ]
  },
  {
   "cell_type": "code",
   "execution_count": 31,
   "metadata": {},
   "outputs": [
    {
     "name": "stdout",
     "output_type": "stream",
     "text": [
      "2024-04-01 00:00:00\n",
      "2024-12-01 00:00:00\n",
      "2024-10-01 00:00:00\n"
     ]
    }
   ],
   "source": [
    "from datetime import datetime\n",
    "date_strings = [\"Apr 01, 2024\", \"December 1, 2024\", \"Oct 1, 2024\"]\n",
    "for date_str in date_strings:    \n",
    "    try:\n",
    "        if re.fullmatch(date_patterns[0], date_str, re.IGNORECASE | re.VERBOSE):\n",
    "            print(datetime.strptime(date_str, \"%B %d, %Y\"))\n",
    "        elif re.fullmatch(date_patterns[1], date_str, re.IGNORECASE | re.VERBOSE):\n",
    "            print(datetime.strptime(date_str, \"%b %d, %Y\"))\n",
    "        elif re.fullmatch(date_patterns[2], date_str, re.IGNORECASE | re.VERBOSE):\n",
    "            print(datetime.strptime(date_str, \"%b. %d, %Y\"))\n",
    "        else:\n",
    "            print(date_str)\n",
    "    except ValueError as e:\n",
    "        print(date_str + f' | {repr(e)}')\n",
    "    except Exception as e:\n",
    "        print(e)"
   ]
  }
 ],
 "metadata": {
  "kernelspec": {
   "display_name": "FOMCTS",
   "language": "python",
   "name": "python3"
  },
  "language_info": {
   "codemirror_mode": {
    "name": "ipython",
    "version": 3
   },
   "file_extension": ".py",
   "mimetype": "text/x-python",
   "name": "python",
   "nbconvert_exporter": "python",
   "pygments_lexer": "ipython3",
   "version": "3.12.6"
  }
 },
 "nbformat": 4,
 "nbformat_minor": 2
}
